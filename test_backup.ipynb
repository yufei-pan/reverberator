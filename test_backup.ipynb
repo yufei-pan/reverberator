{
 "cells": [
  {
   "cell_type": "code",
   "execution_count": 1,
   "metadata": {},
   "outputs": [],
   "source": [
    "#! /usr/bin/env python3\n",
    "import multiCMD\n",
    "import TSVZ\n",
    "import inotify_simple\n",
    "import Tee_Logger\n",
    "import argparse\n",
    "import xxhash\n",
    "\n",
    "from collections import deque\n",
    "import time\n",
    "from collections import namedtuple\n",
    "from collections import OrderedDict\n",
    "import os\n",
    "import threading\n",
    "import sys\n",
    "import signal\n",
    "import resource\n",
    "import datetime\n",
    "import unicodedata\n",
    "import re\n",
    "from shutil import copystat\n",
    "\n",
    "# for the lib wrapping aroung inotify, I tried\n",
    "# wtr-wather, watchdog, watchfiles\n",
    "# None of them seem to work well with the most basic tests\n",
    "# I need it to work with:\n",
    "# 1. able to notice changes recursively\n",
    "# 2. able to notice changes in the folders\n",
    "# 3. do not incorrectly group move events\n",
    "# 4. recognize mkdir -p properly\n",
    "# 5. notice umount events and notify properly\n",
    "# 6. notice mount events and notify properly\n",
    "# 7. compatible with symlink events \n",
    "\n",
    "\n",
    "__version__ = 0.01\n",
    "\n",
    "## WIP\n",
    "\n",
    "# @dataclass\n",
    "# class ChangeEvent:\n",
    "# \tmonotonic_time:float\n",
    "# \t# type can be file or dir.\n",
    "# \ttype:str\n",
    "# \t# if type is dir, event can be create \n",
    "# \t#  ( need to recursively copy everything as inotifywait does not caputre mkdir -p properly for all sub folders),\n",
    "# \t#  ,delete, attrib, move\n",
    "# \t# if type is file, event can be delete, change, attrib, move\n",
    "# \t# move detection will be handled by monitor if moved_from moved_to events were captured. \n",
    "# \t# it will use an tsv storing all the path inode number and hash to detect move.\n",
    "# \tevent:str\n",
    "# \tpath:str\n",
    "# \tmoved_from:str = None\n",
    "\n",
    "\n",
    "# if type is dir, event can be create \n",
    "#  ( need to recursively copy everything as inotifywait does not caputre mkdir -p properly for all sub folders),\n",
    "#  ,delete, attrib, move\n",
    "# if type is file, event can be delete, change, attrib, move\n",
    "# move detection will be handled by monitor if moved_from moved_to events were captured. \n",
    "# it will use an tsv storing all the path inode number and hash to detect move.\n",
    "CHANGED_EVENT_HEADER = ['monotonic_time', 'is_dir', 'event', 'path','moved_from']\n",
    "BACKUP_ENTRY_VALUES_HEADER = ['iso_time','event','source_path']\n",
    "BACKUP_JOURNAL_HEADER = ['at_path','iso_time','event','source_path']\n",
    "REVERB_RULE_TSV_HEADER = ['Job Name (Unique Key)', 'Path Monitoring', 'Monitoring File System Signiture', \n",
    "\t\t'Minium snapshot time', 'Vault Path', 'Keep 1 Compelete Backup', \n",
    "\t\t'Only Sync Attributes (permissions)', 'Keep N versions', 'Backup Size Limit', \n",
    "\t\t'Vault File System Signiture']\n",
    "REVERB_RULE_HEADER = ['job_name', 'mon_path', 'mon_fs_signiture', \n",
    "\t\t'min_shapshot_time', 'vault_path', 'keep_one_complete_backup', \n",
    "\t\t'only_sync_attributes', 'keep_n_versions', 'backup_size_limit',\n",
    "\t\t'vault_fs_signiture']\n",
    "VAULT_ENTRY_HEADER = ['version_number','path','timestamp','size','inode']\n",
    "VAULT_TIMESTAMP_FORMAT = '%Y-%m-%d_%H-%M-%S_%z'\n",
    "\n",
    "ChangeEvent = namedtuple('ChangeEvent', CHANGED_EVENT_HEADER)\n",
    "BackupEntryValues = namedtuple('BackupEntryValues', BACKUP_ENTRY_VALUES_HEADER)\n",
    "ReverbRule = namedtuple('ReverbRule', REVERB_RULE_HEADER)\n",
    "VaultEntry = namedtuple('VaultEntry', VAULT_ENTRY_HEADER)\n",
    "\n",
    "# by defualt, set the max backup threads to 2* the number of cores\n",
    "BACKUP_SEMAPHORE = threading.Semaphore(2*os.cpu_count())\n",
    "\n",
    "DEFAULT_SNAPSHOT_DELAY = 60\n",
    "DEFAULT_KEEP_ONE_COMPLETE_BACKUP = False\n",
    "DEFAULT_ONLY_SYNC_ATTRIBUTES = False\n",
    "DEFAULT_KEEP_N_VERSIONS = 30\n",
    "DEFAULT_BACKUP_SIZE_LIMIT = '5%'\n",
    "\n",
    "ARG_MAX = os.sysconf('SC_ARG_MAX')\n",
    "ARGUMENT_LIMIT = (ARG_MAX - 4096) // 2048\n",
    "\n",
    "COOKIE_DICT_MAX_SIZE = 16384\n",
    "COOKIE_VALUE = namedtuple('COOKIE_VALUE',['wd','path','isDir'])\n",
    "\n",
    "GREEN_LIGHT = threading.Event()\n",
    "GREEN_LIGHT.set()\n",
    "\n",
    "DEBUG = True\n",
    "\n",
    "tl = Tee_Logger.teeLogger(systemLogFileDir='/dev/null', programName='reverberator', compressLogAfterMonths=0, deleteLogAfterYears=0, suppressPrintout=False,noLog=True)\n"
   ]
  },
  {
   "cell_type": "code",
   "execution_count": 140,
   "metadata": {},
   "outputs": [],
   "source": [
    "def get_path_size(*path:str):\n",
    "\tglobal DEBUG\n",
    "\t# this function gets the actual size of a path\n",
    "\t# du --bytes -s <path>\n",
    "\tif DEBUG:\n",
    "\t\tstartTime = time.perf_counter()\n",
    "\trtn = multiCMD.run_command(['du','--block-size=1','-csP',*path],quiet=True)\n",
    "\tif DEBUG:\n",
    "\t\tprint(f'get_path_size took {time.perf_counter()-startTime} seconds')\n",
    "\tif rtn and rtn[-1] and rtn[-1].partition('\\t')[0].isdigit():\n",
    "\t\treturn int(rtn[-1].partition('\\t')[0])\n",
    "\telse:\n",
    "\t\treturn 0"
   ]
  },
  {
   "cell_type": "code",
   "execution_count": 2,
   "metadata": {},
   "outputs": [],
   "source": [
    "def format_bytes(size, use_1024_bytes=None, to_int=False, to_str=False,str_format='.2f'):\n",
    "\t\"\"\"\n",
    "\tFormat the size in bytes to a human-readable format or vice versa.\n",
    "\tFrom hpcp: https://github.com/yufei-pan/hpcp\n",
    "\n",
    "\tArgs:\n",
    "\t\tsize (int or str): The size in bytes or a string representation of the size.\n",
    "\t\tuse_1024_bytes (bool, optional): Whether to use 1024 bytes as the base for conversion. If None, it will be determined automatically. Default is None.\n",
    "\t\tto_int (bool, optional): Whether to convert the size to an integer. Default is False.\n",
    "\t\tto_str (bool, optional): Whether to convert the size to a string representation. Default is False.\n",
    "\t\tstr_format (str, optional): The format string to use when converting the size to a string. Default is '.2f'.\n",
    "\n",
    "\tReturns:\n",
    "\t\tint or str: The formatted size based on the provided arguments.\n",
    "\n",
    "\tExamples:\n",
    "\t\t>>> format_bytes(1500)\n",
    "\t\t'1.50 KB'\n",
    "\t\t>>> format_bytes('1.5 GiB', to_int=True)\n",
    "\t\t1610612736\n",
    "\t\"\"\"\n",
    "\tif to_int or isinstance(size, str):\n",
    "\t\tif isinstance(size, int):\n",
    "\t\t\treturn size\n",
    "\t\telif isinstance(size, str):\n",
    "\t\t\t# Use regular expression to split the numeric part from the unit, handling optional whitespace\n",
    "\t\t\tmatch = re.match(r\"(\\d+(\\.\\d+)?)\\s*([a-zA-Z]*)\", size)\n",
    "\t\t\tif not match:\n",
    "\t\t\t\tprint(\"Invalid size format. Expected format: 'number [unit]', e.g., '1.5 GiB' or '1.5GiB'\")\n",
    "\t\t\t\tprint(f\"Got: {size}\")\n",
    "\t\t\t\treturn 0\n",
    "\t\t\tnumber, _, unit = match.groups()\n",
    "\t\t\tnumber = float(number)\n",
    "\t\t\tunit  = unit.strip().lower().rstrip('b')\n",
    "\t\t\t# Define the unit conversion dictionary\n",
    "\t\t\tif unit.endswith('i'):\n",
    "\t\t\t\t# this means we treat the unit as 1024 bytes if it ends with 'i'\n",
    "\t\t\t\tuse_1024_bytes = True\n",
    "\t\t\telif use_1024_bytes is None:\n",
    "\t\t\t\tuse_1024_bytes = False\n",
    "\t\t\tunit  = unit.rstrip('i')\n",
    "\t\t\tif use_1024_bytes:\n",
    "\t\t\t\tpower = 2**10\n",
    "\t\t\telse:\n",
    "\t\t\t\tpower = 10**3\n",
    "\t\t\tunit_labels = {'': 0, 'k': 1, 'm': 2, 'g': 3, 't': 4, 'p': 5}\n",
    "\t\t\tif unit not in unit_labels:\n",
    "\t\t\t\tprint(f\"Invalid unit '{unit}'. Expected one of {list(unit_labels.keys())}\")\n",
    "\t\t\t\treturn 0\n",
    "\t\t\t# Calculate the bytes\n",
    "\t\t\treturn int(number * (power ** unit_labels[unit]))\n",
    "\t\telse:\n",
    "\t\t\ttry:\n",
    "\t\t\t\treturn int(size)\n",
    "\t\t\texcept Exception as e:\n",
    "\t\t\t\treturn 0\n",
    "\telif to_str or isinstance(size, int) or isinstance(size, float):\n",
    "\t\tif isinstance(size, str):\n",
    "\t\t\ttry:\n",
    "\t\t\t\tsize = size.lower().strip().rstrip('b')\n",
    "\t\t\t\tsize = float(size)\n",
    "\t\t\texcept Exception as e:\n",
    "\t\t\t\treturn size\n",
    "\t\t# size is in bytes\n",
    "\t\tif use_1024_bytes or use_1024_bytes is None:\n",
    "\t\t\tpower = 2**10\n",
    "\t\t\tn = 0\n",
    "\t\t\tpower_labels = {0 : '', 1: 'Ki', 2: 'Mi', 3: 'Gi', 4: 'Ti', 5: 'Pi'}\n",
    "\t\t\twhile size > power:\n",
    "\t\t\t\tsize /= power\n",
    "\t\t\t\tn += 1\n",
    "\t\t\treturn f\"{size:{str_format}}{' '}{power_labels[n]}\"\n",
    "\t\telse:\n",
    "\t\t\tpower = 10**3\n",
    "\t\t\tn = 0\n",
    "\t\t\tpower_labels = {0 : '', 1: 'K', 2: 'M', 3: 'G', 4: 'T', 5: 'P'}\n",
    "\t\t\twhile size > power:\n",
    "\t\t\t\tsize /= power\n",
    "\t\t\t\tn += 1\n",
    "\t\t\treturn f\"{size:{str_format}}{' '}{power_labels[n]}\"\n",
    "\telse:\n",
    "\t\ttry:\n",
    "\t\t\treturn format_bytes(float(size), use_1024_bytes)\n",
    "\t\texcept Exception as e:\n",
    "\t\t\timport traceback\n",
    "\t\t\tprint(f\"Error: {e}\")\n",
    "\t\t\tprint(traceback.format_exc())\n",
    "\t\t\tprint(f\"Invalid size: {size}\")\n",
    "\t\treturn 0\n"
   ]
  },
  {
   "cell_type": "code",
   "execution_count": 52,
   "metadata": {},
   "outputs": [],
   "source": [
    "def get_path_inodes(*path:str):\n",
    "\tglobal DEBUG\n",
    "\t# this function gets the number of inodes in a path\n",
    "\t# df --inodes -s <path>\n",
    "\tif DEBUG:\n",
    "\t\tstartTime = time.perf_counter()\n",
    "\trtn = multiCMD.run_command(['du','--inodes','-cs',*path],quiet=True)\n",
    "\tif DEBUG:\n",
    "\t\tprint(f'get_path_inodes of {[*path]} took {time.perf_counter()-startTime} seconds')\n",
    "\tif rtn and rtn[-1] and rtn[-1].partition('\\t')[0].isdigit():\n",
    "\t\treturn int(rtn[-1].partition('\\t')[0])\n",
    "\telse:\n",
    "\t\treturn 0\n"
   ]
  },
  {
   "cell_type": "code",
   "execution_count": 138,
   "metadata": {},
   "outputs": [],
   "source": [
    "def get_vault_info(job_vault_path:str,recalculate:bool=False) -> tuple:\n",
    "\t# job vault subfolder should follow: V{version}--{ISO8601ish time}--{size of this backup}-{inodes of this backup}\n",
    "\t# ex. V0--2021-01-01_00-00-00_-0800--1.3_GiB-4.2K_ino\n",
    "\tglobal DEBUG\n",
    "\tglobal tl\n",
    "\tglobal VAULT_TIMESTAMP_FORMAT\n",
    "\tif not os.path.exists(job_vault_path):\n",
    "\t\ttl.teeerror(f'Job vault path {job_vault_path} does not exist')\n",
    "\t\treturn {}, 0, 0\n",
    "\t# if the symlink is broken, we will try to find the latest version folder\n",
    "\tvault_info_dict = {}\n",
    "\tvault_size = 0\n",
    "\tvault_inodes = 0\n",
    "\ttry:\n",
    "\t\tfor entry in os.scandir(job_vault_path):\n",
    "\t\t\tif entry.is_dir() and entry.name.startswith('V') and '--' in entry.name:\n",
    "\t\t\t\tversion_number_str = entry.name.lstrip('V').partition('--')[0]\n",
    "\t\t\t\tif version_number_str.isdigit():\n",
    "\t\t\t\t\tversion_number = int(version_number_str)\n",
    "\t\t\t\t\ttry:\n",
    "\t\t\t\t\t\tif not recalculate:\n",
    "\t\t\t\t\t\t\tentry_size_inode_str = entry.name.rpartition('--')[2]\n",
    "\t\t\t\t\t\t\tentry_size_str = entry_size_inode_str.partition('-')[0].replace('_','')\n",
    "\t\t\t\t\t\t\tentry_size = format_bytes(entry_size_str,to_int=True)\n",
    "\t\t\t\t\t\t\tentry_inode_str = entry_size_inode_str.rpartition('-')[2].replace('_ino','')\n",
    "\t\t\t\t\t\t\tentry_inode = format_bytes(entry_inode_str,to_int=True)\n",
    "\t\t\t\t\t\t\tvault_size += entry_size\n",
    "\t\t\t\t\t\t\tvault_inodes += entry_inode\n",
    "\t\t\t\t\t\t\tentry_timestamp = datetime.datetime.strptime(entry.name.partition('--')[2].rpartition('--')[0],VAULT_TIMESTAMP_FORMAT).timestamp()\n",
    "\t\t\t\t\t\t\t#VAULT_ENTRY_HEADER = ['version_number','path','timestamp','size','inode']\n",
    "\t\t\t\t\t\t\tvault_info_dict[version_number] = VaultEntry(version_number,entry.path,entry_timestamp,entry_size,entry_inode)\n",
    "\t\t\t\t\t\telse:\n",
    "\t\t\t\t\t\t\t# we will recalculate the size and inodes for the folders and rename the folders accordingly\n",
    "\t\t\t\t\t\t\tentry_size = get_path_size(entry.path)\n",
    "\t\t\t\t\t\t\tentry_inode = get_path_inodes(entry.path)\n",
    "\t\t\t\t\t\t\tvault_size += entry_size\n",
    "\t\t\t\t\t\t\tvault_inodes += entry_inode\n",
    "\t\t\t\t\t\t\tbackup_size_str = format_bytes(entry_size,use_1024_bytes=True,to_str=True).replace(' ','_')\n",
    "\t\t\t\t\t\t\tbackup_inode_str = format_bytes(entry_inode,use_1024_bytes=False,to_str=True).replace(' ','')\n",
    "\t\t\t\t\t\t\tentry_timestamp = datetime.datetime.strptime(entry.name.partition('--')[2].rpartition('--')[0],VAULT_TIMESTAMP_FORMAT).timestamp()\n",
    "\t\t\t\t\t\t\tnew_entry_name = f'V{version_number}--{datetime.datetime.fromtimestamp(entry_timestamp).astimezone().strftime(VAULT_TIMESTAMP_FORMAT)}--{backup_size_str}B-{backup_inode_str}_ino'\n",
    "\t\t\t\t\t\t\tif entry.name != new_entry_name:\n",
    "\t\t\t\t\t\t\t\ttl.teeprint(f'Renaming {entry.name} to {new_entry_name}')\n",
    "\t\t\t\t\t\t\t\ttry:\n",
    "\t\t\t\t\t\t\t\t\tnew_entry_path = os.path.join(job_vault_path,new_entry_name)\n",
    "\t\t\t\t\t\t\t\t\tos.rename(entry.path,new_entry_path)\n",
    "\t\t\t\t\t\t\t\t\tvault_info_dict[version_number] = VaultEntry(version_number,new_entry_path,entry_timestamp,entry_size,entry_inode)\n",
    "\t\t\t\t\t\t\t\texcept Exception as e:\n",
    "\t\t\t\t\t\t\t\t\ttl.teeerror(f'Error renaming {entry.name} to {new_entry_name}: {e}')\n",
    "\t\t\t\t\t\t\t\t\tcontinue\n",
    "\t\t\t\t\t\t\telse:\n",
    "\t\t\t\t\t\t\t\tvault_info_dict[version_number] = VaultEntry(version_number,entry.path,entry_timestamp,entry_size,entry_inode)\n",
    "\t\t\t\t\texcept:\n",
    "\t\t\t\t\t\tif DEBUG:\n",
    "\t\t\t\t\t\t\timport traceback\n",
    "\t\t\t\t\t\t\ttl.teeerror(f'Error processing {entry.name}: {traceback.format_exc()}')\n",
    "\texcept PermissionError:\n",
    "\t\ttl.teeerror(f'Permission error while scanning {job_vault_path}')\n",
    "\treturn OrderedDict(sorted(vault_info_dict.items())), vault_size, vault_inodes\n"
   ]
  },
  {
   "cell_type": "code",
   "execution_count": 47,
   "metadata": {},
   "outputs": [
    {
     "data": {
      "text/plain": [
       "'1.00 '"
      ]
     },
     "execution_count": 47,
     "metadata": {},
     "output_type": "execute_result"
    }
   ],
   "source": [
    "format_bytes(1, to_str=True)"
   ]
  },
  {
   "cell_type": "code",
   "execution_count": 141,
   "metadata": {},
   "outputs": [
    {
     "name": "stdout",
     "output_type": "stream",
     "text": [
      "get_path_size took 0.004089745998498984 seconds\n",
      "get_path_inodes of ['test_vault/V3--2021-01-01_00-00-00_-0800--2.17_KiB-100.00_ino'] took 0.003859294010908343 seconds\n",
      "\u001b[0mRenaming V3--2021-01-01_00-00-00_-0800--2.17_KiB-100.00_ino to V3--2021-01-01_00-00-00_-0800--132.00_KiB-100.00_ino\u001b[0m\n",
      "get_path_size took 0.005838608005433343 seconds\n",
      "get_path_inodes of ['test_vault/V4--2021-12-31_16-00-00_-0800--2.76_KiB-109.00_ino'] took 0.0039017529925331473 seconds\n",
      "\u001b[0mRenaming V4--2021-12-31_16-00-00_-0800--2.76_KiB-109.00_ino to V4--2021-12-31_16-00-00_-0800--164.00_KiB-109.00_ino\u001b[0m\n",
      "get_path_size took 0.0018159080063924193 seconds\n",
      "get_path_inodes of ['test_vault/V2--2020-01-01_00-00-00_-0800--56.00_B-2.00_ino'] took 0.0013366789935389534 seconds\n",
      "\u001b[0mRenaming V2--2020-01-01_00-00-00_-0800--56.00_B-2.00_ino to V2--2020-01-01_00-00-00_-0800--4.00_KiB-2.00_ino\u001b[0m\n",
      "get_path_size took 0.0015047140041133389 seconds\n",
      "get_path_inodes of ['test_vault/V0--2021-01-01_00-00-00_-0800--13.00_B-3.00_ino'] took 0.00123979699856136 seconds\n",
      "\u001b[0mRenaming V0--2021-01-01_00-00-00_-0800--13.00_B-3.00_ino to V0--2021-01-01_00-00-00_-0800--8.00_KiB-3.00_ino\u001b[0m\n",
      "get_path_size took 0.0012208810076117516 seconds\n",
      "get_path_inodes of ['test_vault/V1--2023-01-01_00-00-00_-0800--56.00_B-2.00_ino'] took 0.001976389001356438 seconds\n",
      "\u001b[0mRenaming V1--2023-01-01_00-00-00_-0800--56.00_B-2.00_ino to V1--2023-01-01_00-00-00_-0800--4.00_KiB-2.00_ino\u001b[0m\n"
     ]
    },
    {
     "data": {
      "text/plain": [
       "(OrderedDict([(0,\n",
       "               VaultEntry(version_number=0, path='test_vault/V0--2021-01-01_00-00-00_-0800--8.00_KiB-3.00_ino', timestamp=1609488000.0, size=8192, inode=3)),\n",
       "              (1,\n",
       "               VaultEntry(version_number=1, path='test_vault/V1--2023-01-01_00-00-00_-0800--4.00_KiB-2.00_ino', timestamp=1672560000.0, size=4096, inode=2)),\n",
       "              (2,\n",
       "               VaultEntry(version_number=2, path='test_vault/V2--2020-01-01_00-00-00_-0800--4.00_KiB-2.00_ino', timestamp=1577865600.0, size=4096, inode=2)),\n",
       "              (3,\n",
       "               VaultEntry(version_number=3, path='test_vault/V3--2021-01-01_00-00-00_-0800--132.00_KiB-100.00_ino', timestamp=1609488000.0, size=135168, inode=100)),\n",
       "              (4,\n",
       "               VaultEntry(version_number=4, path='test_vault/V4--2021-12-31_16-00-00_-0800--164.00_KiB-109.00_ino', timestamp=1640995200.0, size=167936, inode=109))]),\n",
       " 319488,\n",
       " 216)"
      ]
     },
     "execution_count": 141,
     "metadata": {},
     "output_type": "execute_result"
    }
   ],
   "source": [
    "get_vault_info('test_vault',recalculate=True)"
   ]
  },
  {
   "cell_type": "code",
   "execution_count": 96,
   "metadata": {},
   "outputs": [],
   "source": [
    "vault_info_dict, vault_size , vault_inodes= get_vault_info('test_vault')"
   ]
  },
  {
   "cell_type": "code",
   "execution_count": 97,
   "metadata": {},
   "outputs": [
    {
     "data": {
      "text/plain": [
       "VaultEntry(version_number=4, path='test_vault/V4--2022-01-01_00-00-00_+0000--1.1_MiB-4.0_ino', timestamp=1640995200.0, size=1153433, inode=4)"
      ]
     },
     "execution_count": 97,
     "metadata": {},
     "output_type": "execute_result"
    }
   ],
   "source": [
    "vault_info_dict[next(reversed(vault_info_dict))]"
   ]
  },
  {
   "cell_type": "code",
   "execution_count": 51,
   "metadata": {},
   "outputs": [
    {
     "name": "stdout",
     "output_type": "stream",
     "text": [
      "get_path_size of ['ideas.txt', 'uv.lock'] took 0.004271733996574767 seconds\n"
     ]
    },
    {
     "data": {
      "text/plain": [
       "45242"
      ]
     },
     "execution_count": 51,
     "metadata": {},
     "output_type": "execute_result"
    }
   ],
   "source": [
    "get_path_size('ideas.txt','uv.lock')"
   ]
  },
  {
   "cell_type": "code",
   "execution_count": 53,
   "metadata": {},
   "outputs": [
    {
     "name": "stdout",
     "output_type": "stream",
     "text": [
      "get_path_inodes of ['/var/home/kes'] took 1.0356939350022003 seconds\n"
     ]
    },
    {
     "data": {
      "text/plain": [
       "187792"
      ]
     },
     "execution_count": 53,
     "metadata": {},
     "output_type": "execute_result"
    }
   ],
   "source": [
    "get_path_inodes(os.path.expanduser('~'))"
   ]
  },
  {
   "cell_type": "code",
   "execution_count": 54,
   "metadata": {},
   "outputs": [
    {
     "name": "stdout",
     "output_type": "stream",
     "text": [
      "get_path_inodes of ['ideas.txt', 'uv.lock'] took 0.0021252570004435256 seconds\n"
     ]
    },
    {
     "data": {
      "text/plain": [
       "2"
      ]
     },
     "execution_count": 54,
     "metadata": {},
     "output_type": "execute_result"
    }
   ],
   "source": [
    "get_path_inodes('ideas.txt','uv.lock')"
   ]
  },
  {
   "cell_type": "code",
   "execution_count": 55,
   "metadata": {},
   "outputs": [],
   "source": [
    "def run_commands_with_semaphore(commands:list):\n",
    "\tglobal BACKUP_SEMAPHORE\n",
    "\tglobal DEBUG\n",
    "\tglobal tl\n",
    "\t# check if there is any free semaphores available\n",
    "\t# Use as much semaphore as possible\n",
    "\tremaining_semaphores = BACKUP_SEMAPHORE._value\n",
    "\tif remaining_semaphores < len(commands) // 2:\n",
    "\t\tthreads_to_use = remaining_semaphores // 2\n",
    "\telse:\n",
    "\t\tthreads_to_use = len(commands) // 2\n",
    "\tif DEBUG:\n",
    "\t\ttl.teeprint(f'Using {threads_to_use} threads for backup')\n",
    "\tif threads_to_use > 1:\n",
    "\t\t[BACKUP_SEMAPHORE.acquire() for _ in range(threads_to_use)]\n",
    "\t\tif DEBUG:\n",
    "\t\t\ttl.teeprint(f'Running backup commands with {threads_to_use} threads, reduced sem from {remaining_semaphores} to {BACKUP_SEMAPHORE._value}')\n",
    "\t\tmultiCMD.run_commands(commands,quiet=True,return_code_only=True,max_threads=threads_to_use,wait_for_return=True)\n",
    "\t\tBACKUP_SEMAPHORE.release(threads_to_use)\n",
    "\t\tif DEBUG:\n",
    "\t\t\ttl.teeprint(f'Released {threads_to_use} semaphores, sem count: {BACKUP_SEMAPHORE._value}')\n",
    "\telse:\n",
    "\t\tmultiCMD.run_commands(commands,quiet=True,return_code_only=True,wait_for_return=True)"
   ]
  },
  {
   "cell_type": "code",
   "execution_count": 56,
   "metadata": {},
   "outputs": [
    {
     "name": "stdout",
     "output_type": "stream",
     "text": [
      "\u001b[0mUsing 5 threads for backup\u001b[0m\n",
      "\u001b[0mRunning backup commands with 5 threads, reduced sem from 32 to 27\u001b[0m\n",
      "\u001b[0mReleased 5 semaphores, sem count: 32\u001b[0m\n"
     ]
    }
   ],
   "source": [
    "commands = ['echo \"hello world\"']*10\n",
    "run_commands_with_semaphore(commands=commands)"
   ]
  },
  {
   "cell_type": "code",
   "execution_count": 57,
   "metadata": {},
   "outputs": [
    {
     "name": "stdout",
     "output_type": "stream",
     "text": [
      "Thread Name: MainThread, Alive: True\n",
      "Thread Name: IOPub, Alive: True\n",
      "Thread Name: Heartbeat, Alive: True\n",
      "Thread Name: Thread-1 (_watch_pipe_fd), Alive: True\n",
      "Thread Name: Thread-2 (_watch_pipe_fd), Alive: True\n",
      "Thread Name: Control, Alive: True\n",
      "Thread Name: IPythonHistorySavingThread, Alive: True\n"
     ]
    }
   ],
   "source": [
    "#get running threads\n",
    "for thread in threading.enumerate():\n",
    "    print(f\"Thread Name: {thread.name}, Alive: {thread.is_alive()}\")"
   ]
  },
  {
   "cell_type": "code",
   "execution_count": 58,
   "metadata": {},
   "outputs": [
    {
     "data": {
      "text/plain": [
       "OrderedDict([('/tmp/inotify_test/write_test.txt',\n",
       "              BackupEntryValues(iso_time='2025-03-25T18:11:41.157841', event='delete', source_path=None)),\n",
       "             ('/tmp/inotify_test/same_file_move_out_in.txt',\n",
       "              BackupEntryValues(iso_time='2025-03-25T18:11:41.157841', event='create', source_path=None)),\n",
       "             ('/tmp/inotify_test/dirMoveTest/',\n",
       "              BackupEntryValues(iso_time='2025-03-25T18:11:41.157841', event='move', source_path='/tmp/inotify_test/newDirTest/')),\n",
       "             ('/tmp/inotify_test/dirMoveTest/subfolder.txt',\n",
       "              BackupEntryValues(iso_time='2025-03-25T18:11:41.157841', event='create', source_path=None)),\n",
       "             ('/tmp/inotify_test/test/testrecursivefolder/nestedFolder/nestedFile.txt',\n",
       "              BackupEntryValues(iso_time='2025-03-25T18:11:41.157841', event='create', source_path='/tmp/inotify_test/dirMoveTest/write_to_sub_folder.txt')),\n",
       "             ('/tmp/inotify_test/dirMoveTest/move_into_sub_folder.txt',\n",
       "              BackupEntryValues(iso_time='2025-03-25T18:11:41.157841', event='create', source_path='/tmp/inotify_test/new_file.txt')),\n",
       "             ('/tmp/inotify_test/dirMoveTest/test_temp.txt',\n",
       "              BackupEntryValues(iso_time='2025-03-25T18:11:41.157841', event='create', source_path=None))])"
      ]
     },
     "execution_count": 58,
     "metadata": {},
     "output_type": "execute_result"
    }
   ],
   "source": [
    "import json\n",
    "loaded_entries = json.loads('''\n",
    "{\n",
    "  \"/tmp/inotify_test/write_test.txt\": [\n",
    "    \"2025-03-25T18:11:41.157841\",\n",
    "    \"delete\",\n",
    "    null\n",
    "  ],\n",
    "  \"/tmp/inotify_test/same_file_move_out_in.txt\": [\n",
    "    \"2025-03-25T18:11:41.157841\",\n",
    "    \"create\",\n",
    "    null\n",
    "  ],\n",
    "  \"/tmp/inotify_test/dirMoveTest/\": [\n",
    "    \"2025-03-25T18:11:41.157841\",\n",
    "    \"move\",\n",
    "    \"/tmp/inotify_test/newDirTest/\"\n",
    "  ],\n",
    "  \"/tmp/inotify_test/dirMoveTest/subfolder.txt\": [\n",
    "    \"2025-03-25T18:11:41.157841\",\n",
    "    \"create\",\n",
    "    null\n",
    "  ],\n",
    "  \"/tmp/inotify_test/test/testrecursivefolder/nestedFolder/nestedFile.txt\": [\n",
    "    \"2025-03-25T18:11:41.157841\",\n",
    "    \"create\",\n",
    "    \"/tmp/inotify_test/dirMoveTest/write_to_sub_folder.txt\"\n",
    "  ],\n",
    "  \"/tmp/inotify_test/dirMoveTest/move_into_sub_folder.txt\": [\n",
    "    \"2025-03-25T18:11:41.157841\",\n",
    "    \"create\",\n",
    "    \"/tmp/inotify_test/new_file.txt\"\n",
    "  ],\n",
    "  \"/tmp/inotify_test/dirMoveTest/test_temp.txt\": [\n",
    "    \"2025-03-25T18:11:41.157841\",\n",
    "    \"create\",\n",
    "    null\n",
    "  ]\n",
    "}\n",
    "''')\n",
    "backup_entries= OrderedDict()\n",
    "for entry in loaded_entries:\n",
    "\tbackup_entries[entry] = BackupEntryValues(*loaded_entries[entry])\n",
    "backup_entries"
   ]
  },
  {
   "cell_type": "code",
   "execution_count": 59,
   "metadata": {},
   "outputs": [],
   "source": [
    "def do_complete_backup(source_path:str,backup_folder:str):\n",
    "\tglobal DEBUG\n",
    "\tmultiCMD.run_command(['cp','-a','--reflink=auto','--sparse=always',source_path,backup_folder],quiet=True,return_code_only=True)\n"
   ]
  },
  {
   "cell_type": "code",
   "execution_count": 60,
   "metadata": {},
   "outputs": [],
   "source": [
    "do_complete_backup('/tmp','test')"
   ]
  },
  {
   "cell_type": "code",
   "execution_count": 61,
   "metadata": {},
   "outputs": [],
   "source": [
    "def get_all_files_and_folders(path):\n",
    "\tfiles = []\n",
    "\tfolders = []\n",
    "\ttry:\n",
    "\t\twith os.scandir(path) as entries:\n",
    "\t\t\tfor entry in entries:\n",
    "\t\t\t\tif entry.is_dir(follow_symlinks=False):\n",
    "\t\t\t\t\tfolders.append(entry.path+'/')\n",
    "\t\t\t\t\tchild_files, child_folders = get_all_files_and_folders(entry.path)\n",
    "\t\t\t\t\tfiles.extend(child_files)\n",
    "\t\t\t\t\tfolders.extend(child_folders)\n",
    "\t\t\t\telse:\n",
    "\t\t\t\t\tfiles.append(entry.path)\n",
    "\texcept PermissionError:\n",
    "\t\tpass\n",
    "\treturn files, folders\n"
   ]
  },
  {
   "cell_type": "code",
   "execution_count": 62,
   "metadata": {},
   "outputs": [],
   "source": [
    "def do_referenced_copy(source_path:str,backup_folder:str):\n",
    "\tglobal DEBUG\n",
    "\tglobal tl\n",
    "\tglobal BACKUP_SEMAPHORE\n",
    "\tfiles, folders = get_all_files_and_folders(source_path)\n",
    "\tfor folder in folders:\n",
    "\t\ttry:\n",
    "\t\t\trel_folder = os.path.relpath(folder,source_path)\n",
    "\t\t\tbackup_folder_path = os.path.join(backup_folder,rel_folder)\n",
    "\t\t\tos.makedirs(backup_folder_path,exist_ok=True)\n",
    "\t\t\t# copy the folder metadata\n",
    "\t\t\tcopystat(folder,backup_folder_path)\n",
    "\t\t\tst = os.stat(folder)\n",
    "\t\t\tif os.name == 'posix':\n",
    "\t\t\t\tos.chown(backup_folder_path, st.st_uid, st.st_gid)\n",
    "\t\t\tos.utime(backup_folder_path, (st.st_atime, st.st_mtime))\n",
    "\t\texcept:\n",
    "\t\t\ttl.teeerror(f'Failed to copy folder {folder}')\n",
    "\tcommands = []\n",
    "\tfor file in files:\n",
    "\t\t# use ln -fsrLT to do a relative symlink\n",
    "\t\t# ln --symbolic --logical --force --no-target-directory\n",
    "\t\trel_file = os.path.relpath(file,source_path)\n",
    "\t\tbackup_file_path = os.path.join(backup_folder,rel_file)\n",
    "\t\tfile = os.path.abspath(file)\n",
    "\t\tcommands.append(['ln','-fsLT',file,backup_file_path])\n",
    "\tif commands:\n",
    "\t\trun_commands_with_semaphore(commands)\n"
   ]
  },
  {
   "cell_type": "code",
   "execution_count": 63,
   "metadata": {},
   "outputs": [
    {
     "name": "stdout",
     "output_type": "stream",
     "text": [
      "\u001b[0mUsing 20 threads for backup\u001b[0m\n",
      "\u001b[0mRunning backup commands with 20 threads, reduced sem from 32 to 12\u001b[0m\n",
      "\u001b[0mReleased 20 semaphores, sem count: 32\u001b[0m\n"
     ]
    }
   ],
   "source": [
    "do_referenced_copy('test','test_vault/V4--2022-01-01_00-00-00_+0000--1.1_MiB-4.0_ino')"
   ]
  },
  {
   "cell_type": "code",
   "execution_count": 64,
   "metadata": {},
   "outputs": [],
   "source": [
    "def get_backup_size_inode(backup_entries:dict,only_sync_attributes:bool): \n",
    "\t'''\n",
    "\tThis function gets the size of the backup entries\n",
    "\n",
    "\tParameters:\n",
    "\t\tbackup_entries (dict): The backup entries\n",
    "\t\tonly_sync_attributes (bool): Whether to only sync the attributes\n",
    "\n",
    "\tReturns:\n",
    "\t\ttuple: The size and inode change compared to previous backup of the backup entries\n",
    "\t'''\n",
    "\t# BACKUP_ENTRY_VALUES_HEADER = ['iso_time','event','source_path']\n",
    "\t# event can be create, modify, attrib, move, delete\n",
    "\ttotal_size = 0\n",
    "\ttotal_inode_change = 0\n",
    "\tpath_pending_to_get_size = []\n",
    "\tpath_pending_to_get_inode_add = []\n",
    "\tpath_pending_to_get_inode_del = []\n",
    "\tfor entry in backup_entries:\n",
    "\t\tif backup_entries[entry].event == 'create' :\n",
    "\t\t\tpath_pending_to_get_size.append(entry)\n",
    "\t\t\tpath_pending_to_get_inode_add.append(entry)\n",
    "\t\telif backup_entries[entry].event == 'modify' or (not only_sync_attributes and backup_entries[entry].event == 'attrib'):\n",
    "\t\t\tpath_pending_to_get_size.append(entry)\n",
    "\t\t\t# we do not count inode change for attrib / modify / move events\n",
    "\t\telif backup_entries[entry].event == 'delete':\n",
    "\t\t\tpath_pending_to_get_inode_del.append(entry)\n",
    "\t\t\t# size will not decrease as we are not backing up the full content, but inodes will decrease as we are using symlinks\n",
    "\t\tif len(path_pending_to_get_size) > ARGUMENT_LIMIT:\n",
    "\t\t\ttotal_size += get_path_size(*path_pending_to_get_size)\n",
    "\t\t\tpath_pending_to_get_size = []\n",
    "\t\tif len(path_pending_to_get_inode_add) > ARGUMENT_LIMIT:\n",
    "\t\t\ttotal_inode_change += get_path_inodes(*path_pending_to_get_inode_add)\n",
    "\t\t\tpath_pending_to_get_inode_add = []\n",
    "\t\tif len(path_pending_to_get_inode_del) > ARGUMENT_LIMIT:\n",
    "\t\t\ttotal_inode_change -= get_path_inodes(*path_pending_to_get_inode_del)\n",
    "\t\t\tpath_pending_to_get_inode_del = []\n",
    "\tif path_pending_to_get_size:\n",
    "\t\ttotal_size += get_path_size(*path_pending_to_get_size)\n",
    "\tif path_pending_to_get_inode_add:\n",
    "\t\ttotal_inode_change += get_path_inodes(*path_pending_to_get_inode_add)\n",
    "\tif path_pending_to_get_inode_del:\n",
    "\t\ttotal_inode_change -= get_path_inodes(*path_pending_to_get_inode_del)\n",
    "\treturn total_size, total_inode_change\n"
   ]
  },
  {
   "cell_type": "code",
   "execution_count": 65,
   "metadata": {},
   "outputs": [
    {
     "name": "stdout",
     "output_type": "stream",
     "text": [
      "get_path_size of ['/tmp/inotify_test/same_file_move_out_in.txt', '/tmp/inotify_test/dirMoveTest/subfolder.txt', '/tmp/inotify_test/test/testrecursivefolder/nestedFolder/nestedFile.txt', '/tmp/inotify_test/dirMoveTest/move_into_sub_folder.txt', '/tmp/inotify_test/dirMoveTest/test_temp.txt'] took 0.003279122000094503 seconds\n",
      "get_path_inodes of ['/tmp/inotify_test/same_file_move_out_in.txt', '/tmp/inotify_test/dirMoveTest/subfolder.txt', '/tmp/inotify_test/test/testrecursivefolder/nestedFolder/nestedFile.txt', '/tmp/inotify_test/dirMoveTest/move_into_sub_folder.txt', '/tmp/inotify_test/dirMoveTest/test_temp.txt'] took 0.0023942620027810335 seconds\n",
      "get_path_inodes of ['/tmp/inotify_test/write_test.txt'] took 0.0008840579976094887 seconds\n"
     ]
    },
    {
     "data": {
      "text/plain": [
       "(0, 0)"
      ]
     },
     "execution_count": 65,
     "metadata": {},
     "output_type": "execute_result"
    }
   ],
   "source": [
    "get_backup_size_inode(backup_entries,only_sync_attributes=True)"
   ]
  },
  {
   "cell_type": "code",
   "execution_count": 66,
   "metadata": {},
   "outputs": [],
   "source": [
    "def get_backup_limits_from_str(backup_size_limit:str,vault_fs_size:int,vault_fs_inode:int) -> tuple:\n",
    "\t'''\n",
    "\tThis function gets the backup limits from a string.\n",
    "\tUse 0 for infinity, % numbers refer to disk usage %, use leading i to represent inodes, use comma to seperate multiple rules\n",
    "\tBigger ones take precedence\n",
    "\n",
    "\tParameters:\n",
    "\t\tbackup_size_limit (str): The backup size limit string\n",
    "\n",
    "\tReturns:\n",
    "\t\ttuple: The backup size and inode limits\t\n",
    "\t'''\n",
    "\tbackup_size_limit = backup_size_limit.strip().lower()\n",
    "\tif not backup_size_limit or backup_size_limit == '0':\n",
    "\t\treturn 0, 0\n",
    "\tbackup_size_limits = backup_size_limit.split(',')\n",
    "\trtn_size_limit = -1\n",
    "\trtn_inode_limit = -1\n",
    "\tfor limit in backup_size_limits:\n",
    "\t\tsize_limit = -1\n",
    "\t\tinode_limit = -1\n",
    "\t\tif limit.endswith('%'):\n",
    "\t\t\tlimit = limit.rstrip('%')\n",
    "\t\t\tif limit.startswith('i'):\n",
    "\t\t\t\ttry:\n",
    "\t\t\t\t\tinode_limit = int(float(limit.lstrip('i')) * vault_fs_inode // 100)\n",
    "\t\t\t\t\tif vault_fs_inode and inode_limit == 0:\n",
    "\t\t\t\t\t\t# if vault has inodes but we cannot use any, set inode limit to 1\n",
    "\t\t\t\t\t\tinode_limit = 1\n",
    "\t\t\t\texcept:\n",
    "\t\t\t\t\tpass\n",
    "\t\t\telse:\n",
    "\t\t\t\ttry:\n",
    "\t\t\t\t\tsize_limit = int(float(limit) * vault_fs_size // 100)\n",
    "\t\t\t\t\tif vault_fs_size and size_limit == 0:\n",
    "\t\t\t\t\t\tsize_limit = 1\n",
    "\t\t\t\texcept:\n",
    "\t\t\t\t\tpass\n",
    "\t\telif limit.startswith('i'):\n",
    "\t\t\ttry:\n",
    "\t\t\t\tinode_limit = int(limit.lstrip('i'))\n",
    "\t\t\texcept:\n",
    "\t\t\t\tpass\n",
    "\t\telse:\n",
    "\t\t\ttry:\n",
    "\t\t\t\tsize_limit = int(limit)\n",
    "\t\t\texcept:\n",
    "\t\t\t\tpass\n",
    "\t\tif size_limit > rtn_size_limit:\n",
    "\t\t\trtn_size_limit = size_limit\n",
    "\t\tif inode_limit > rtn_inode_limit:\n",
    "\t\t\trtn_inode_limit = inode_limit\n",
    "\treturn rtn_size_limit, rtn_inode_limit\n",
    "\t\t\t\n"
   ]
  },
  {
   "cell_type": "code",
   "execution_count": 67,
   "metadata": {},
   "outputs": [
    {
     "data": {
      "text/plain": [
       "(2000, 20)"
      ]
     },
     "execution_count": 67,
     "metadata": {},
     "output_type": "execute_result"
    }
   ],
   "source": [
    "get_backup_limits_from_str('10%,i20%,2000',10000,100)"
   ]
  },
  {
   "cell_type": "code",
   "execution_count": 68,
   "metadata": {},
   "outputs": [],
   "source": [
    "def get_path_fs_info(path:str):\n",
    "\t# this function gets the filesystem usage information of a path\n",
    "\t# df --no-sync --output=size,itotal <path>\n",
    "\tglobal DEBUG\n",
    "\trtn = multiCMD.run_command(['df','--no-sync','--output=size,itotal',path],quiet=True)\n",
    "\tif rtn and rtn[-1]:\n",
    "\t\ttry:\n",
    "\t\t\tsize, inodes = rtn[-1].split(maxsplit=1)\n",
    "\t\t\treturn int(size), int(inodes)\n",
    "\t\texcept:\n",
    "\t\t\tpass\n",
    "\treturn 0,0\n"
   ]
  },
  {
   "cell_type": "code",
   "execution_count": 69,
   "metadata": {},
   "outputs": [],
   "source": [
    "rtn = multiCMD.run_command(['df','--no-sync','--output=size,itotal','.'],quiet=True)"
   ]
  },
  {
   "cell_type": "code",
   "execution_count": 70,
   "metadata": {},
   "outputs": [
    {
     "data": {
      "text/plain": [
       "(31783256, 1048576)"
      ]
     },
     "execution_count": 70,
     "metadata": {},
     "output_type": "execute_result"
    }
   ],
   "source": [
    "get_path_fs_info('/tmp')"
   ]
  },
  {
   "cell_type": "code",
   "execution_count": 71,
   "metadata": {},
   "outputs": [
    {
     "data": {
      "text/plain": [
       "VaultEntry(version_number=4, path='test_vault/V4--2022-01-01_00-00-00_+0000--1.1_MiB-4.0_ino', timestamp=1640995200.0, size=1153433, inode=4)"
      ]
     },
     "execution_count": 71,
     "metadata": {},
     "output_type": "execute_result"
    }
   ],
   "source": [
    "latest_version_info = vault_info_dict[next(reversed(vault_info_dict))]\n",
    "latest_version_info"
   ]
  },
  {
   "cell_type": "code",
   "execution_count": 72,
   "metadata": {},
   "outputs": [
    {
     "data": {
      "text/plain": [
       "16777216"
      ]
     },
     "execution_count": 72,
     "metadata": {},
     "output_type": "execute_result"
    }
   ],
   "source": [
    "HASH_SIZE = 1<<24\n",
    "HASH_SIZE"
   ]
  },
  {
   "cell_type": "code",
   "execution_count": 73,
   "metadata": {},
   "outputs": [
    {
     "data": {
      "text/plain": [
       "'16.00 Mi'"
      ]
     },
     "execution_count": 73,
     "metadata": {},
     "output_type": "execute_result"
    }
   ],
   "source": [
    "format_bytes(HASH_SIZE)"
   ]
  },
  {
   "cell_type": "code",
   "execution_count": 74,
   "metadata": {},
   "outputs": [],
   "source": [
    "def hash_file(path,size = ...,full_hash=False):\n",
    "\t#From hpcp: https://github.com/yufei-pan/hpcp\n",
    "\tglobal HASH_SIZE\n",
    "\tif HASH_SIZE <= 0:\n",
    "\t\t# Do not hash\n",
    "\t\treturn ''\n",
    "\tif size == ...:\n",
    "\t\tsize = os.path.getsize(path)\n",
    "\thasher = xxhash.xxh64()\n",
    "\twith open(path, 'rb') as f:\n",
    "\t\tif not full_hash:\n",
    "\t\t\t# Only hash the last hash_size bytes\n",
    "\t\t\t#f.seek(-min(1<<16,size), os.SEEK_END)\n",
    "\t\t\tf.seek(-min(HASH_SIZE,size), os.SEEK_END)\n",
    "\t\tfor chunk in iter(lambda: f.read(4096), b''):\n",
    "\t\t\thasher.update(chunk)\n",
    "\treturn hasher.hexdigest()\n"
   ]
  },
  {
   "cell_type": "code",
   "execution_count": 75,
   "metadata": {},
   "outputs": [
    {
     "data": {
      "text/plain": [
       "{2}"
      ]
     },
     "execution_count": 75,
     "metadata": {},
     "output_type": "execute_result"
    }
   ],
   "source": [
    "{1} - {1} | {2} "
   ]
  },
  {
   "cell_type": "code",
   "execution_count": 76,
   "metadata": {},
   "outputs": [
    {
     "data": {
      "text/plain": [
       "(['test/.X11-unix/X1024',\n",
       "  'test/.X11-unix/X1025',\n",
       "  'test/.X11-unix/X0',\n",
       "  'test/.X11-unix/X1',\n",
       "  'test/.ICE-unix/1549',\n",
       "  'test/.ICE-unix/2599',\n",
       "  'test/.X1024-lock',\n",
       "  'test/.X1025-lock',\n",
       "  'test/.X0-lock',\n",
       "  'test/.X1-lock',\n",
       "  'test/tt/test',\n",
       "  'test/hello',\n",
       "  'test/modify',\n",
       "  'test/tmp/.X11-unix/X1024',\n",
       "  'test/tmp/.X11-unix/X1025',\n",
       "  'test/tmp/.X11-unix/X0',\n",
       "  'test/tmp/.X11-unix/X1',\n",
       "  'test/tmp/.ICE-unix/1549',\n",
       "  'test/tmp/.ICE-unix/2599',\n",
       "  'test/tmp/.ICE-unix/1539',\n",
       "  'test/tmp/.ICE-unix/2571',\n",
       "  'test/tmp/.X1024-lock',\n",
       "  'test/tmp/.X1025-lock',\n",
       "  'test/tmp/.X0-lock',\n",
       "  'test/tmp/.X1-lock',\n",
       "  'test/tmp/uv-2b31b12fc3a070b5.lock',\n",
       "  'test/tmp/pyright-515312-HTP3Gm9Tt9sx/posixpath-515312-SIdxzh5eAA2W-.py',\n",
       "  'test/tmp/pyright-515312-HTP3Gm9Tt9sx/builtins-515312-bXVHbkFb4HVW-.py',\n",
       "  'test/tmp/inotify_test/test/testrecursivefolder/nestedFolder/nestedFile.txt',\n",
       "  'test/tmp/inotify_test/dirMoveTest/subfolder.txt',\n",
       "  'test/tmp/inotify_test/dirMoveTest/move_into_sub_folder.txt',\n",
       "  'test/tmp/inotify_test/dirMoveTest/test_temp.txt',\n",
       "  'test/tmp/inotify_test/move_test_trick.txt',\n",
       "  'test/tmp/inotify_test/same_file_move_out_in.txt',\n",
       "  'test/tmp/outside.txt',\n",
       "  'test/tmp/KT3532.shell-extension.zip',\n",
       "  'test/tmp/pyright-15295-Z11NhJhUM5Gg/builtins-15295-CrYd7mpwfHk2-.py',\n",
       "  'test/tmp/pyright-15295-Z11NhJhUM5Gg/time-15295-Ic0ff6LIBfw5-.py',\n",
       "  'test/tmp/pyright-15295-Z11NhJhUM5Gg/builtins-15295-CCDBkTdhcaph-.py',\n",
       "  'test/tmp/__multiSSH3_UNAVAILABLE_HOSTS.csv',\n",
       "  'test/tmp/pyright-222634-4hJ5iEKsly0p/builtins-222634-h3xFcai7Z51G-.py'],\n",
       " ['test/.X11-unix/',\n",
       "  'test/.ICE-unix/',\n",
       "  'test/.XIM-unix/',\n",
       "  'test/.font-unix/',\n",
       "  'test/tt/',\n",
       "  'test/tmp/',\n",
       "  'test/tmp/.X11-unix/',\n",
       "  'test/tmp/.ICE-unix/',\n",
       "  'test/tmp/.XIM-unix/',\n",
       "  'test/tmp/.font-unix/',\n",
       "  'test/tmp/systemd-private-c37291b89cf249afa1bc4073bbe7a189-systemd-oomd.service-1ykqG9/',\n",
       "  'test/tmp/systemd-private-c37291b89cf249afa1bc4073bbe7a189-systemd-resolved.service-V4OAMi/',\n",
       "  'test/tmp/systemd-private-c37291b89cf249afa1bc4073bbe7a189-dbus-broker.service-Q1tPNC/',\n",
       "  'test/tmp/systemd-private-c37291b89cf249afa1bc4073bbe7a189-bluetooth.service-9Sqr7A/',\n",
       "  'test/tmp/systemd-private-c37291b89cf249afa1bc4073bbe7a189-chronyd.service-UA3zo0/',\n",
       "  'test/tmp/systemd-private-c37291b89cf249afa1bc4073bbe7a189-iio-sensor-proxy.service-axQnba/',\n",
       "  'test/tmp/systemd-private-c37291b89cf249afa1bc4073bbe7a189-low-memory-monitor.service-i5HxKX/',\n",
       "  'test/tmp/systemd-private-c37291b89cf249afa1bc4073bbe7a189-polkit.service-3cO0Dn/',\n",
       "  'test/tmp/systemd-private-c37291b89cf249afa1bc4073bbe7a189-rtkit-daemon.service-9D7WFM/',\n",
       "  'test/tmp/systemd-private-c37291b89cf249afa1bc4073bbe7a189-switcheroo-control.service-1H2aMZ/',\n",
       "  'test/tmp/systemd-private-c37291b89cf249afa1bc4073bbe7a189-systemd-logind.service-txoOXi/',\n",
       "  'test/tmp/systemd-private-c37291b89cf249afa1bc4073bbe7a189-upower.service-ihQHeH/',\n",
       "  'test/tmp/systemd-private-c37291b89cf249afa1bc4073bbe7a189-ModemManager.service-DZwWU2/',\n",
       "  'test/tmp/systemd-private-c37291b89cf249afa1bc4073bbe7a189-bolt.service-jmsVpe/',\n",
       "  'test/tmp/systemd-private-c37291b89cf249afa1bc4073bbe7a189-colord.service-ypS7dy/',\n",
       "  'test/tmp/systemd-private-c37291b89cf249afa1bc4073bbe7a189-geoclue.service-tjdd83/',\n",
       "  'test/tmp/systemd-private-c37291b89cf249afa1bc4073bbe7a189-fwupd.service-Iyjqa5/',\n",
       "  'test/tmp/systemd-private-c37291b89cf249afa1bc4073bbe7a189-passim.service-Z0zFwy/',\n",
       "  'test/tmp/hsperfdata_kes/',\n",
       "  'test/tmp/python-languageserver-cancellation/',\n",
       "  'test/tmp/python-languageserver-cancellation/8b01170a1bfbe069c35d5f2d00afbdde1062390f90/',\n",
       "  'test/tmp/python-languageserver-cancellation/a3a479f4edd7617ea418dd5076082e5144ba97b18f/',\n",
       "  'test/tmp/python-languageserver-cancellation/91a2693d45bc34a170fdb07b5b8c19d1bfc51e3869/',\n",
       "  'test/tmp/python-languageserver-cancellation/92fb98d3821d91322a30bff4748c9c46250af773ca/',\n",
       "  'test/tmp/pyright-6449-ZaprOe7EvDJb/',\n",
       "  'test/tmp/ipykernel_32660/',\n",
       "  'test/tmp/vscode-typescript1000/',\n",
       "  'test/tmp/pyright-244657-3WqwqBUFLbM3/',\n",
       "  'test/tmp/pyright-515312-HTP3Gm9Tt9sx/',\n",
       "  'test/tmp/inotify_test/',\n",
       "  'test/tmp/inotify_test/test/',\n",
       "  'test/tmp/inotify_test/test/testrecursivefolder/',\n",
       "  'test/tmp/inotify_test/test/testrecursivefolder/nestedFolder/',\n",
       "  'test/tmp/inotify_test/dirMoveTest/',\n",
       "  'test/tmp/systemd-private-fdd42838fc59478884c808f0421ae4a1-systemd-oomd.service-9GgLDY/',\n",
       "  'test/tmp/systemd-private-fdd42838fc59478884c808f0421ae4a1-systemd-resolved.service-sufen2/',\n",
       "  'test/tmp/systemd-private-fdd42838fc59478884c808f0421ae4a1-dbus-broker.service-IpkUwW/',\n",
       "  'test/tmp/systemd-private-fdd42838fc59478884c808f0421ae4a1-bluetooth.service-dqdYgP/',\n",
       "  'test/tmp/systemd-private-fdd42838fc59478884c808f0421ae4a1-chronyd.service-EP6qZr/',\n",
       "  'test/tmp/systemd-private-fdd42838fc59478884c808f0421ae4a1-iio-sensor-proxy.service-8pSNpU/',\n",
       "  'test/tmp/systemd-private-fdd42838fc59478884c808f0421ae4a1-low-memory-monitor.service-kuDJy4/',\n",
       "  'test/tmp/systemd-private-fdd42838fc59478884c808f0421ae4a1-polkit.service-zlUZ91/',\n",
       "  'test/tmp/systemd-private-fdd42838fc59478884c808f0421ae4a1-rtkit-daemon.service-6H78lf/',\n",
       "  'test/tmp/systemd-private-fdd42838fc59478884c808f0421ae4a1-switcheroo-control.service-89FqQm/',\n",
       "  'test/tmp/systemd-private-fdd42838fc59478884c808f0421ae4a1-systemd-logind.service-oMO8lg/',\n",
       "  'test/tmp/systemd-private-fdd42838fc59478884c808f0421ae4a1-upower.service-JnAqar/',\n",
       "  'test/tmp/systemd-private-fdd42838fc59478884c808f0421ae4a1-ModemManager.service-j8DsEa/',\n",
       "  'test/tmp/systemd-private-fdd42838fc59478884c808f0421ae4a1-bolt.service-lbZnJl/',\n",
       "  'test/tmp/systemd-private-fdd42838fc59478884c808f0421ae4a1-colord.service-HazMxT/',\n",
       "  'test/tmp/systemd-private-fdd42838fc59478884c808f0421ae4a1-geoclue.service-MIpBq5/',\n",
       "  'test/tmp/systemd-private-fdd42838fc59478884c808f0421ae4a1-fwupd.service-Rcxf4I/',\n",
       "  'test/tmp/systemd-private-fdd42838fc59478884c808f0421ae4a1-passim.service-oGZP8x/',\n",
       "  'test/tmp/pyright-15295-Z11NhJhUM5Gg/',\n",
       "  'test/tmp/pyright-222634-4hJ5iEKsly0p/',\n",
       "  'test/tmp/systemd-private-fdd42838fc59478884c808f0421ae4a1-rpm-ostreed.service-INIXJK/'])"
      ]
     },
     "execution_count": 76,
     "metadata": {},
     "output_type": "execute_result"
    }
   ],
   "source": [
    "get_all_files_and_folders('test')"
   ]
  },
  {
   "cell_type": "code",
   "execution_count": 77,
   "metadata": {},
   "outputs": [
    {
     "data": {
      "text/plain": [
       "(['test_vault/V4--2022-01-01_00-00-00_+0000--1.1_MiB-4.0_ino/.ICE-unix/1549',\n",
       "  'test_vault/V4--2022-01-01_00-00-00_+0000--1.1_MiB-4.0_ino/.ICE-unix/2599',\n",
       "  'test_vault/V4--2022-01-01_00-00-00_+0000--1.1_MiB-4.0_ino/.X11-unix/X1',\n",
       "  'test_vault/V4--2022-01-01_00-00-00_+0000--1.1_MiB-4.0_ino/.X11-unix/X1024',\n",
       "  'test_vault/V4--2022-01-01_00-00-00_+0000--1.1_MiB-4.0_ino/.X11-unix/X0',\n",
       "  'test_vault/V4--2022-01-01_00-00-00_+0000--1.1_MiB-4.0_ino/.X11-unix/X1025',\n",
       "  'test_vault/V4--2022-01-01_00-00-00_+0000--1.1_MiB-4.0_ino/hi',\n",
       "  'test_vault/V4--2022-01-01_00-00-00_+0000--1.1_MiB-4.0_ino/tt/test',\n",
       "  'test_vault/V4--2022-01-01_00-00-00_+0000--1.1_MiB-4.0_ino/tmp/.X11-unix/X1024',\n",
       "  'test_vault/V4--2022-01-01_00-00-00_+0000--1.1_MiB-4.0_ino/tmp/.X11-unix/X1025',\n",
       "  'test_vault/V4--2022-01-01_00-00-00_+0000--1.1_MiB-4.0_ino/tmp/.X11-unix/X0',\n",
       "  'test_vault/V4--2022-01-01_00-00-00_+0000--1.1_MiB-4.0_ino/tmp/.X11-unix/X1',\n",
       "  'test_vault/V4--2022-01-01_00-00-00_+0000--1.1_MiB-4.0_ino/tmp/.ICE-unix/2599',\n",
       "  'test_vault/V4--2022-01-01_00-00-00_+0000--1.1_MiB-4.0_ino/tmp/.ICE-unix/1549',\n",
       "  'test_vault/V4--2022-01-01_00-00-00_+0000--1.1_MiB-4.0_ino/tmp/.ICE-unix/2571',\n",
       "  'test_vault/V4--2022-01-01_00-00-00_+0000--1.1_MiB-4.0_ino/tmp/.ICE-unix/1539',\n",
       "  'test_vault/V4--2022-01-01_00-00-00_+0000--1.1_MiB-4.0_ino/tmp/pyright-515312-HTP3Gm9Tt9sx/posixpath-515312-SIdxzh5eAA2W-.py',\n",
       "  'test_vault/V4--2022-01-01_00-00-00_+0000--1.1_MiB-4.0_ino/tmp/pyright-515312-HTP3Gm9Tt9sx/builtins-515312-bXVHbkFb4HVW-.py',\n",
       "  'test_vault/V4--2022-01-01_00-00-00_+0000--1.1_MiB-4.0_ino/tmp/inotify_test/test/testrecursivefolder/nestedFolder/nestedFile.txt',\n",
       "  'test_vault/V4--2022-01-01_00-00-00_+0000--1.1_MiB-4.0_ino/tmp/inotify_test/dirMoveTest/test_temp.txt',\n",
       "  'test_vault/V4--2022-01-01_00-00-00_+0000--1.1_MiB-4.0_ino/tmp/inotify_test/dirMoveTest/move_into_sub_folder.txt',\n",
       "  'test_vault/V4--2022-01-01_00-00-00_+0000--1.1_MiB-4.0_ino/tmp/inotify_test/dirMoveTest/subfolder.txt',\n",
       "  'test_vault/V4--2022-01-01_00-00-00_+0000--1.1_MiB-4.0_ino/tmp/inotify_test/move_test_trick.txt',\n",
       "  'test_vault/V4--2022-01-01_00-00-00_+0000--1.1_MiB-4.0_ino/tmp/inotify_test/same_file_move_out_in.txt',\n",
       "  'test_vault/V4--2022-01-01_00-00-00_+0000--1.1_MiB-4.0_ino/tmp/pyright-15295-Z11NhJhUM5Gg/time-15295-Ic0ff6LIBfw5-.py',\n",
       "  'test_vault/V4--2022-01-01_00-00-00_+0000--1.1_MiB-4.0_ino/tmp/pyright-15295-Z11NhJhUM5Gg/builtins-15295-CrYd7mpwfHk2-.py',\n",
       "  'test_vault/V4--2022-01-01_00-00-00_+0000--1.1_MiB-4.0_ino/tmp/pyright-15295-Z11NhJhUM5Gg/builtins-15295-CCDBkTdhcaph-.py',\n",
       "  'test_vault/V4--2022-01-01_00-00-00_+0000--1.1_MiB-4.0_ino/tmp/pyright-222634-4hJ5iEKsly0p/builtins-222634-h3xFcai7Z51G-.py',\n",
       "  'test_vault/V4--2022-01-01_00-00-00_+0000--1.1_MiB-4.0_ino/tmp/.X1024-lock',\n",
       "  'test_vault/V4--2022-01-01_00-00-00_+0000--1.1_MiB-4.0_ino/tmp/.X1025-lock',\n",
       "  'test_vault/V4--2022-01-01_00-00-00_+0000--1.1_MiB-4.0_ino/tmp/.X1-lock',\n",
       "  'test_vault/V4--2022-01-01_00-00-00_+0000--1.1_MiB-4.0_ino/tmp/uv-2b31b12fc3a070b5.lock',\n",
       "  'test_vault/V4--2022-01-01_00-00-00_+0000--1.1_MiB-4.0_ino/tmp/.X0-lock',\n",
       "  'test_vault/V4--2022-01-01_00-00-00_+0000--1.1_MiB-4.0_ino/tmp/outside.txt',\n",
       "  'test_vault/V4--2022-01-01_00-00-00_+0000--1.1_MiB-4.0_ino/tmp/KT3532.shell-extension.zip',\n",
       "  'test_vault/V4--2022-01-01_00-00-00_+0000--1.1_MiB-4.0_ino/tmp/__multiSSH3_UNAVAILABLE_HOSTS.csv',\n",
       "  'test_vault/V4--2022-01-01_00-00-00_+0000--1.1_MiB-4.0_ino/.X1024-lock',\n",
       "  'test_vault/V4--2022-01-01_00-00-00_+0000--1.1_MiB-4.0_ino/.X1025-lock',\n",
       "  'test_vault/V4--2022-01-01_00-00-00_+0000--1.1_MiB-4.0_ino/.X0-lock',\n",
       "  'test_vault/V4--2022-01-01_00-00-00_+0000--1.1_MiB-4.0_ino/.X1-lock',\n",
       "  'test_vault/V4--2022-01-01_00-00-00_+0000--1.1_MiB-4.0_ino/modify',\n",
       "  'test_vault/V4--2022-01-01_00-00-00_+0000--1.1_MiB-4.0_ino/hello'],\n",
       " ['test_vault/V4--2022-01-01_00-00-00_+0000--1.1_MiB-4.0_ino/.ICE-unix/',\n",
       "  'test_vault/V4--2022-01-01_00-00-00_+0000--1.1_MiB-4.0_ino/.X11-unix/',\n",
       "  'test_vault/V4--2022-01-01_00-00-00_+0000--1.1_MiB-4.0_ino/.XIM-unix/',\n",
       "  'test_vault/V4--2022-01-01_00-00-00_+0000--1.1_MiB-4.0_ino/.font-unix/',\n",
       "  'test_vault/V4--2022-01-01_00-00-00_+0000--1.1_MiB-4.0_ino/test/',\n",
       "  'test_vault/V4--2022-01-01_00-00-00_+0000--1.1_MiB-4.0_ino/tt/',\n",
       "  'test_vault/V4--2022-01-01_00-00-00_+0000--1.1_MiB-4.0_ino/tmp/',\n",
       "  'test_vault/V4--2022-01-01_00-00-00_+0000--1.1_MiB-4.0_ino/tmp/.X11-unix/',\n",
       "  'test_vault/V4--2022-01-01_00-00-00_+0000--1.1_MiB-4.0_ino/tmp/.ICE-unix/',\n",
       "  'test_vault/V4--2022-01-01_00-00-00_+0000--1.1_MiB-4.0_ino/tmp/.XIM-unix/',\n",
       "  'test_vault/V4--2022-01-01_00-00-00_+0000--1.1_MiB-4.0_ino/tmp/.font-unix/',\n",
       "  'test_vault/V4--2022-01-01_00-00-00_+0000--1.1_MiB-4.0_ino/tmp/systemd-private-c37291b89cf249afa1bc4073bbe7a189-systemd-oomd.service-1ykqG9/',\n",
       "  'test_vault/V4--2022-01-01_00-00-00_+0000--1.1_MiB-4.0_ino/tmp/systemd-private-c37291b89cf249afa1bc4073bbe7a189-systemd-resolved.service-V4OAMi/',\n",
       "  'test_vault/V4--2022-01-01_00-00-00_+0000--1.1_MiB-4.0_ino/tmp/systemd-private-c37291b89cf249afa1bc4073bbe7a189-dbus-broker.service-Q1tPNC/',\n",
       "  'test_vault/V4--2022-01-01_00-00-00_+0000--1.1_MiB-4.0_ino/tmp/systemd-private-c37291b89cf249afa1bc4073bbe7a189-bluetooth.service-9Sqr7A/',\n",
       "  'test_vault/V4--2022-01-01_00-00-00_+0000--1.1_MiB-4.0_ino/tmp/systemd-private-c37291b89cf249afa1bc4073bbe7a189-chronyd.service-UA3zo0/',\n",
       "  'test_vault/V4--2022-01-01_00-00-00_+0000--1.1_MiB-4.0_ino/tmp/systemd-private-c37291b89cf249afa1bc4073bbe7a189-iio-sensor-proxy.service-axQnba/',\n",
       "  'test_vault/V4--2022-01-01_00-00-00_+0000--1.1_MiB-4.0_ino/tmp/systemd-private-c37291b89cf249afa1bc4073bbe7a189-low-memory-monitor.service-i5HxKX/',\n",
       "  'test_vault/V4--2022-01-01_00-00-00_+0000--1.1_MiB-4.0_ino/tmp/systemd-private-c37291b89cf249afa1bc4073bbe7a189-polkit.service-3cO0Dn/',\n",
       "  'test_vault/V4--2022-01-01_00-00-00_+0000--1.1_MiB-4.0_ino/tmp/systemd-private-c37291b89cf249afa1bc4073bbe7a189-rtkit-daemon.service-9D7WFM/',\n",
       "  'test_vault/V4--2022-01-01_00-00-00_+0000--1.1_MiB-4.0_ino/tmp/systemd-private-c37291b89cf249afa1bc4073bbe7a189-switcheroo-control.service-1H2aMZ/',\n",
       "  'test_vault/V4--2022-01-01_00-00-00_+0000--1.1_MiB-4.0_ino/tmp/systemd-private-c37291b89cf249afa1bc4073bbe7a189-systemd-logind.service-txoOXi/',\n",
       "  'test_vault/V4--2022-01-01_00-00-00_+0000--1.1_MiB-4.0_ino/tmp/systemd-private-c37291b89cf249afa1bc4073bbe7a189-upower.service-ihQHeH/',\n",
       "  'test_vault/V4--2022-01-01_00-00-00_+0000--1.1_MiB-4.0_ino/tmp/systemd-private-c37291b89cf249afa1bc4073bbe7a189-ModemManager.service-DZwWU2/',\n",
       "  'test_vault/V4--2022-01-01_00-00-00_+0000--1.1_MiB-4.0_ino/tmp/systemd-private-c37291b89cf249afa1bc4073bbe7a189-bolt.service-jmsVpe/',\n",
       "  'test_vault/V4--2022-01-01_00-00-00_+0000--1.1_MiB-4.0_ino/tmp/systemd-private-c37291b89cf249afa1bc4073bbe7a189-colord.service-ypS7dy/',\n",
       "  'test_vault/V4--2022-01-01_00-00-00_+0000--1.1_MiB-4.0_ino/tmp/systemd-private-c37291b89cf249afa1bc4073bbe7a189-geoclue.service-tjdd83/',\n",
       "  'test_vault/V4--2022-01-01_00-00-00_+0000--1.1_MiB-4.0_ino/tmp/systemd-private-c37291b89cf249afa1bc4073bbe7a189-fwupd.service-Iyjqa5/',\n",
       "  'test_vault/V4--2022-01-01_00-00-00_+0000--1.1_MiB-4.0_ino/tmp/systemd-private-c37291b89cf249afa1bc4073bbe7a189-passim.service-Z0zFwy/',\n",
       "  'test_vault/V4--2022-01-01_00-00-00_+0000--1.1_MiB-4.0_ino/tmp/hsperfdata_kes/',\n",
       "  'test_vault/V4--2022-01-01_00-00-00_+0000--1.1_MiB-4.0_ino/tmp/python-languageserver-cancellation/',\n",
       "  'test_vault/V4--2022-01-01_00-00-00_+0000--1.1_MiB-4.0_ino/tmp/python-languageserver-cancellation/8b01170a1bfbe069c35d5f2d00afbdde1062390f90/',\n",
       "  'test_vault/V4--2022-01-01_00-00-00_+0000--1.1_MiB-4.0_ino/tmp/python-languageserver-cancellation/a3a479f4edd7617ea418dd5076082e5144ba97b18f/',\n",
       "  'test_vault/V4--2022-01-01_00-00-00_+0000--1.1_MiB-4.0_ino/tmp/python-languageserver-cancellation/91a2693d45bc34a170fdb07b5b8c19d1bfc51e3869/',\n",
       "  'test_vault/V4--2022-01-01_00-00-00_+0000--1.1_MiB-4.0_ino/tmp/python-languageserver-cancellation/92fb98d3821d91322a30bff4748c9c46250af773ca/',\n",
       "  'test_vault/V4--2022-01-01_00-00-00_+0000--1.1_MiB-4.0_ino/tmp/pyright-6449-ZaprOe7EvDJb/',\n",
       "  'test_vault/V4--2022-01-01_00-00-00_+0000--1.1_MiB-4.0_ino/tmp/ipykernel_32660/',\n",
       "  'test_vault/V4--2022-01-01_00-00-00_+0000--1.1_MiB-4.0_ino/tmp/vscode-typescript1000/',\n",
       "  'test_vault/V4--2022-01-01_00-00-00_+0000--1.1_MiB-4.0_ino/tmp/pyright-244657-3WqwqBUFLbM3/',\n",
       "  'test_vault/V4--2022-01-01_00-00-00_+0000--1.1_MiB-4.0_ino/tmp/pyright-515312-HTP3Gm9Tt9sx/',\n",
       "  'test_vault/V4--2022-01-01_00-00-00_+0000--1.1_MiB-4.0_ino/tmp/inotify_test/',\n",
       "  'test_vault/V4--2022-01-01_00-00-00_+0000--1.1_MiB-4.0_ino/tmp/inotify_test/test/',\n",
       "  'test_vault/V4--2022-01-01_00-00-00_+0000--1.1_MiB-4.0_ino/tmp/inotify_test/test/testrecursivefolder/',\n",
       "  'test_vault/V4--2022-01-01_00-00-00_+0000--1.1_MiB-4.0_ino/tmp/inotify_test/test/testrecursivefolder/nestedFolder/',\n",
       "  'test_vault/V4--2022-01-01_00-00-00_+0000--1.1_MiB-4.0_ino/tmp/inotify_test/dirMoveTest/',\n",
       "  'test_vault/V4--2022-01-01_00-00-00_+0000--1.1_MiB-4.0_ino/tmp/systemd-private-fdd42838fc59478884c808f0421ae4a1-systemd-oomd.service-9GgLDY/',\n",
       "  'test_vault/V4--2022-01-01_00-00-00_+0000--1.1_MiB-4.0_ino/tmp/systemd-private-fdd42838fc59478884c808f0421ae4a1-systemd-resolved.service-sufen2/',\n",
       "  'test_vault/V4--2022-01-01_00-00-00_+0000--1.1_MiB-4.0_ino/tmp/systemd-private-fdd42838fc59478884c808f0421ae4a1-dbus-broker.service-IpkUwW/',\n",
       "  'test_vault/V4--2022-01-01_00-00-00_+0000--1.1_MiB-4.0_ino/tmp/systemd-private-fdd42838fc59478884c808f0421ae4a1-bluetooth.service-dqdYgP/',\n",
       "  'test_vault/V4--2022-01-01_00-00-00_+0000--1.1_MiB-4.0_ino/tmp/systemd-private-fdd42838fc59478884c808f0421ae4a1-chronyd.service-EP6qZr/',\n",
       "  'test_vault/V4--2022-01-01_00-00-00_+0000--1.1_MiB-4.0_ino/tmp/systemd-private-fdd42838fc59478884c808f0421ae4a1-iio-sensor-proxy.service-8pSNpU/',\n",
       "  'test_vault/V4--2022-01-01_00-00-00_+0000--1.1_MiB-4.0_ino/tmp/systemd-private-fdd42838fc59478884c808f0421ae4a1-low-memory-monitor.service-kuDJy4/',\n",
       "  'test_vault/V4--2022-01-01_00-00-00_+0000--1.1_MiB-4.0_ino/tmp/systemd-private-fdd42838fc59478884c808f0421ae4a1-polkit.service-zlUZ91/',\n",
       "  'test_vault/V4--2022-01-01_00-00-00_+0000--1.1_MiB-4.0_ino/tmp/systemd-private-fdd42838fc59478884c808f0421ae4a1-rtkit-daemon.service-6H78lf/',\n",
       "  'test_vault/V4--2022-01-01_00-00-00_+0000--1.1_MiB-4.0_ino/tmp/systemd-private-fdd42838fc59478884c808f0421ae4a1-switcheroo-control.service-89FqQm/',\n",
       "  'test_vault/V4--2022-01-01_00-00-00_+0000--1.1_MiB-4.0_ino/tmp/systemd-private-fdd42838fc59478884c808f0421ae4a1-systemd-logind.service-oMO8lg/',\n",
       "  'test_vault/V4--2022-01-01_00-00-00_+0000--1.1_MiB-4.0_ino/tmp/systemd-private-fdd42838fc59478884c808f0421ae4a1-upower.service-JnAqar/',\n",
       "  'test_vault/V4--2022-01-01_00-00-00_+0000--1.1_MiB-4.0_ino/tmp/systemd-private-fdd42838fc59478884c808f0421ae4a1-ModemManager.service-j8DsEa/',\n",
       "  'test_vault/V4--2022-01-01_00-00-00_+0000--1.1_MiB-4.0_ino/tmp/systemd-private-fdd42838fc59478884c808f0421ae4a1-bolt.service-lbZnJl/',\n",
       "  'test_vault/V4--2022-01-01_00-00-00_+0000--1.1_MiB-4.0_ino/tmp/systemd-private-fdd42838fc59478884c808f0421ae4a1-colord.service-HazMxT/',\n",
       "  'test_vault/V4--2022-01-01_00-00-00_+0000--1.1_MiB-4.0_ino/tmp/systemd-private-fdd42838fc59478884c808f0421ae4a1-geoclue.service-MIpBq5/',\n",
       "  'test_vault/V4--2022-01-01_00-00-00_+0000--1.1_MiB-4.0_ino/tmp/systemd-private-fdd42838fc59478884c808f0421ae4a1-fwupd.service-Rcxf4I/',\n",
       "  'test_vault/V4--2022-01-01_00-00-00_+0000--1.1_MiB-4.0_ino/tmp/systemd-private-fdd42838fc59478884c808f0421ae4a1-passim.service-oGZP8x/',\n",
       "  'test_vault/V4--2022-01-01_00-00-00_+0000--1.1_MiB-4.0_ino/tmp/pyright-15295-Z11NhJhUM5Gg/',\n",
       "  'test_vault/V4--2022-01-01_00-00-00_+0000--1.1_MiB-4.0_ino/tmp/pyright-222634-4hJ5iEKsly0p/',\n",
       "  'test_vault/V4--2022-01-01_00-00-00_+0000--1.1_MiB-4.0_ino/tmp/systemd-private-fdd42838fc59478884c808f0421ae4a1-rpm-ostreed.service-INIXJK/'])"
      ]
     },
     "execution_count": 77,
     "metadata": {},
     "output_type": "execute_result"
    }
   ],
   "source": [
    "get_all_files_and_folders('test_vault/V4--2022-01-01_00-00-00_+0000--1.1_MiB-4.0_ino/')"
   ]
  },
  {
   "cell_type": "code",
   "execution_count": 78,
   "metadata": {},
   "outputs": [],
   "source": [
    "def check_duplicate(backupEntries:dict,latest_version_path:str,latest_version_files_folders:set,rel_entry:str,monitor_entry:str,isDir:bool):\n",
    "\tglobal DEBUG\n",
    "\tglobal tl\n",
    "\tif rel_entry in latest_version_files_folders:\n",
    "\t\t# this is a common file/folder\n",
    "\t\tlatest_version_files_folders.remove(rel_entry)\n",
    "\t\t# check if the file is the same\n",
    "\t\tlatest_version_entry = os.path.join(latest_version_path,rel_entry)\n",
    "\t\tif DEBUG:\n",
    "\t\t\ttl.teeprint(f'Checking {monitor_entry} against {latest_version_entry}')\n",
    "\t\tmonitor_entry_stat = os.stat(monitor_entry)\n",
    "\t\tlatest_version_entry_stat = os.stat(latest_version_entry)\n",
    "\t\t# do dev and inode based skip first\n",
    "\t\ttry:\n",
    "\t\t\tif monitor_entry_stat.st_dev == latest_version_entry_stat.st_dev and monitor_entry_stat.st_ino == latest_version_entry_stat.st_ino:\n",
    "\t\t\t\t# same file\n",
    "\t\t\t\tif DEBUG:\n",
    "\t\t\t\t\ttl.teeprint(f'Same file according to dev and ino number {monitor_entry}')\n",
    "\t\t\t\treturn\n",
    "\t\texcept:\n",
    "\t\t\tif DEBUG:\n",
    "\t\t\t\timport traceback\n",
    "\t\t\t\ttl.teeerror(f'Error comparing dev and ino {monitor_entry}')\n",
    "\t\t\t\ttl.teeerror(traceback.format_exc())\n",
    "\t\ttry:\n",
    "\t\t\tif monitor_entry_stat.st_size != latest_version_entry_stat.st_size:\n",
    "\t\t\t\t# size is different\n",
    "\t\t\t\tif DEBUG:\n",
    "\t\t\t\t\ttl.teeprint(f'Size different {monitor_entry}')\n",
    "\t\t\t\tbackupEntries[monitor_entry] = BackupEntryValues(datetime.datetime.now().isoformat(),'modify',None)\n",
    "\t\t\telif monitor_entry_stat.st_mtime_ns == latest_version_entry_stat.st_mtime_ns:\n",
    "\t\t\t\t# size and mtime the same, we assume as if the file content is the same\n",
    "\t\t\t\tif monitor_entry_stat.st_ctime_ns != latest_version_entry_stat.st_ctime_ns:\n",
    "\t\t\t\t\t# attrib changed\n",
    "\t\t\t\t\tif DEBUG:\n",
    "\t\t\t\t\t\ttl.teeprint(f'Size Same, mtime same, ctime different {monitor_entry}')\n",
    "\t\t\t\t\tbackupEntries[monitor_entry] = BackupEntryValues(datetime.datetime.now().isoformat(),'attrib',None)\n",
    "\t\t\t\telif DEBUG:\n",
    "\t\t\t\t\ttl.teeprint(f'Size Same, mtime same, ctime same {monitor_entry}')\n",
    "\t\t\telif not isDir and hash_file(monitor_entry,monitor_entry_stat.st_size) != hash_file(latest_version_entry,latest_version_entry_stat.st_size):\n",
    "\t\t\t\t# size is same, but mtime is different, and hash is different\n",
    "\t\t\t\tif DEBUG:\n",
    "\t\t\t\t\ttl.teeprint(f'Size Same, mtime different, hash different {monitor_entry}')\n",
    "\t\t\t\tbackupEntries[monitor_entry] = BackupEntryValues(datetime.datetime.now().isoformat(),'modify',None)\n",
    "\t\t\telif isDir:\n",
    "\t\t\t\t# check for mode, uid, gid\n",
    "\t\t\t\tif monitor_entry_stat.st_mode != latest_version_entry_stat.st_mode or monitor_entry_stat.st_uid != latest_version_entry_stat.st_uid or monitor_entry_stat.st_gid != latest_version_entry_stat.st_gid:\n",
    "\t\t\t\t\t# attrib changed\n",
    "\t\t\t\t\tif DEBUG:\n",
    "\t\t\t\t\t\ttl.teeprint(f'Dir attrib changed {monitor_entry}')\n",
    "\t\t\t\t\tbackupEntries[monitor_entry] = BackupEntryValues(datetime.datetime.now().isoformat(),'attrib',None)\n",
    "\t\t\t\telif DEBUG:\n",
    "\t\t\t\t\ttl.teeprint(f'Dir attrib same {monitor_entry}')\n",
    "\t\t\telse:\n",
    "\t\t\t\t# size is same, but mtime is different, however hash is the same\n",
    "\t\t\t\tif DEBUG:\n",
    "\t\t\t\t\ttl.teeprint(f'Size Same, mtime different, hash same{monitor_entry}')\n",
    "\t\t\t\tbackupEntries[monitor_entry] = BackupEntryValues(datetime.datetime.now().isoformat(),'attrib',None)\n",
    "\t\texcept:\n",
    "\t\t\tif DEBUG:\n",
    "\t\t\t\timport traceback\n",
    "\t\t\t\ttl.teeerror(f'Error comparing size, mtime, hash {monitor_entry}')\n",
    "\t\t\t\ttl.teeerror(traceback.format_exc())\n",
    "\t\t\t\ttl.teeprint(f'Adding as modify {monitor_entry}')\n",
    "\t\t\tbackupEntries[monitor_entry] = BackupEntryValues(datetime.datetime.now().isoformat(),'modify',None)\n",
    "\telse:\n",
    "\t\t# this is a new file/folder\n",
    "\t\tif DEBUG:\n",
    "\t\t\ttl.teeprint(f'New file/folder {monitor_entry}')\n",
    "\t\tbackupEntries[monitor_entry] = BackupEntryValues(datetime.datetime.now().isoformat(),'create',None)"
   ]
  },
  {
   "cell_type": "code",
   "execution_count": 79,
   "metadata": {},
   "outputs": [],
   "source": [
    "def delta_generate_backup_entries(backupEntries:dict,latest_version_info:VaultEntry,monitor_path:str):\n",
    "\tglobal DEBUG\n",
    "\tglobal tl\n",
    "\t# this function will generate the backup entries by comparing size, mtime and hash between latest version and the monitoring path.\n",
    "\t# When reverberator is in cold start, will not calculate hash to do space efficient move operations to vault.\n",
    "\t# When restarting reverberator, will do one backup that will only handle create, modify, delete, attrib.\n",
    "\tmonitor_files, monitor_folders = get_all_files_and_folders(monitor_path)\n",
    "\tlatest_version_files, latest_version_folders = get_all_files_and_folders(latest_version_info.path)\n",
    "\tlatest_version_files_folders = set()\n",
    "\tfor latest_version_entry in latest_version_files:\n",
    "\t\tlatest_version_files_folders.add(os.path.relpath(latest_version_entry,latest_version_info.path))\n",
    "\tfor latest_version_entry in latest_version_folders:\n",
    "\t\tlatest_version_files_folders.add(os.path.relpath(latest_version_entry,latest_version_info.path)+'/')\n",
    "\tfor monitor_entry in monitor_files:\n",
    "\t\trel_entry = os.path.relpath(monitor_entry,monitor_path)\n",
    "\t\tisDir = False\n",
    "\t\tcheck_duplicate(backupEntries,latest_version_info.path,latest_version_files_folders,rel_entry,monitor_entry,isDir)\n",
    "\tfor monitor_entry in monitor_folders:\n",
    "\t\trel_entry = os.path.relpath(monitor_entry,monitor_path) + '/'\n",
    "\t\tisDir = True\n",
    "\t\tcheck_duplicate(backupEntries,latest_version_info.path,latest_version_files_folders,rel_entry,monitor_entry,isDir)\n",
    "\tfor deleted_entry in latest_version_files_folders:\n",
    "\t\t# this is a deleted file/folder\n",
    "\t\tif DEBUG:\n",
    "\t\t\ttl.teeprint(f'Deleted file/folder {deleted_entry}')\n",
    "\t\tbackupEntries[os.path.join(monitor_path,deleted_entry)] = BackupEntryValues(datetime.datetime.now().isoformat(),'delete',None)\n",
    "\t\n"
   ]
  },
  {
   "cell_type": "code",
   "execution_count": 80,
   "metadata": {},
   "outputs": [],
   "source": [
    "backup_entries = OrderedDict()"
   ]
  },
  {
   "cell_type": "code",
   "execution_count": 81,
   "metadata": {},
   "outputs": [
    {
     "data": {
      "text/plain": [
       "VaultEntry(version_number=4, path='test_vault/V4--2022-01-01_00-00-00_+0000--1.1_MiB-4.0_ino', timestamp=1640995200.0, size=1153433, inode=4)"
      ]
     },
     "execution_count": 81,
     "metadata": {},
     "output_type": "execute_result"
    }
   ],
   "source": [
    "latest_version_info"
   ]
  },
  {
   "cell_type": "code",
   "execution_count": 82,
   "metadata": {},
   "outputs": [
    {
     "name": "stdout",
     "output_type": "stream",
     "text": [
      "\u001b[0mChecking test/.X11-unix/X1024 against test_vault/V4--2022-01-01_00-00-00_+0000--1.1_MiB-4.0_ino/.X11-unix/X1024\u001b[0m\n",
      "\u001b[0mSame file according to dev and ino number test/.X11-unix/X1024\u001b[0m\n",
      "\u001b[0mChecking test/.X11-unix/X1025 against test_vault/V4--2022-01-01_00-00-00_+0000--1.1_MiB-4.0_ino/.X11-unix/X1025\u001b[0m\n",
      "\u001b[0mSame file according to dev and ino number test/.X11-unix/X1025\u001b[0m\n",
      "\u001b[0mChecking test/.X11-unix/X0 against test_vault/V4--2022-01-01_00-00-00_+0000--1.1_MiB-4.0_ino/.X11-unix/X0\u001b[0m\n",
      "\u001b[0mSame file according to dev and ino number test/.X11-unix/X0\u001b[0m\n",
      "\u001b[0mChecking test/.X11-unix/X1 against test_vault/V4--2022-01-01_00-00-00_+0000--1.1_MiB-4.0_ino/.X11-unix/X1\u001b[0m\n",
      "\u001b[0mSame file according to dev and ino number test/.X11-unix/X1\u001b[0m\n",
      "\u001b[0mChecking test/.ICE-unix/1549 against test_vault/V4--2022-01-01_00-00-00_+0000--1.1_MiB-4.0_ino/.ICE-unix/1549\u001b[0m\n",
      "\u001b[0mSame file according to dev and ino number test/.ICE-unix/1549\u001b[0m\n",
      "\u001b[0mChecking test/.ICE-unix/2599 against test_vault/V4--2022-01-01_00-00-00_+0000--1.1_MiB-4.0_ino/.ICE-unix/2599\u001b[0m\n",
      "\u001b[0mSame file according to dev and ino number test/.ICE-unix/2599\u001b[0m\n",
      "\u001b[0mChecking test/.X1024-lock against test_vault/V4--2022-01-01_00-00-00_+0000--1.1_MiB-4.0_ino/.X1024-lock\u001b[0m\n",
      "\u001b[0mSame file according to dev and ino number test/.X1024-lock\u001b[0m\n",
      "\u001b[0mChecking test/.X1025-lock against test_vault/V4--2022-01-01_00-00-00_+0000--1.1_MiB-4.0_ino/.X1025-lock\u001b[0m\n",
      "\u001b[0mSame file according to dev and ino number test/.X1025-lock\u001b[0m\n",
      "\u001b[0mChecking test/.X0-lock against test_vault/V4--2022-01-01_00-00-00_+0000--1.1_MiB-4.0_ino/.X0-lock\u001b[0m\n",
      "\u001b[0mSame file according to dev and ino number test/.X0-lock\u001b[0m\n",
      "\u001b[0mChecking test/.X1-lock against test_vault/V4--2022-01-01_00-00-00_+0000--1.1_MiB-4.0_ino/.X1-lock\u001b[0m\n",
      "\u001b[0mSame file according to dev and ino number test/.X1-lock\u001b[0m\n",
      "\u001b[0mChecking test/tt/test against test_vault/V4--2022-01-01_00-00-00_+0000--1.1_MiB-4.0_ino/tt/test\u001b[0m\n",
      "\u001b[0mSame file according to dev and ino number test/tt/test\u001b[0m\n",
      "\u001b[0mChecking test/hello against test_vault/V4--2022-01-01_00-00-00_+0000--1.1_MiB-4.0_ino/hello\u001b[0m\n",
      "\u001b[0mSame file according to dev and ino number test/hello\u001b[0m\n",
      "\u001b[0mChecking test/modify against test_vault/V4--2022-01-01_00-00-00_+0000--1.1_MiB-4.0_ino/modify\u001b[0m\n",
      "\u001b[0mSame file according to dev and ino number test/modify\u001b[0m\n",
      "\u001b[0mChecking test/tmp/.X11-unix/X1024 against test_vault/V4--2022-01-01_00-00-00_+0000--1.1_MiB-4.0_ino/tmp/.X11-unix/X1024\u001b[0m\n",
      "\u001b[0mSame file according to dev and ino number test/tmp/.X11-unix/X1024\u001b[0m\n",
      "\u001b[0mChecking test/tmp/.X11-unix/X1025 against test_vault/V4--2022-01-01_00-00-00_+0000--1.1_MiB-4.0_ino/tmp/.X11-unix/X1025\u001b[0m\n",
      "\u001b[0mSame file according to dev and ino number test/tmp/.X11-unix/X1025\u001b[0m\n",
      "\u001b[0mChecking test/tmp/.X11-unix/X0 against test_vault/V4--2022-01-01_00-00-00_+0000--1.1_MiB-4.0_ino/tmp/.X11-unix/X0\u001b[0m\n",
      "\u001b[0mSame file according to dev and ino number test/tmp/.X11-unix/X0\u001b[0m\n",
      "\u001b[0mChecking test/tmp/.X11-unix/X1 against test_vault/V4--2022-01-01_00-00-00_+0000--1.1_MiB-4.0_ino/tmp/.X11-unix/X1\u001b[0m\n",
      "\u001b[0mSame file according to dev and ino number test/tmp/.X11-unix/X1\u001b[0m\n",
      "\u001b[0mChecking test/tmp/.ICE-unix/1549 against test_vault/V4--2022-01-01_00-00-00_+0000--1.1_MiB-4.0_ino/tmp/.ICE-unix/1549\u001b[0m\n",
      "\u001b[0mSame file according to dev and ino number test/tmp/.ICE-unix/1549\u001b[0m\n",
      "\u001b[0mChecking test/tmp/.ICE-unix/2599 against test_vault/V4--2022-01-01_00-00-00_+0000--1.1_MiB-4.0_ino/tmp/.ICE-unix/2599\u001b[0m\n",
      "\u001b[0mSame file according to dev and ino number test/tmp/.ICE-unix/2599\u001b[0m\n",
      "\u001b[0mChecking test/tmp/.ICE-unix/1539 against test_vault/V4--2022-01-01_00-00-00_+0000--1.1_MiB-4.0_ino/tmp/.ICE-unix/1539\u001b[0m\n",
      "\u001b[0mSame file according to dev and ino number test/tmp/.ICE-unix/1539\u001b[0m\n",
      "\u001b[0mChecking test/tmp/.ICE-unix/2571 against test_vault/V4--2022-01-01_00-00-00_+0000--1.1_MiB-4.0_ino/tmp/.ICE-unix/2571\u001b[0m\n",
      "\u001b[0mSame file according to dev and ino number test/tmp/.ICE-unix/2571\u001b[0m\n",
      "\u001b[0mChecking test/tmp/.X1024-lock against test_vault/V4--2022-01-01_00-00-00_+0000--1.1_MiB-4.0_ino/tmp/.X1024-lock\u001b[0m\n",
      "\u001b[0mSame file according to dev and ino number test/tmp/.X1024-lock\u001b[0m\n",
      "\u001b[0mChecking test/tmp/.X1025-lock against test_vault/V4--2022-01-01_00-00-00_+0000--1.1_MiB-4.0_ino/tmp/.X1025-lock\u001b[0m\n",
      "\u001b[0mSame file according to dev and ino number test/tmp/.X1025-lock\u001b[0m\n",
      "\u001b[0mChecking test/tmp/.X0-lock against test_vault/V4--2022-01-01_00-00-00_+0000--1.1_MiB-4.0_ino/tmp/.X0-lock\u001b[0m\n",
      "\u001b[0mSame file according to dev and ino number test/tmp/.X0-lock\u001b[0m\n",
      "\u001b[0mChecking test/tmp/.X1-lock against test_vault/V4--2022-01-01_00-00-00_+0000--1.1_MiB-4.0_ino/tmp/.X1-lock\u001b[0m\n",
      "\u001b[0mSame file according to dev and ino number test/tmp/.X1-lock\u001b[0m\n",
      "\u001b[0mChecking test/tmp/uv-2b31b12fc3a070b5.lock against test_vault/V4--2022-01-01_00-00-00_+0000--1.1_MiB-4.0_ino/tmp/uv-2b31b12fc3a070b5.lock\u001b[0m\n",
      "\u001b[0mSame file according to dev and ino number test/tmp/uv-2b31b12fc3a070b5.lock\u001b[0m\n",
      "\u001b[0mChecking test/tmp/pyright-515312-HTP3Gm9Tt9sx/posixpath-515312-SIdxzh5eAA2W-.py against test_vault/V4--2022-01-01_00-00-00_+0000--1.1_MiB-4.0_ino/tmp/pyright-515312-HTP3Gm9Tt9sx/posixpath-515312-SIdxzh5eAA2W-.py\u001b[0m\n",
      "\u001b[0mSame file according to dev and ino number test/tmp/pyright-515312-HTP3Gm9Tt9sx/posixpath-515312-SIdxzh5eAA2W-.py\u001b[0m\n",
      "\u001b[0mChecking test/tmp/pyright-515312-HTP3Gm9Tt9sx/builtins-515312-bXVHbkFb4HVW-.py against test_vault/V4--2022-01-01_00-00-00_+0000--1.1_MiB-4.0_ino/tmp/pyright-515312-HTP3Gm9Tt9sx/builtins-515312-bXVHbkFb4HVW-.py\u001b[0m\n",
      "\u001b[0mSame file according to dev and ino number test/tmp/pyright-515312-HTP3Gm9Tt9sx/builtins-515312-bXVHbkFb4HVW-.py\u001b[0m\n",
      "\u001b[0mChecking test/tmp/inotify_test/test/testrecursivefolder/nestedFolder/nestedFile.txt against test_vault/V4--2022-01-01_00-00-00_+0000--1.1_MiB-4.0_ino/tmp/inotify_test/test/testrecursivefolder/nestedFolder/nestedFile.txt\u001b[0m\n",
      "\u001b[0mSame file according to dev and ino number test/tmp/inotify_test/test/testrecursivefolder/nestedFolder/nestedFile.txt\u001b[0m\n",
      "\u001b[0mChecking test/tmp/inotify_test/dirMoveTest/subfolder.txt against test_vault/V4--2022-01-01_00-00-00_+0000--1.1_MiB-4.0_ino/tmp/inotify_test/dirMoveTest/subfolder.txt\u001b[0m\n",
      "\u001b[0mSame file according to dev and ino number test/tmp/inotify_test/dirMoveTest/subfolder.txt\u001b[0m\n",
      "\u001b[0mChecking test/tmp/inotify_test/dirMoveTest/move_into_sub_folder.txt against test_vault/V4--2022-01-01_00-00-00_+0000--1.1_MiB-4.0_ino/tmp/inotify_test/dirMoveTest/move_into_sub_folder.txt\u001b[0m\n",
      "\u001b[0mSame file according to dev and ino number test/tmp/inotify_test/dirMoveTest/move_into_sub_folder.txt\u001b[0m\n",
      "\u001b[0mChecking test/tmp/inotify_test/dirMoveTest/test_temp.txt against test_vault/V4--2022-01-01_00-00-00_+0000--1.1_MiB-4.0_ino/tmp/inotify_test/dirMoveTest/test_temp.txt\u001b[0m\n",
      "\u001b[0mSame file according to dev and ino number test/tmp/inotify_test/dirMoveTest/test_temp.txt\u001b[0m\n",
      "\u001b[0mChecking test/tmp/inotify_test/move_test_trick.txt against test_vault/V4--2022-01-01_00-00-00_+0000--1.1_MiB-4.0_ino/tmp/inotify_test/move_test_trick.txt\u001b[0m\n",
      "\u001b[0mSame file according to dev and ino number test/tmp/inotify_test/move_test_trick.txt\u001b[0m\n",
      "\u001b[0mChecking test/tmp/inotify_test/same_file_move_out_in.txt against test_vault/V4--2022-01-01_00-00-00_+0000--1.1_MiB-4.0_ino/tmp/inotify_test/same_file_move_out_in.txt\u001b[0m\n",
      "\u001b[0mSame file according to dev and ino number test/tmp/inotify_test/same_file_move_out_in.txt\u001b[0m\n",
      "\u001b[0mChecking test/tmp/outside.txt against test_vault/V4--2022-01-01_00-00-00_+0000--1.1_MiB-4.0_ino/tmp/outside.txt\u001b[0m\n",
      "\u001b[0mSame file according to dev and ino number test/tmp/outside.txt\u001b[0m\n",
      "\u001b[0mChecking test/tmp/KT3532.shell-extension.zip against test_vault/V4--2022-01-01_00-00-00_+0000--1.1_MiB-4.0_ino/tmp/KT3532.shell-extension.zip\u001b[0m\n",
      "\u001b[0mSame file according to dev and ino number test/tmp/KT3532.shell-extension.zip\u001b[0m\n",
      "\u001b[0mChecking test/tmp/pyright-15295-Z11NhJhUM5Gg/builtins-15295-CrYd7mpwfHk2-.py against test_vault/V4--2022-01-01_00-00-00_+0000--1.1_MiB-4.0_ino/tmp/pyright-15295-Z11NhJhUM5Gg/builtins-15295-CrYd7mpwfHk2-.py\u001b[0m\n",
      "\u001b[0mSame file according to dev and ino number test/tmp/pyright-15295-Z11NhJhUM5Gg/builtins-15295-CrYd7mpwfHk2-.py\u001b[0m\n",
      "\u001b[0mChecking test/tmp/pyright-15295-Z11NhJhUM5Gg/time-15295-Ic0ff6LIBfw5-.py against test_vault/V4--2022-01-01_00-00-00_+0000--1.1_MiB-4.0_ino/tmp/pyright-15295-Z11NhJhUM5Gg/time-15295-Ic0ff6LIBfw5-.py\u001b[0m\n",
      "\u001b[0mSame file according to dev and ino number test/tmp/pyright-15295-Z11NhJhUM5Gg/time-15295-Ic0ff6LIBfw5-.py\u001b[0m\n",
      "\u001b[0mChecking test/tmp/pyright-15295-Z11NhJhUM5Gg/builtins-15295-CCDBkTdhcaph-.py against test_vault/V4--2022-01-01_00-00-00_+0000--1.1_MiB-4.0_ino/tmp/pyright-15295-Z11NhJhUM5Gg/builtins-15295-CCDBkTdhcaph-.py\u001b[0m\n",
      "\u001b[0mSame file according to dev and ino number test/tmp/pyright-15295-Z11NhJhUM5Gg/builtins-15295-CCDBkTdhcaph-.py\u001b[0m\n",
      "\u001b[0mChecking test/tmp/__multiSSH3_UNAVAILABLE_HOSTS.csv against test_vault/V4--2022-01-01_00-00-00_+0000--1.1_MiB-4.0_ino/tmp/__multiSSH3_UNAVAILABLE_HOSTS.csv\u001b[0m\n",
      "\u001b[0mSame file according to dev and ino number test/tmp/__multiSSH3_UNAVAILABLE_HOSTS.csv\u001b[0m\n",
      "\u001b[0mChecking test/tmp/pyright-222634-4hJ5iEKsly0p/builtins-222634-h3xFcai7Z51G-.py against test_vault/V4--2022-01-01_00-00-00_+0000--1.1_MiB-4.0_ino/tmp/pyright-222634-4hJ5iEKsly0p/builtins-222634-h3xFcai7Z51G-.py\u001b[0m\n",
      "\u001b[0mSame file according to dev and ino number test/tmp/pyright-222634-4hJ5iEKsly0p/builtins-222634-h3xFcai7Z51G-.py\u001b[0m\n",
      "\u001b[0mChecking test/.X11-unix/ against test_vault/V4--2022-01-01_00-00-00_+0000--1.1_MiB-4.0_ino/.X11-unix/\u001b[0m\n",
      "\u001b[0mDir attrib same test/.X11-unix/\u001b[0m\n",
      "\u001b[0mChecking test/.ICE-unix/ against test_vault/V4--2022-01-01_00-00-00_+0000--1.1_MiB-4.0_ino/.ICE-unix/\u001b[0m\n",
      "\u001b[0mDir attrib same test/.ICE-unix/\u001b[0m\n",
      "\u001b[0mChecking test/.XIM-unix/ against test_vault/V4--2022-01-01_00-00-00_+0000--1.1_MiB-4.0_ino/.XIM-unix/\u001b[0m\n",
      "\u001b[0mDir attrib same test/.XIM-unix/\u001b[0m\n",
      "\u001b[0mChecking test/.font-unix/ against test_vault/V4--2022-01-01_00-00-00_+0000--1.1_MiB-4.0_ino/.font-unix/\u001b[0m\n",
      "\u001b[0mDir attrib same test/.font-unix/\u001b[0m\n",
      "\u001b[0mChecking test/tt/ against test_vault/V4--2022-01-01_00-00-00_+0000--1.1_MiB-4.0_ino/tt/\u001b[0m\n",
      "\u001b[0mDir attrib same test/tt/\u001b[0m\n",
      "\u001b[0mChecking test/tmp/ against test_vault/V4--2022-01-01_00-00-00_+0000--1.1_MiB-4.0_ino/tmp/\u001b[0m\n",
      "\u001b[0mDir attrib same test/tmp/\u001b[0m\n",
      "\u001b[0mChecking test/tmp/.X11-unix/ against test_vault/V4--2022-01-01_00-00-00_+0000--1.1_MiB-4.0_ino/tmp/.X11-unix/\u001b[0m\n",
      "\u001b[0mDir attrib same test/tmp/.X11-unix/\u001b[0m\n",
      "\u001b[0mChecking test/tmp/.ICE-unix/ against test_vault/V4--2022-01-01_00-00-00_+0000--1.1_MiB-4.0_ino/tmp/.ICE-unix/\u001b[0m\n",
      "\u001b[0mDir attrib same test/tmp/.ICE-unix/\u001b[0m\n",
      "\u001b[0mChecking test/tmp/.XIM-unix/ against test_vault/V4--2022-01-01_00-00-00_+0000--1.1_MiB-4.0_ino/tmp/.XIM-unix/\u001b[0m\n",
      "\u001b[0mDir attrib same test/tmp/.XIM-unix/\u001b[0m\n",
      "\u001b[0mChecking test/tmp/.font-unix/ against test_vault/V4--2022-01-01_00-00-00_+0000--1.1_MiB-4.0_ino/tmp/.font-unix/\u001b[0m\n",
      "\u001b[0mDir attrib same test/tmp/.font-unix/\u001b[0m\n",
      "\u001b[0mChecking test/tmp/systemd-private-c37291b89cf249afa1bc4073bbe7a189-systemd-oomd.service-1ykqG9/ against test_vault/V4--2022-01-01_00-00-00_+0000--1.1_MiB-4.0_ino/tmp/systemd-private-c37291b89cf249afa1bc4073bbe7a189-systemd-oomd.service-1ykqG9/\u001b[0m\n",
      "\u001b[0mDir attrib same test/tmp/systemd-private-c37291b89cf249afa1bc4073bbe7a189-systemd-oomd.service-1ykqG9/\u001b[0m\n",
      "\u001b[0mChecking test/tmp/systemd-private-c37291b89cf249afa1bc4073bbe7a189-systemd-resolved.service-V4OAMi/ against test_vault/V4--2022-01-01_00-00-00_+0000--1.1_MiB-4.0_ino/tmp/systemd-private-c37291b89cf249afa1bc4073bbe7a189-systemd-resolved.service-V4OAMi/\u001b[0m\n",
      "\u001b[0mDir attrib same test/tmp/systemd-private-c37291b89cf249afa1bc4073bbe7a189-systemd-resolved.service-V4OAMi/\u001b[0m\n",
      "\u001b[0mChecking test/tmp/systemd-private-c37291b89cf249afa1bc4073bbe7a189-dbus-broker.service-Q1tPNC/ against test_vault/V4--2022-01-01_00-00-00_+0000--1.1_MiB-4.0_ino/tmp/systemd-private-c37291b89cf249afa1bc4073bbe7a189-dbus-broker.service-Q1tPNC/\u001b[0m\n",
      "\u001b[0mDir attrib same test/tmp/systemd-private-c37291b89cf249afa1bc4073bbe7a189-dbus-broker.service-Q1tPNC/\u001b[0m\n",
      "\u001b[0mChecking test/tmp/systemd-private-c37291b89cf249afa1bc4073bbe7a189-bluetooth.service-9Sqr7A/ against test_vault/V4--2022-01-01_00-00-00_+0000--1.1_MiB-4.0_ino/tmp/systemd-private-c37291b89cf249afa1bc4073bbe7a189-bluetooth.service-9Sqr7A/\u001b[0m\n",
      "\u001b[0mDir attrib same test/tmp/systemd-private-c37291b89cf249afa1bc4073bbe7a189-bluetooth.service-9Sqr7A/\u001b[0m\n",
      "\u001b[0mChecking test/tmp/systemd-private-c37291b89cf249afa1bc4073bbe7a189-chronyd.service-UA3zo0/ against test_vault/V4--2022-01-01_00-00-00_+0000--1.1_MiB-4.0_ino/tmp/systemd-private-c37291b89cf249afa1bc4073bbe7a189-chronyd.service-UA3zo0/\u001b[0m\n",
      "\u001b[0mDir attrib same test/tmp/systemd-private-c37291b89cf249afa1bc4073bbe7a189-chronyd.service-UA3zo0/\u001b[0m\n",
      "\u001b[0mChecking test/tmp/systemd-private-c37291b89cf249afa1bc4073bbe7a189-iio-sensor-proxy.service-axQnba/ against test_vault/V4--2022-01-01_00-00-00_+0000--1.1_MiB-4.0_ino/tmp/systemd-private-c37291b89cf249afa1bc4073bbe7a189-iio-sensor-proxy.service-axQnba/\u001b[0m\n",
      "\u001b[0mDir attrib same test/tmp/systemd-private-c37291b89cf249afa1bc4073bbe7a189-iio-sensor-proxy.service-axQnba/\u001b[0m\n",
      "\u001b[0mChecking test/tmp/systemd-private-c37291b89cf249afa1bc4073bbe7a189-low-memory-monitor.service-i5HxKX/ against test_vault/V4--2022-01-01_00-00-00_+0000--1.1_MiB-4.0_ino/tmp/systemd-private-c37291b89cf249afa1bc4073bbe7a189-low-memory-monitor.service-i5HxKX/\u001b[0m\n",
      "\u001b[0mDir attrib same test/tmp/systemd-private-c37291b89cf249afa1bc4073bbe7a189-low-memory-monitor.service-i5HxKX/\u001b[0m\n",
      "\u001b[0mChecking test/tmp/systemd-private-c37291b89cf249afa1bc4073bbe7a189-polkit.service-3cO0Dn/ against test_vault/V4--2022-01-01_00-00-00_+0000--1.1_MiB-4.0_ino/tmp/systemd-private-c37291b89cf249afa1bc4073bbe7a189-polkit.service-3cO0Dn/\u001b[0m\n",
      "\u001b[0mDir attrib same test/tmp/systemd-private-c37291b89cf249afa1bc4073bbe7a189-polkit.service-3cO0Dn/\u001b[0m\n",
      "\u001b[0mChecking test/tmp/systemd-private-c37291b89cf249afa1bc4073bbe7a189-rtkit-daemon.service-9D7WFM/ against test_vault/V4--2022-01-01_00-00-00_+0000--1.1_MiB-4.0_ino/tmp/systemd-private-c37291b89cf249afa1bc4073bbe7a189-rtkit-daemon.service-9D7WFM/\u001b[0m\n",
      "\u001b[0mDir attrib same test/tmp/systemd-private-c37291b89cf249afa1bc4073bbe7a189-rtkit-daemon.service-9D7WFM/\u001b[0m\n",
      "\u001b[0mChecking test/tmp/systemd-private-c37291b89cf249afa1bc4073bbe7a189-switcheroo-control.service-1H2aMZ/ against test_vault/V4--2022-01-01_00-00-00_+0000--1.1_MiB-4.0_ino/tmp/systemd-private-c37291b89cf249afa1bc4073bbe7a189-switcheroo-control.service-1H2aMZ/\u001b[0m\n",
      "\u001b[0mDir attrib same test/tmp/systemd-private-c37291b89cf249afa1bc4073bbe7a189-switcheroo-control.service-1H2aMZ/\u001b[0m\n",
      "\u001b[0mChecking test/tmp/systemd-private-c37291b89cf249afa1bc4073bbe7a189-systemd-logind.service-txoOXi/ against test_vault/V4--2022-01-01_00-00-00_+0000--1.1_MiB-4.0_ino/tmp/systemd-private-c37291b89cf249afa1bc4073bbe7a189-systemd-logind.service-txoOXi/\u001b[0m\n",
      "\u001b[0mDir attrib same test/tmp/systemd-private-c37291b89cf249afa1bc4073bbe7a189-systemd-logind.service-txoOXi/\u001b[0m\n",
      "\u001b[0mChecking test/tmp/systemd-private-c37291b89cf249afa1bc4073bbe7a189-upower.service-ihQHeH/ against test_vault/V4--2022-01-01_00-00-00_+0000--1.1_MiB-4.0_ino/tmp/systemd-private-c37291b89cf249afa1bc4073bbe7a189-upower.service-ihQHeH/\u001b[0m\n",
      "\u001b[0mDir attrib same test/tmp/systemd-private-c37291b89cf249afa1bc4073bbe7a189-upower.service-ihQHeH/\u001b[0m\n",
      "\u001b[0mChecking test/tmp/systemd-private-c37291b89cf249afa1bc4073bbe7a189-ModemManager.service-DZwWU2/ against test_vault/V4--2022-01-01_00-00-00_+0000--1.1_MiB-4.0_ino/tmp/systemd-private-c37291b89cf249afa1bc4073bbe7a189-ModemManager.service-DZwWU2/\u001b[0m\n",
      "\u001b[0mDir attrib same test/tmp/systemd-private-c37291b89cf249afa1bc4073bbe7a189-ModemManager.service-DZwWU2/\u001b[0m\n",
      "\u001b[0mChecking test/tmp/systemd-private-c37291b89cf249afa1bc4073bbe7a189-bolt.service-jmsVpe/ against test_vault/V4--2022-01-01_00-00-00_+0000--1.1_MiB-4.0_ino/tmp/systemd-private-c37291b89cf249afa1bc4073bbe7a189-bolt.service-jmsVpe/\u001b[0m\n",
      "\u001b[0mDir attrib same test/tmp/systemd-private-c37291b89cf249afa1bc4073bbe7a189-bolt.service-jmsVpe/\u001b[0m\n",
      "\u001b[0mChecking test/tmp/systemd-private-c37291b89cf249afa1bc4073bbe7a189-colord.service-ypS7dy/ against test_vault/V4--2022-01-01_00-00-00_+0000--1.1_MiB-4.0_ino/tmp/systemd-private-c37291b89cf249afa1bc4073bbe7a189-colord.service-ypS7dy/\u001b[0m\n",
      "\u001b[0mDir attrib same test/tmp/systemd-private-c37291b89cf249afa1bc4073bbe7a189-colord.service-ypS7dy/\u001b[0m\n",
      "\u001b[0mChecking test/tmp/systemd-private-c37291b89cf249afa1bc4073bbe7a189-geoclue.service-tjdd83/ against test_vault/V4--2022-01-01_00-00-00_+0000--1.1_MiB-4.0_ino/tmp/systemd-private-c37291b89cf249afa1bc4073bbe7a189-geoclue.service-tjdd83/\u001b[0m\n",
      "\u001b[0mDir attrib same test/tmp/systemd-private-c37291b89cf249afa1bc4073bbe7a189-geoclue.service-tjdd83/\u001b[0m\n",
      "\u001b[0mChecking test/tmp/systemd-private-c37291b89cf249afa1bc4073bbe7a189-fwupd.service-Iyjqa5/ against test_vault/V4--2022-01-01_00-00-00_+0000--1.1_MiB-4.0_ino/tmp/systemd-private-c37291b89cf249afa1bc4073bbe7a189-fwupd.service-Iyjqa5/\u001b[0m\n",
      "\u001b[0mDir attrib same test/tmp/systemd-private-c37291b89cf249afa1bc4073bbe7a189-fwupd.service-Iyjqa5/\u001b[0m\n",
      "\u001b[0mChecking test/tmp/systemd-private-c37291b89cf249afa1bc4073bbe7a189-passim.service-Z0zFwy/ against test_vault/V4--2022-01-01_00-00-00_+0000--1.1_MiB-4.0_ino/tmp/systemd-private-c37291b89cf249afa1bc4073bbe7a189-passim.service-Z0zFwy/\u001b[0m\n",
      "\u001b[0mDir attrib same test/tmp/systemd-private-c37291b89cf249afa1bc4073bbe7a189-passim.service-Z0zFwy/\u001b[0m\n",
      "\u001b[0mChecking test/tmp/hsperfdata_kes/ against test_vault/V4--2022-01-01_00-00-00_+0000--1.1_MiB-4.0_ino/tmp/hsperfdata_kes/\u001b[0m\n",
      "\u001b[0mDir attrib same test/tmp/hsperfdata_kes/\u001b[0m\n",
      "\u001b[0mChecking test/tmp/python-languageserver-cancellation/ against test_vault/V4--2022-01-01_00-00-00_+0000--1.1_MiB-4.0_ino/tmp/python-languageserver-cancellation/\u001b[0m\n",
      "\u001b[0mDir attrib same test/tmp/python-languageserver-cancellation/\u001b[0m\n",
      "\u001b[0mChecking test/tmp/python-languageserver-cancellation/8b01170a1bfbe069c35d5f2d00afbdde1062390f90/ against test_vault/V4--2022-01-01_00-00-00_+0000--1.1_MiB-4.0_ino/tmp/python-languageserver-cancellation/8b01170a1bfbe069c35d5f2d00afbdde1062390f90/\u001b[0m\n",
      "\u001b[0mDir attrib same test/tmp/python-languageserver-cancellation/8b01170a1bfbe069c35d5f2d00afbdde1062390f90/\u001b[0m\n",
      "\u001b[0mChecking test/tmp/python-languageserver-cancellation/a3a479f4edd7617ea418dd5076082e5144ba97b18f/ against test_vault/V4--2022-01-01_00-00-00_+0000--1.1_MiB-4.0_ino/tmp/python-languageserver-cancellation/a3a479f4edd7617ea418dd5076082e5144ba97b18f/\u001b[0m\n",
      "\u001b[0mDir attrib same test/tmp/python-languageserver-cancellation/a3a479f4edd7617ea418dd5076082e5144ba97b18f/\u001b[0m\n",
      "\u001b[0mChecking test/tmp/python-languageserver-cancellation/91a2693d45bc34a170fdb07b5b8c19d1bfc51e3869/ against test_vault/V4--2022-01-01_00-00-00_+0000--1.1_MiB-4.0_ino/tmp/python-languageserver-cancellation/91a2693d45bc34a170fdb07b5b8c19d1bfc51e3869/\u001b[0m\n",
      "\u001b[0mDir attrib same test/tmp/python-languageserver-cancellation/91a2693d45bc34a170fdb07b5b8c19d1bfc51e3869/\u001b[0m\n",
      "\u001b[0mChecking test/tmp/python-languageserver-cancellation/92fb98d3821d91322a30bff4748c9c46250af773ca/ against test_vault/V4--2022-01-01_00-00-00_+0000--1.1_MiB-4.0_ino/tmp/python-languageserver-cancellation/92fb98d3821d91322a30bff4748c9c46250af773ca/\u001b[0m\n",
      "\u001b[0mDir attrib same test/tmp/python-languageserver-cancellation/92fb98d3821d91322a30bff4748c9c46250af773ca/\u001b[0m\n",
      "\u001b[0mChecking test/tmp/pyright-6449-ZaprOe7EvDJb/ against test_vault/V4--2022-01-01_00-00-00_+0000--1.1_MiB-4.0_ino/tmp/pyright-6449-ZaprOe7EvDJb/\u001b[0m\n",
      "\u001b[0mDir attrib same test/tmp/pyright-6449-ZaprOe7EvDJb/\u001b[0m\n",
      "\u001b[0mChecking test/tmp/ipykernel_32660/ against test_vault/V4--2022-01-01_00-00-00_+0000--1.1_MiB-4.0_ino/tmp/ipykernel_32660/\u001b[0m\n",
      "\u001b[0mDir attrib same test/tmp/ipykernel_32660/\u001b[0m\n",
      "\u001b[0mChecking test/tmp/vscode-typescript1000/ against test_vault/V4--2022-01-01_00-00-00_+0000--1.1_MiB-4.0_ino/tmp/vscode-typescript1000/\u001b[0m\n",
      "\u001b[0mDir attrib same test/tmp/vscode-typescript1000/\u001b[0m\n",
      "\u001b[0mChecking test/tmp/pyright-244657-3WqwqBUFLbM3/ against test_vault/V4--2022-01-01_00-00-00_+0000--1.1_MiB-4.0_ino/tmp/pyright-244657-3WqwqBUFLbM3/\u001b[0m\n",
      "\u001b[0mDir attrib same test/tmp/pyright-244657-3WqwqBUFLbM3/\u001b[0m\n",
      "\u001b[0mChecking test/tmp/pyright-515312-HTP3Gm9Tt9sx/ against test_vault/V4--2022-01-01_00-00-00_+0000--1.1_MiB-4.0_ino/tmp/pyright-515312-HTP3Gm9Tt9sx/\u001b[0m\n",
      "\u001b[0mDir attrib same test/tmp/pyright-515312-HTP3Gm9Tt9sx/\u001b[0m\n",
      "\u001b[0mChecking test/tmp/inotify_test/ against test_vault/V4--2022-01-01_00-00-00_+0000--1.1_MiB-4.0_ino/tmp/inotify_test/\u001b[0m\n",
      "\u001b[0mDir attrib same test/tmp/inotify_test/\u001b[0m\n",
      "\u001b[0mChecking test/tmp/inotify_test/test/ against test_vault/V4--2022-01-01_00-00-00_+0000--1.1_MiB-4.0_ino/tmp/inotify_test/test/\u001b[0m\n",
      "\u001b[0mDir attrib same test/tmp/inotify_test/test/\u001b[0m\n",
      "\u001b[0mChecking test/tmp/inotify_test/test/testrecursivefolder/ against test_vault/V4--2022-01-01_00-00-00_+0000--1.1_MiB-4.0_ino/tmp/inotify_test/test/testrecursivefolder/\u001b[0m\n",
      "\u001b[0mDir attrib same test/tmp/inotify_test/test/testrecursivefolder/\u001b[0m\n",
      "\u001b[0mChecking test/tmp/inotify_test/test/testrecursivefolder/nestedFolder/ against test_vault/V4--2022-01-01_00-00-00_+0000--1.1_MiB-4.0_ino/tmp/inotify_test/test/testrecursivefolder/nestedFolder/\u001b[0m\n",
      "\u001b[0mDir attrib same test/tmp/inotify_test/test/testrecursivefolder/nestedFolder/\u001b[0m\n",
      "\u001b[0mChecking test/tmp/inotify_test/dirMoveTest/ against test_vault/V4--2022-01-01_00-00-00_+0000--1.1_MiB-4.0_ino/tmp/inotify_test/dirMoveTest/\u001b[0m\n",
      "\u001b[0mDir attrib same test/tmp/inotify_test/dirMoveTest/\u001b[0m\n",
      "\u001b[0mChecking test/tmp/systemd-private-fdd42838fc59478884c808f0421ae4a1-systemd-oomd.service-9GgLDY/ against test_vault/V4--2022-01-01_00-00-00_+0000--1.1_MiB-4.0_ino/tmp/systemd-private-fdd42838fc59478884c808f0421ae4a1-systemd-oomd.service-9GgLDY/\u001b[0m\n",
      "\u001b[0mDir attrib same test/tmp/systemd-private-fdd42838fc59478884c808f0421ae4a1-systemd-oomd.service-9GgLDY/\u001b[0m\n",
      "\u001b[0mChecking test/tmp/systemd-private-fdd42838fc59478884c808f0421ae4a1-systemd-resolved.service-sufen2/ against test_vault/V4--2022-01-01_00-00-00_+0000--1.1_MiB-4.0_ino/tmp/systemd-private-fdd42838fc59478884c808f0421ae4a1-systemd-resolved.service-sufen2/\u001b[0m\n",
      "\u001b[0mDir attrib same test/tmp/systemd-private-fdd42838fc59478884c808f0421ae4a1-systemd-resolved.service-sufen2/\u001b[0m\n",
      "\u001b[0mChecking test/tmp/systemd-private-fdd42838fc59478884c808f0421ae4a1-dbus-broker.service-IpkUwW/ against test_vault/V4--2022-01-01_00-00-00_+0000--1.1_MiB-4.0_ino/tmp/systemd-private-fdd42838fc59478884c808f0421ae4a1-dbus-broker.service-IpkUwW/\u001b[0m\n",
      "\u001b[0mDir attrib same test/tmp/systemd-private-fdd42838fc59478884c808f0421ae4a1-dbus-broker.service-IpkUwW/\u001b[0m\n",
      "\u001b[0mChecking test/tmp/systemd-private-fdd42838fc59478884c808f0421ae4a1-bluetooth.service-dqdYgP/ against test_vault/V4--2022-01-01_00-00-00_+0000--1.1_MiB-4.0_ino/tmp/systemd-private-fdd42838fc59478884c808f0421ae4a1-bluetooth.service-dqdYgP/\u001b[0m\n",
      "\u001b[0mDir attrib same test/tmp/systemd-private-fdd42838fc59478884c808f0421ae4a1-bluetooth.service-dqdYgP/\u001b[0m\n",
      "\u001b[0mChecking test/tmp/systemd-private-fdd42838fc59478884c808f0421ae4a1-chronyd.service-EP6qZr/ against test_vault/V4--2022-01-01_00-00-00_+0000--1.1_MiB-4.0_ino/tmp/systemd-private-fdd42838fc59478884c808f0421ae4a1-chronyd.service-EP6qZr/\u001b[0m\n",
      "\u001b[0mDir attrib same test/tmp/systemd-private-fdd42838fc59478884c808f0421ae4a1-chronyd.service-EP6qZr/\u001b[0m\n",
      "\u001b[0mChecking test/tmp/systemd-private-fdd42838fc59478884c808f0421ae4a1-iio-sensor-proxy.service-8pSNpU/ against test_vault/V4--2022-01-01_00-00-00_+0000--1.1_MiB-4.0_ino/tmp/systemd-private-fdd42838fc59478884c808f0421ae4a1-iio-sensor-proxy.service-8pSNpU/\u001b[0m\n",
      "\u001b[0mDir attrib same test/tmp/systemd-private-fdd42838fc59478884c808f0421ae4a1-iio-sensor-proxy.service-8pSNpU/\u001b[0m\n",
      "\u001b[0mChecking test/tmp/systemd-private-fdd42838fc59478884c808f0421ae4a1-low-memory-monitor.service-kuDJy4/ against test_vault/V4--2022-01-01_00-00-00_+0000--1.1_MiB-4.0_ino/tmp/systemd-private-fdd42838fc59478884c808f0421ae4a1-low-memory-monitor.service-kuDJy4/\u001b[0m\n",
      "\u001b[0mDir attrib same test/tmp/systemd-private-fdd42838fc59478884c808f0421ae4a1-low-memory-monitor.service-kuDJy4/\u001b[0m\n",
      "\u001b[0mChecking test/tmp/systemd-private-fdd42838fc59478884c808f0421ae4a1-polkit.service-zlUZ91/ against test_vault/V4--2022-01-01_00-00-00_+0000--1.1_MiB-4.0_ino/tmp/systemd-private-fdd42838fc59478884c808f0421ae4a1-polkit.service-zlUZ91/\u001b[0m\n",
      "\u001b[0mDir attrib same test/tmp/systemd-private-fdd42838fc59478884c808f0421ae4a1-polkit.service-zlUZ91/\u001b[0m\n",
      "\u001b[0mChecking test/tmp/systemd-private-fdd42838fc59478884c808f0421ae4a1-rtkit-daemon.service-6H78lf/ against test_vault/V4--2022-01-01_00-00-00_+0000--1.1_MiB-4.0_ino/tmp/systemd-private-fdd42838fc59478884c808f0421ae4a1-rtkit-daemon.service-6H78lf/\u001b[0m\n",
      "\u001b[0mDir attrib same test/tmp/systemd-private-fdd42838fc59478884c808f0421ae4a1-rtkit-daemon.service-6H78lf/\u001b[0m\n",
      "\u001b[0mChecking test/tmp/systemd-private-fdd42838fc59478884c808f0421ae4a1-switcheroo-control.service-89FqQm/ against test_vault/V4--2022-01-01_00-00-00_+0000--1.1_MiB-4.0_ino/tmp/systemd-private-fdd42838fc59478884c808f0421ae4a1-switcheroo-control.service-89FqQm/\u001b[0m\n",
      "\u001b[0mDir attrib same test/tmp/systemd-private-fdd42838fc59478884c808f0421ae4a1-switcheroo-control.service-89FqQm/\u001b[0m\n",
      "\u001b[0mChecking test/tmp/systemd-private-fdd42838fc59478884c808f0421ae4a1-systemd-logind.service-oMO8lg/ against test_vault/V4--2022-01-01_00-00-00_+0000--1.1_MiB-4.0_ino/tmp/systemd-private-fdd42838fc59478884c808f0421ae4a1-systemd-logind.service-oMO8lg/\u001b[0m\n",
      "\u001b[0mDir attrib same test/tmp/systemd-private-fdd42838fc59478884c808f0421ae4a1-systemd-logind.service-oMO8lg/\u001b[0m\n",
      "\u001b[0mChecking test/tmp/systemd-private-fdd42838fc59478884c808f0421ae4a1-upower.service-JnAqar/ against test_vault/V4--2022-01-01_00-00-00_+0000--1.1_MiB-4.0_ino/tmp/systemd-private-fdd42838fc59478884c808f0421ae4a1-upower.service-JnAqar/\u001b[0m\n",
      "\u001b[0mDir attrib same test/tmp/systemd-private-fdd42838fc59478884c808f0421ae4a1-upower.service-JnAqar/\u001b[0m\n",
      "\u001b[0mChecking test/tmp/systemd-private-fdd42838fc59478884c808f0421ae4a1-ModemManager.service-j8DsEa/ against test_vault/V4--2022-01-01_00-00-00_+0000--1.1_MiB-4.0_ino/tmp/systemd-private-fdd42838fc59478884c808f0421ae4a1-ModemManager.service-j8DsEa/\u001b[0m\n",
      "\u001b[0mDir attrib same test/tmp/systemd-private-fdd42838fc59478884c808f0421ae4a1-ModemManager.service-j8DsEa/\u001b[0m\n",
      "\u001b[0mChecking test/tmp/systemd-private-fdd42838fc59478884c808f0421ae4a1-bolt.service-lbZnJl/ against test_vault/V4--2022-01-01_00-00-00_+0000--1.1_MiB-4.0_ino/tmp/systemd-private-fdd42838fc59478884c808f0421ae4a1-bolt.service-lbZnJl/\u001b[0m\n",
      "\u001b[0mDir attrib same test/tmp/systemd-private-fdd42838fc59478884c808f0421ae4a1-bolt.service-lbZnJl/\u001b[0m\n",
      "\u001b[0mChecking test/tmp/systemd-private-fdd42838fc59478884c808f0421ae4a1-colord.service-HazMxT/ against test_vault/V4--2022-01-01_00-00-00_+0000--1.1_MiB-4.0_ino/tmp/systemd-private-fdd42838fc59478884c808f0421ae4a1-colord.service-HazMxT/\u001b[0m\n",
      "\u001b[0mDir attrib same test/tmp/systemd-private-fdd42838fc59478884c808f0421ae4a1-colord.service-HazMxT/\u001b[0m\n",
      "\u001b[0mChecking test/tmp/systemd-private-fdd42838fc59478884c808f0421ae4a1-geoclue.service-MIpBq5/ against test_vault/V4--2022-01-01_00-00-00_+0000--1.1_MiB-4.0_ino/tmp/systemd-private-fdd42838fc59478884c808f0421ae4a1-geoclue.service-MIpBq5/\u001b[0m\n",
      "\u001b[0mDir attrib same test/tmp/systemd-private-fdd42838fc59478884c808f0421ae4a1-geoclue.service-MIpBq5/\u001b[0m\n",
      "\u001b[0mChecking test/tmp/systemd-private-fdd42838fc59478884c808f0421ae4a1-fwupd.service-Rcxf4I/ against test_vault/V4--2022-01-01_00-00-00_+0000--1.1_MiB-4.0_ino/tmp/systemd-private-fdd42838fc59478884c808f0421ae4a1-fwupd.service-Rcxf4I/\u001b[0m\n",
      "\u001b[0mDir attrib same test/tmp/systemd-private-fdd42838fc59478884c808f0421ae4a1-fwupd.service-Rcxf4I/\u001b[0m\n",
      "\u001b[0mChecking test/tmp/systemd-private-fdd42838fc59478884c808f0421ae4a1-passim.service-oGZP8x/ against test_vault/V4--2022-01-01_00-00-00_+0000--1.1_MiB-4.0_ino/tmp/systemd-private-fdd42838fc59478884c808f0421ae4a1-passim.service-oGZP8x/\u001b[0m\n",
      "\u001b[0mDir attrib same test/tmp/systemd-private-fdd42838fc59478884c808f0421ae4a1-passim.service-oGZP8x/\u001b[0m\n",
      "\u001b[0mChecking test/tmp/pyright-15295-Z11NhJhUM5Gg/ against test_vault/V4--2022-01-01_00-00-00_+0000--1.1_MiB-4.0_ino/tmp/pyright-15295-Z11NhJhUM5Gg/\u001b[0m\n",
      "\u001b[0mDir attrib same test/tmp/pyright-15295-Z11NhJhUM5Gg/\u001b[0m\n",
      "\u001b[0mChecking test/tmp/pyright-222634-4hJ5iEKsly0p/ against test_vault/V4--2022-01-01_00-00-00_+0000--1.1_MiB-4.0_ino/tmp/pyright-222634-4hJ5iEKsly0p/\u001b[0m\n",
      "\u001b[0mDir attrib same test/tmp/pyright-222634-4hJ5iEKsly0p/\u001b[0m\n",
      "\u001b[0mChecking test/tmp/systemd-private-fdd42838fc59478884c808f0421ae4a1-rpm-ostreed.service-INIXJK/ against test_vault/V4--2022-01-01_00-00-00_+0000--1.1_MiB-4.0_ino/tmp/systemd-private-fdd42838fc59478884c808f0421ae4a1-rpm-ostreed.service-INIXJK/\u001b[0m\n",
      "\u001b[0mDir attrib same test/tmp/systemd-private-fdd42838fc59478884c808f0421ae4a1-rpm-ostreed.service-INIXJK/\u001b[0m\n",
      "\u001b[0mDeleted file/folder test/\u001b[0m\n",
      "\u001b[0mDeleted file/folder hi\u001b[0m\n"
     ]
    },
    {
     "data": {
      "text/plain": [
       "OrderedDict([('test/test/',\n",
       "              BackupEntryValues(iso_time='2025-03-28T14:57:49.972123', event='delete', source_path=None)),\n",
       "             ('test/hi',\n",
       "              BackupEntryValues(iso_time='2025-03-28T14:57:49.972155', event='delete', source_path=None))])"
      ]
     },
     "execution_count": 82,
     "metadata": {},
     "output_type": "execute_result"
    }
   ],
   "source": [
    "delta_generate_backup_entries(backup_entries,latest_version_info,'test')\n",
    "backup_entries"
   ]
  },
  {
   "cell_type": "code",
   "execution_count": 83,
   "metadata": {},
   "outputs": [],
   "source": [
    "def get_all_folders(path):\n",
    "\t_, folders = get_all_files_and_folders(path)\n",
    "\treturn folders\n",
    "\n",
    "def get_all_files(path):\n",
    "\tfiles, _ = get_all_files_and_folders(path)\n",
    "\treturn files\n",
    "\n",
    "def get_all_files_and_folders(path):\n",
    "\tfiles = []\n",
    "\tfolders = []\n",
    "\ttry:\n",
    "\t\twith os.scandir(path) as entries:\n",
    "\t\t\tfor entry in entries:\n",
    "\t\t\t\tif entry.is_dir(follow_symlinks=False):\n",
    "\t\t\t\t\tfolders.append(entry.path+'/')\n",
    "\t\t\t\t\tchild_files, child_folders = get_all_files_and_folders(entry.path)\n",
    "\t\t\t\t\tfiles.extend(child_files)\n",
    "\t\t\t\t\tfolders.extend(child_folders)\n",
    "\t\t\t\telse:\n",
    "\t\t\t\t\tfiles.append(entry.path)\n",
    "\texcept PermissionError:\n",
    "\t\tpass\n",
    "\treturn files, folders\n"
   ]
  },
  {
   "cell_type": "code",
   "execution_count": 84,
   "metadata": {},
   "outputs": [
    {
     "data": {
      "text/plain": [
       "OrderedDict([(0,\n",
       "              VaultEntry(version_number=0, path='test_vault/V0--2021-01-01_00-00-00_-0800--1.3_GiB-4.2K_ino', timestamp=1609488000.0, size=1395864371, inode=4200)),\n",
       "             (1,\n",
       "              VaultEntry(version_number=1, path='test_vault/V1--2023-01-01_00-00-00_-0800--100.0_MiB-1.0G_ino', timestamp=1672560000.0, size=104857600, inode=1000000000)),\n",
       "             (2,\n",
       "              VaultEntry(version_number=2, path='test_vault/V2--2020-01-01_00-00-00_-0800--1.0_MiB-1.00_ino', timestamp=1577865600.0, size=1048576, inode=1)),\n",
       "             (3,\n",
       "              VaultEntry(version_number=3, path='test_vault/V3--2021-01-01_00-00-00_-0800--1.3_GiB-4.2K_ino', timestamp=1609488000.0, size=1395864371, inode=4200)),\n",
       "             (4,\n",
       "              VaultEntry(version_number=4, path='test_vault/V4--2022-01-01_00-00-00_+0000--1.1_MiB-4.0_ino', timestamp=1640995200.0, size=1153433, inode=4))])"
      ]
     },
     "execution_count": 84,
     "metadata": {},
     "output_type": "execute_result"
    }
   ],
   "source": [
    "vault_info_dict"
   ]
  },
  {
   "cell_type": "code",
   "execution_count": 85,
   "metadata": {},
   "outputs": [
    {
     "data": {
      "text/plain": [
       "0"
      ]
     },
     "execution_count": 85,
     "metadata": {},
     "output_type": "execute_result"
    }
   ],
   "source": [
    "next(iter(vault_info_dict))"
   ]
  },
  {
   "cell_type": "code",
   "execution_count": 98,
   "metadata": {},
   "outputs": [
    {
     "data": {
      "text/plain": [
       "OrderedDict([(0,\n",
       "              VaultEntry(version_number=0, path='test_vault/V0--2021-01-01_00-00-00_-0800--1.3_GiB-4.2K_ino', timestamp=1609488000.0, size=1395864371, inode=4200)),\n",
       "             (1,\n",
       "              VaultEntry(version_number=1, path='test_vault/V1--2023-01-01_00-00-00_-0800--100.0_MiB-1.0G_ino', timestamp=1672560000.0, size=104857600, inode=1000000000)),\n",
       "             (2,\n",
       "              VaultEntry(version_number=2, path='test_vault/V2--2020-01-01_00-00-00_-0800--1.0_MiB-1.00_ino', timestamp=1577865600.0, size=1048576, inode=1)),\n",
       "             (3,\n",
       "              VaultEntry(version_number=3, path='test_vault/V3--2021-01-01_00-00-00_-0800--1.3_GiB-4.2K_ino', timestamp=1609488000.0, size=1395864371, inode=4200)),\n",
       "             (4,\n",
       "              VaultEntry(version_number=4, path='test_vault/V4--2022-01-01_00-00-00_+0000--1.1_MiB-4.0_ino', timestamp=1640995200.0, size=1153433, inode=4))])"
      ]
     },
     "execution_count": 98,
     "metadata": {},
     "output_type": "execute_result"
    }
   ],
   "source": [
    "vault_info_dict"
   ]
  },
  {
   "cell_type": "code",
   "execution_count": null,
   "metadata": {},
   "outputs": [],
   "source": [
    "#referenceVersionNumber, referenceVaultEntry = vault_info_dict.popitem(last=False)"
   ]
  },
  {
   "cell_type": "code",
   "execution_count": null,
   "metadata": {},
   "outputs": [
    {
     "data": {
      "text/plain": [
       "'/var/home/kes/Documents/reverberator/test_vault/V0--2021-01-01_00-00-00_-0800--1.3_GiB-4.2K_ino'"
      ]
     },
     "execution_count": 91,
     "metadata": {},
     "output_type": "execute_result"
    }
   ],
   "source": [
    "# referenceVaultPath = os.path.abspath(referenceVaultEntry.path)\n",
    "# referenceVaultPath"
   ]
  },
  {
   "cell_type": "code",
   "execution_count": 93,
   "metadata": {},
   "outputs": [
    {
     "data": {
      "text/plain": [
       "['test_vault/V4--2022-01-01_00-00-00_+0000--1.1_MiB-4.0_ino/.ICE-unix/1549',\n",
       " 'test_vault/V4--2022-01-01_00-00-00_+0000--1.1_MiB-4.0_ino/.ICE-unix/2599',\n",
       " 'test_vault/V4--2022-01-01_00-00-00_+0000--1.1_MiB-4.0_ino/.X11-unix/X1',\n",
       " 'test_vault/V4--2022-01-01_00-00-00_+0000--1.1_MiB-4.0_ino/.X11-unix/X1024',\n",
       " 'test_vault/V4--2022-01-01_00-00-00_+0000--1.1_MiB-4.0_ino/.X11-unix/X0',\n",
       " 'test_vault/V4--2022-01-01_00-00-00_+0000--1.1_MiB-4.0_ino/.X11-unix/X1025',\n",
       " 'test_vault/V4--2022-01-01_00-00-00_+0000--1.1_MiB-4.0_ino/hi',\n",
       " 'test_vault/V4--2022-01-01_00-00-00_+0000--1.1_MiB-4.0_ino/tt/test',\n",
       " 'test_vault/V4--2022-01-01_00-00-00_+0000--1.1_MiB-4.0_ino/tmp/.X11-unix/X1024',\n",
       " 'test_vault/V4--2022-01-01_00-00-00_+0000--1.1_MiB-4.0_ino/tmp/.X11-unix/X1025',\n",
       " 'test_vault/V4--2022-01-01_00-00-00_+0000--1.1_MiB-4.0_ino/tmp/.X11-unix/X0',\n",
       " 'test_vault/V4--2022-01-01_00-00-00_+0000--1.1_MiB-4.0_ino/tmp/.X11-unix/X1',\n",
       " 'test_vault/V4--2022-01-01_00-00-00_+0000--1.1_MiB-4.0_ino/tmp/.ICE-unix/2599',\n",
       " 'test_vault/V4--2022-01-01_00-00-00_+0000--1.1_MiB-4.0_ino/tmp/.ICE-unix/1549',\n",
       " 'test_vault/V4--2022-01-01_00-00-00_+0000--1.1_MiB-4.0_ino/tmp/.ICE-unix/2571',\n",
       " 'test_vault/V4--2022-01-01_00-00-00_+0000--1.1_MiB-4.0_ino/tmp/.ICE-unix/1539',\n",
       " 'test_vault/V4--2022-01-01_00-00-00_+0000--1.1_MiB-4.0_ino/tmp/pyright-515312-HTP3Gm9Tt9sx/posixpath-515312-SIdxzh5eAA2W-.py',\n",
       " 'test_vault/V4--2022-01-01_00-00-00_+0000--1.1_MiB-4.0_ino/tmp/pyright-515312-HTP3Gm9Tt9sx/builtins-515312-bXVHbkFb4HVW-.py',\n",
       " 'test_vault/V4--2022-01-01_00-00-00_+0000--1.1_MiB-4.0_ino/tmp/inotify_test/test/testrecursivefolder/nestedFolder/nestedFile.txt',\n",
       " 'test_vault/V4--2022-01-01_00-00-00_+0000--1.1_MiB-4.0_ino/tmp/inotify_test/dirMoveTest/test_temp.txt',\n",
       " 'test_vault/V4--2022-01-01_00-00-00_+0000--1.1_MiB-4.0_ino/tmp/inotify_test/dirMoveTest/move_into_sub_folder.txt',\n",
       " 'test_vault/V4--2022-01-01_00-00-00_+0000--1.1_MiB-4.0_ino/tmp/inotify_test/dirMoveTest/subfolder.txt',\n",
       " 'test_vault/V4--2022-01-01_00-00-00_+0000--1.1_MiB-4.0_ino/tmp/inotify_test/move_test_trick.txt',\n",
       " 'test_vault/V4--2022-01-01_00-00-00_+0000--1.1_MiB-4.0_ino/tmp/inotify_test/same_file_move_out_in.txt',\n",
       " 'test_vault/V4--2022-01-01_00-00-00_+0000--1.1_MiB-4.0_ino/tmp/pyright-15295-Z11NhJhUM5Gg/time-15295-Ic0ff6LIBfw5-.py',\n",
       " 'test_vault/V4--2022-01-01_00-00-00_+0000--1.1_MiB-4.0_ino/tmp/pyright-15295-Z11NhJhUM5Gg/builtins-15295-CrYd7mpwfHk2-.py',\n",
       " 'test_vault/V4--2022-01-01_00-00-00_+0000--1.1_MiB-4.0_ino/tmp/pyright-15295-Z11NhJhUM5Gg/builtins-15295-CCDBkTdhcaph-.py',\n",
       " 'test_vault/V4--2022-01-01_00-00-00_+0000--1.1_MiB-4.0_ino/tmp/pyright-222634-4hJ5iEKsly0p/builtins-222634-h3xFcai7Z51G-.py',\n",
       " 'test_vault/V4--2022-01-01_00-00-00_+0000--1.1_MiB-4.0_ino/tmp/.X1024-lock',\n",
       " 'test_vault/V4--2022-01-01_00-00-00_+0000--1.1_MiB-4.0_ino/tmp/.X1025-lock',\n",
       " 'test_vault/V4--2022-01-01_00-00-00_+0000--1.1_MiB-4.0_ino/tmp/.X1-lock',\n",
       " 'test_vault/V4--2022-01-01_00-00-00_+0000--1.1_MiB-4.0_ino/tmp/uv-2b31b12fc3a070b5.lock',\n",
       " 'test_vault/V4--2022-01-01_00-00-00_+0000--1.1_MiB-4.0_ino/tmp/.X0-lock',\n",
       " 'test_vault/V4--2022-01-01_00-00-00_+0000--1.1_MiB-4.0_ino/tmp/outside.txt',\n",
       " 'test_vault/V4--2022-01-01_00-00-00_+0000--1.1_MiB-4.0_ino/tmp/KT3532.shell-extension.zip',\n",
       " 'test_vault/V4--2022-01-01_00-00-00_+0000--1.1_MiB-4.0_ino/tmp/__multiSSH3_UNAVAILABLE_HOSTS.csv',\n",
       " 'test_vault/V4--2022-01-01_00-00-00_+0000--1.1_MiB-4.0_ino/.X1024-lock',\n",
       " 'test_vault/V4--2022-01-01_00-00-00_+0000--1.1_MiB-4.0_ino/.X1025-lock',\n",
       " 'test_vault/V4--2022-01-01_00-00-00_+0000--1.1_MiB-4.0_ino/.X0-lock',\n",
       " 'test_vault/V4--2022-01-01_00-00-00_+0000--1.1_MiB-4.0_ino/.X1-lock',\n",
       " 'test_vault/V4--2022-01-01_00-00-00_+0000--1.1_MiB-4.0_ino/modify',\n",
       " 'test_vault/V4--2022-01-01_00-00-00_+0000--1.1_MiB-4.0_ino/hello']"
      ]
     },
     "execution_count": 93,
     "metadata": {},
     "output_type": "execute_result"
    }
   ],
   "source": [
    "get_all_files('test_vault/V4--2022-01-01_00-00-00_+0000--1.1_MiB-4.0_ino')"
   ]
  },
  {
   "cell_type": "code",
   "execution_count": 129,
   "metadata": {},
   "outputs": [],
   "source": [
    "def decrement_stepper(vault_info_dict:OrderedDict) -> tuple:\n",
    "\t# this function remove the oldest reverb from path\n",
    "\tif len(vault_info_dict) < 2:\n",
    "\t\t# we cannot step as there is less than 2 availble reverbs\n",
    "\t\treturn 0 , 0\n",
    "\treferenceVersionNumber, referenceVaultEntry = vault_info_dict.popitem(last=False)\n",
    "\treferenceVaultPath = os.path.abspath(referenceVaultEntry.path)\n",
    "\tif referenceVaultPath == '/':\n",
    "\t\tprint('Attempting to remove root, skipping')\n",
    "\t\tprint(referenceVaultEntry)\n",
    "\t\treturn 0 , 0\n",
    "\tif DEBUG:\n",
    "\t\ttl.teeprint(f'Removing {referenceVersionNumber}: {referenceVaultPath}')\n",
    "\tmovedPath = {}\n",
    "\tfor applyingVersionNumber in vault_info_dict:\n",
    "\t\tapplyingVaultEntry = vault_info_dict[applyingVersionNumber]\n",
    "\t\t# now we need to go through all files in the applying vault entry\n",
    "\t\t# find all symlinks that is referencing an files in the reference vault entry\n",
    "\t\t# if it is in movedPath, we apply the new path to the symlink\n",
    "\t\t# if it is not in movedPath, this means it is first reference, thus\n",
    "\t\t#   we remove the symlink in the appying vault, move the file to the new location, and add the pair to movedPath\n",
    "\t\tpath_files = get_all_files(applyingVaultEntry.path)\n",
    "\t\tif DEBUG:\n",
    "\t\t\ttl.teeprint(f\"Dealing with {applyingVersionNumber}: {applyingVaultEntry.path} ({len(path_files)} files)\")\n",
    "\t\tnew_size = applyingVaultEntry.size\n",
    "\t\tpendingMovedPath = {}\n",
    "\t\tfor file in path_files:\n",
    "\t\t\tif os.path.islink(file):\n",
    "\t\t\t\ttarget = os.path.realpath(file)\n",
    "\t\t\t\tif target in movedPath:\n",
    "\t\t\t\t\t# we just apply the new dest to the link\n",
    "\t\t\t\t\tnew_target = os.path.relpath(movedPath[target],applyingVaultEntry.path)\n",
    "\t\t\t\t\tif DEBUG:\n",
    "\t\t\t\t\t\ttl.teeprint(f'Applying new target {new_target} to {file}')\n",
    "\t\t\t\t\tos.remove(file)\n",
    "\t\t\t\t\tos.symlink(new_target,file)\n",
    "\t\t\t\t\tcontinue\n",
    "\t\t\t\tif target.startswith(referenceVaultPath):\n",
    "\t\t\t\t\t# this means we need to move the file to the new location\n",
    "\t\t\t\t\t# get the relative path of the target\n",
    "\t\t\t\t\tif DEBUG:\n",
    "\t\t\t\t\t\ttl.teeprint(f'Moving {target} to {file}')\n",
    "\t\t\t\t\tos.remove(file)\n",
    "\t\t\t\t\tos.rename(target,file)\n",
    "\t\t\t\t\tnew_size += os.path.getsize(file)\n",
    "\t\t\t\t\tpendingMovedPath[target] = os.path.relpath(file,applyingVaultEntry.path)\n",
    "\t\t\t\telif DEBUG:\n",
    "\t\t\t\t\ttl.teeprint(f'Not moving {target} to {file}')\n",
    "\t\t\t\t\ttl.teeprint(f'{os.path.abspath(target)} not in {referenceVaultPath}')\n",
    "\t\t#V0--2021-01-01_00-00-00_-0800--1.3_GiB-4.2K_ino\n",
    "\t\tif new_size != applyingVaultEntry.size:\n",
    "\t\t\tbackup_size_str = format_bytes(new_size,use_1024_bytes=True,to_str=True).replace(' ','_')\n",
    "\t\t\tnewVaultPath = applyingVaultEntry.path.rpartition('--')[0] + f'--{backup_size_str}B-' + applyingVaultEntry.path.rpartition('-')[2]\n",
    "\t\t\tif newVaultPath != applyingVaultEntry.path:\n",
    "\t\t\t\tif DEBUG:\n",
    "\t\t\t\t\ttl.teeprint(f'Renaming {applyingVaultEntry.path} to {newVaultPath}')\n",
    "\t\t\t\tos.rename(applyingVaultEntry.path,newVaultPath)\n",
    "\t\t\t\tvault_info_dict[applyingVersionNumber] = applyingVaultEntry._replace(path=newVaultPath)\n",
    "\t\telse:\n",
    "\t\t\tnewVaultPath = applyingVaultEntry.path\n",
    "\t\tfor target in pendingMovedPath:\n",
    "\t\t\tmovedPath[target] = os.path.join(newVaultPath,pendingMovedPath[target])\n",
    "\t# remove the reference vault entry\n",
    "\tif DEBUG:\n",
    "\t\ttl.teeprint(f'Removing {referenceVaultPath}')\n",
    "\tremovingSize = get_path_size(referenceVaultPath)\n",
    "\tremovingInodes = get_path_inodes(referenceVaultPath)\n",
    "\tmultiCMD.run_command(['rm','-rf',referenceVaultPath],quiet=True,return_code_only=True)\n",
    "\n",
    "\treturn removingSize, removingInodes"
   ]
  },
  {
   "cell_type": "code",
   "execution_count": 142,
   "metadata": {},
   "outputs": [
    {
     "name": "stdout",
     "output_type": "stream",
     "text": [
      "\u001b[0mRemoving 0: /var/home/kes/Documents/reverberator/test_vault/V0--2021-01-01_00-00-00_-0800--8.00_KiB-3.00_ino\u001b[0m\n",
      "\u001b[0mDealing with 1: test_vault/V1--2023-01-01_00-00-00_-0800--4.00_KiB-2.00_ino (1 files)\u001b[0m\n",
      "\u001b[0mNot moving /var/home/kes/Documents/reverberator/test_vault/V0--2021-01-01_00-00-00_-0800--1.3_GiB-4.2K_ino/hello to test_vault/V1--2023-01-01_00-00-00_-0800--4.00_KiB-2.00_ino/hello\u001b[0m\n",
      "\u001b[0m/var/home/kes/Documents/reverberator/test_vault/V0--2021-01-01_00-00-00_-0800--1.3_GiB-4.2K_ino/hello not in /var/home/kes/Documents/reverberator/test_vault/V0--2021-01-01_00-00-00_-0800--8.00_KiB-3.00_ino\u001b[0m\n",
      "\u001b[0mDealing with 2: test_vault/V2--2020-01-01_00-00-00_-0800--4.00_KiB-2.00_ino (1 files)\u001b[0m\n",
      "\u001b[0mNot moving /var/home/kes/Documents/reverberator/test_vault/V0--2021-01-01_00-00-00_-0800--1.3_GiB-4.2K_ino/hello to test_vault/V2--2020-01-01_00-00-00_-0800--4.00_KiB-2.00_ino/hello\u001b[0m\n",
      "\u001b[0m/var/home/kes/Documents/reverberator/test_vault/V0--2021-01-01_00-00-00_-0800--1.3_GiB-4.2K_ino/hello not in /var/home/kes/Documents/reverberator/test_vault/V0--2021-01-01_00-00-00_-0800--8.00_KiB-3.00_ino\u001b[0m\n",
      "\u001b[0mDealing with 3: test_vault/V3--2021-01-01_00-00-00_-0800--132.00_KiB-100.00_ino (33 files)\u001b[0m\n",
      "\u001b[0mNot moving /var/home/kes/Documents/reverberator/test/tmp/.X11-unix/X1025 to test_vault/V3--2021-01-01_00-00-00_-0800--132.00_KiB-100.00_ino/tmp/.X11-unix/X1025\u001b[0m\n",
      "\u001b[0m/var/home/kes/Documents/reverberator/test/tmp/.X11-unix/X1025 not in /var/home/kes/Documents/reverberator/test_vault/V0--2021-01-01_00-00-00_-0800--8.00_KiB-3.00_ino\u001b[0m\n",
      "\u001b[0mNot moving /var/home/kes/Documents/reverberator/test/tmp/.X11-unix/X0 to test_vault/V3--2021-01-01_00-00-00_-0800--132.00_KiB-100.00_ino/tmp/.X11-unix/X0\u001b[0m\n",
      "\u001b[0m/var/home/kes/Documents/reverberator/test/tmp/.X11-unix/X0 not in /var/home/kes/Documents/reverberator/test_vault/V0--2021-01-01_00-00-00_-0800--8.00_KiB-3.00_ino\u001b[0m\n",
      "\u001b[0mNot moving /var/home/kes/Documents/reverberator/test/tmp/.X11-unix/X1024 to test_vault/V3--2021-01-01_00-00-00_-0800--132.00_KiB-100.00_ino/tmp/.X11-unix/X1024\u001b[0m\n",
      "\u001b[0m/var/home/kes/Documents/reverberator/test/tmp/.X11-unix/X1024 not in /var/home/kes/Documents/reverberator/test_vault/V0--2021-01-01_00-00-00_-0800--8.00_KiB-3.00_ino\u001b[0m\n",
      "\u001b[0mNot moving /var/home/kes/Documents/reverberator/test/tmp/.X11-unix/X1 to test_vault/V3--2021-01-01_00-00-00_-0800--132.00_KiB-100.00_ino/tmp/.X11-unix/X1\u001b[0m\n",
      "\u001b[0m/var/home/kes/Documents/reverberator/test/tmp/.X11-unix/X1 not in /var/home/kes/Documents/reverberator/test_vault/V0--2021-01-01_00-00-00_-0800--8.00_KiB-3.00_ino\u001b[0m\n",
      "\u001b[0mNot moving /var/home/kes/Documents/reverberator/test/tmp/.ICE-unix/1549 to test_vault/V3--2021-01-01_00-00-00_-0800--132.00_KiB-100.00_ino/tmp/.ICE-unix/1549\u001b[0m\n",
      "\u001b[0m/var/home/kes/Documents/reverberator/test/tmp/.ICE-unix/1549 not in /var/home/kes/Documents/reverberator/test_vault/V0--2021-01-01_00-00-00_-0800--8.00_KiB-3.00_ino\u001b[0m\n",
      "\u001b[0mNot moving /var/home/kes/Documents/reverberator/test/tmp/.ICE-unix/2599 to test_vault/V3--2021-01-01_00-00-00_-0800--132.00_KiB-100.00_ino/tmp/.ICE-unix/2599\u001b[0m\n",
      "\u001b[0m/var/home/kes/Documents/reverberator/test/tmp/.ICE-unix/2599 not in /var/home/kes/Documents/reverberator/test_vault/V0--2021-01-01_00-00-00_-0800--8.00_KiB-3.00_ino\u001b[0m\n",
      "\u001b[0mNot moving /var/home/kes/Documents/reverberator/test/tmp/pyright-515312-HTP3Gm9Tt9sx/builtins-515312-Dqu9lXz9MRo7-.py to test_vault/V3--2021-01-01_00-00-00_-0800--132.00_KiB-100.00_ino/tmp/pyright-515312-HTP3Gm9Tt9sx/builtins-515312-Dqu9lXz9MRo7-.py\u001b[0m\n",
      "\u001b[0m/var/home/kes/Documents/reverberator/test/tmp/pyright-515312-HTP3Gm9Tt9sx/builtins-515312-Dqu9lXz9MRo7-.py not in /var/home/kes/Documents/reverberator/test_vault/V0--2021-01-01_00-00-00_-0800--8.00_KiB-3.00_ino\u001b[0m\n",
      "\u001b[0mNot moving /var/home/kes/Documents/reverberator/test/tmp/pyright-515312-HTP3Gm9Tt9sx/posixpath-515312-SIdxzh5eAA2W-.py to test_vault/V3--2021-01-01_00-00-00_-0800--132.00_KiB-100.00_ino/tmp/pyright-515312-HTP3Gm9Tt9sx/posixpath-515312-SIdxzh5eAA2W-.py\u001b[0m\n",
      "\u001b[0m/var/home/kes/Documents/reverberator/test/tmp/pyright-515312-HTP3Gm9Tt9sx/posixpath-515312-SIdxzh5eAA2W-.py not in /var/home/kes/Documents/reverberator/test_vault/V0--2021-01-01_00-00-00_-0800--8.00_KiB-3.00_ino\u001b[0m\n",
      "\u001b[0mNot moving /var/home/kes/Documents/reverberator/test/tmp/inotify_test/test/testrecursivefolder/nestedFolder/nestedFile.txt to test_vault/V3--2021-01-01_00-00-00_-0800--132.00_KiB-100.00_ino/tmp/inotify_test/test/testrecursivefolder/nestedFolder/nestedFile.txt\u001b[0m\n",
      "\u001b[0m/var/home/kes/Documents/reverberator/test/tmp/inotify_test/test/testrecursivefolder/nestedFolder/nestedFile.txt not in /var/home/kes/Documents/reverberator/test_vault/V0--2021-01-01_00-00-00_-0800--8.00_KiB-3.00_ino\u001b[0m\n",
      "\u001b[0mNot moving /var/home/kes/Documents/reverberator/test/tmp/inotify_test/dirMoveTest/subfolder.txt to test_vault/V3--2021-01-01_00-00-00_-0800--132.00_KiB-100.00_ino/tmp/inotify_test/dirMoveTest/subfolder.txt\u001b[0m\n",
      "\u001b[0m/var/home/kes/Documents/reverberator/test/tmp/inotify_test/dirMoveTest/subfolder.txt not in /var/home/kes/Documents/reverberator/test_vault/V0--2021-01-01_00-00-00_-0800--8.00_KiB-3.00_ino\u001b[0m\n",
      "\u001b[0mNot moving /var/home/kes/Documents/reverberator/test/tmp/inotify_test/dirMoveTest/move_into_sub_folder.txt to test_vault/V3--2021-01-01_00-00-00_-0800--132.00_KiB-100.00_ino/tmp/inotify_test/dirMoveTest/move_into_sub_folder.txt\u001b[0m\n",
      "\u001b[0m/var/home/kes/Documents/reverberator/test/tmp/inotify_test/dirMoveTest/move_into_sub_folder.txt not in /var/home/kes/Documents/reverberator/test_vault/V0--2021-01-01_00-00-00_-0800--8.00_KiB-3.00_ino\u001b[0m\n",
      "\u001b[0mNot moving /var/home/kes/Documents/reverberator/test/tmp/inotify_test/dirMoveTest/test_temp.txt to test_vault/V3--2021-01-01_00-00-00_-0800--132.00_KiB-100.00_ino/tmp/inotify_test/dirMoveTest/test_temp.txt\u001b[0m\n",
      "\u001b[0m/var/home/kes/Documents/reverberator/test/tmp/inotify_test/dirMoveTest/test_temp.txt not in /var/home/kes/Documents/reverberator/test_vault/V0--2021-01-01_00-00-00_-0800--8.00_KiB-3.00_ino\u001b[0m\n",
      "\u001b[0mNot moving /var/home/kes/Documents/reverberator/test/tmp/inotify_test/same_file_move_out_in.txt to test_vault/V3--2021-01-01_00-00-00_-0800--132.00_KiB-100.00_ino/tmp/inotify_test/same_file_move_out_in.txt\u001b[0m\n",
      "\u001b[0m/var/home/kes/Documents/reverberator/test/tmp/inotify_test/same_file_move_out_in.txt not in /var/home/kes/Documents/reverberator/test_vault/V0--2021-01-01_00-00-00_-0800--8.00_KiB-3.00_ino\u001b[0m\n",
      "\u001b[0mNot moving /var/home/kes/Documents/reverberator/test/tmp/inotify_test/move_test_trick.txt to test_vault/V3--2021-01-01_00-00-00_-0800--132.00_KiB-100.00_ino/tmp/inotify_test/move_test_trick.txt\u001b[0m\n",
      "\u001b[0m/var/home/kes/Documents/reverberator/test/tmp/inotify_test/move_test_trick.txt not in /var/home/kes/Documents/reverberator/test_vault/V0--2021-01-01_00-00-00_-0800--8.00_KiB-3.00_ino\u001b[0m\n",
      "\u001b[0mNot moving /var/home/kes/Documents/reverberator/test/tmp/uv-2b31b12fc3a070b5.lock to test_vault/V3--2021-01-01_00-00-00_-0800--132.00_KiB-100.00_ino/tmp/uv-2b31b12fc3a070b5.lock\u001b[0m\n",
      "\u001b[0m/var/home/kes/Documents/reverberator/test/tmp/uv-2b31b12fc3a070b5.lock not in /var/home/kes/Documents/reverberator/test_vault/V0--2021-01-01_00-00-00_-0800--8.00_KiB-3.00_ino\u001b[0m\n",
      "\u001b[0mNot moving /var/home/kes/Documents/reverberator/test/tmp/.X1025-lock to test_vault/V3--2021-01-01_00-00-00_-0800--132.00_KiB-100.00_ino/tmp/.X1025-lock\u001b[0m\n",
      "\u001b[0m/var/home/kes/Documents/reverberator/test/tmp/.X1025-lock not in /var/home/kes/Documents/reverberator/test_vault/V0--2021-01-01_00-00-00_-0800--8.00_KiB-3.00_ino\u001b[0m\n",
      "\u001b[0mNot moving /var/home/kes/Documents/reverberator/test/tmp/.X1024-lock to test_vault/V3--2021-01-01_00-00-00_-0800--132.00_KiB-100.00_ino/tmp/.X1024-lock\u001b[0m\n",
      "\u001b[0m/var/home/kes/Documents/reverberator/test/tmp/.X1024-lock not in /var/home/kes/Documents/reverberator/test_vault/V0--2021-01-01_00-00-00_-0800--8.00_KiB-3.00_ino\u001b[0m\n",
      "\u001b[0mNot moving /var/home/kes/Documents/reverberator/test/tmp/.X0-lock to test_vault/V3--2021-01-01_00-00-00_-0800--132.00_KiB-100.00_ino/tmp/.X0-lock\u001b[0m\n",
      "\u001b[0m/var/home/kes/Documents/reverberator/test/tmp/.X0-lock not in /var/home/kes/Documents/reverberator/test_vault/V0--2021-01-01_00-00-00_-0800--8.00_KiB-3.00_ino\u001b[0m\n",
      "\u001b[0mNot moving /var/home/kes/Documents/reverberator/test/tmp/.X1-lock to test_vault/V3--2021-01-01_00-00-00_-0800--132.00_KiB-100.00_ino/tmp/.X1-lock\u001b[0m\n",
      "\u001b[0m/var/home/kes/Documents/reverberator/test/tmp/.X1-lock not in /var/home/kes/Documents/reverberator/test_vault/V0--2021-01-01_00-00-00_-0800--8.00_KiB-3.00_ino\u001b[0m\n",
      "\u001b[0mNot moving /var/home/kes/Documents/reverberator/test/tmp/outside.txt to test_vault/V3--2021-01-01_00-00-00_-0800--132.00_KiB-100.00_ino/tmp/outside.txt\u001b[0m\n",
      "\u001b[0m/var/home/kes/Documents/reverberator/test/tmp/outside.txt not in /var/home/kes/Documents/reverberator/test_vault/V0--2021-01-01_00-00-00_-0800--8.00_KiB-3.00_ino\u001b[0m\n",
      "\u001b[0mNot moving /var/home/kes/Documents/reverberator/test/.ICE-unix/1549 to test_vault/V3--2021-01-01_00-00-00_-0800--132.00_KiB-100.00_ino/.ICE-unix/1549\u001b[0m\n",
      "\u001b[0m/var/home/kes/Documents/reverberator/test/.ICE-unix/1549 not in /var/home/kes/Documents/reverberator/test_vault/V0--2021-01-01_00-00-00_-0800--8.00_KiB-3.00_ino\u001b[0m\n",
      "\u001b[0mNot moving /var/home/kes/Documents/reverberator/test/.ICE-unix/2599 to test_vault/V3--2021-01-01_00-00-00_-0800--132.00_KiB-100.00_ino/.ICE-unix/2599\u001b[0m\n",
      "\u001b[0m/var/home/kes/Documents/reverberator/test/.ICE-unix/2599 not in /var/home/kes/Documents/reverberator/test_vault/V0--2021-01-01_00-00-00_-0800--8.00_KiB-3.00_ino\u001b[0m\n",
      "\u001b[0mNot moving /var/home/kes/Documents/reverberator/test/.X11-unix/X1025 to test_vault/V3--2021-01-01_00-00-00_-0800--132.00_KiB-100.00_ino/.X11-unix/X1025\u001b[0m\n",
      "\u001b[0m/var/home/kes/Documents/reverberator/test/.X11-unix/X1025 not in /var/home/kes/Documents/reverberator/test_vault/V0--2021-01-01_00-00-00_-0800--8.00_KiB-3.00_ino\u001b[0m\n",
      "\u001b[0mNot moving /var/home/kes/Documents/reverberator/test/.X11-unix/X1 to test_vault/V3--2021-01-01_00-00-00_-0800--132.00_KiB-100.00_ino/.X11-unix/X1\u001b[0m\n",
      "\u001b[0m/var/home/kes/Documents/reverberator/test/.X11-unix/X1 not in /var/home/kes/Documents/reverberator/test_vault/V0--2021-01-01_00-00-00_-0800--8.00_KiB-3.00_ino\u001b[0m\n",
      "\u001b[0mNot moving /var/home/kes/Documents/reverberator/test/.X11-unix/X0 to test_vault/V3--2021-01-01_00-00-00_-0800--132.00_KiB-100.00_ino/.X11-unix/X0\u001b[0m\n",
      "\u001b[0m/var/home/kes/Documents/reverberator/test/.X11-unix/X0 not in /var/home/kes/Documents/reverberator/test_vault/V0--2021-01-01_00-00-00_-0800--8.00_KiB-3.00_ino\u001b[0m\n",
      "\u001b[0mNot moving /var/home/kes/Documents/reverberator/test/.X11-unix/X1024 to test_vault/V3--2021-01-01_00-00-00_-0800--132.00_KiB-100.00_ino/.X11-unix/X1024\u001b[0m\n",
      "\u001b[0m/var/home/kes/Documents/reverberator/test/.X11-unix/X1024 not in /var/home/kes/Documents/reverberator/test_vault/V0--2021-01-01_00-00-00_-0800--8.00_KiB-3.00_ino\u001b[0m\n",
      "\u001b[0mNot moving /var/home/kes/Documents/reverberator/test/pyright-244657-3WqwqBUFLbM3/builtins-244657-eFDX1Kd29DMq-.py to test_vault/V3--2021-01-01_00-00-00_-0800--132.00_KiB-100.00_ino/pyright-244657-3WqwqBUFLbM3/builtins-244657-eFDX1Kd29DMq-.py\u001b[0m\n",
      "\u001b[0m/var/home/kes/Documents/reverberator/test/pyright-244657-3WqwqBUFLbM3/builtins-244657-eFDX1Kd29DMq-.py not in /var/home/kes/Documents/reverberator/test_vault/V0--2021-01-01_00-00-00_-0800--8.00_KiB-3.00_ino\u001b[0m\n",
      "\u001b[0mNot moving /var/home/kes/Documents/reverberator/test/.X1025-lock to test_vault/V3--2021-01-01_00-00-00_-0800--132.00_KiB-100.00_ino/.X1025-lock\u001b[0m\n",
      "\u001b[0m/var/home/kes/Documents/reverberator/test/.X1025-lock not in /var/home/kes/Documents/reverberator/test_vault/V0--2021-01-01_00-00-00_-0800--8.00_KiB-3.00_ino\u001b[0m\n",
      "\u001b[0mNot moving /var/home/kes/Documents/reverberator/test/.X1-lock to test_vault/V3--2021-01-01_00-00-00_-0800--132.00_KiB-100.00_ino/.X1-lock\u001b[0m\n",
      "\u001b[0m/var/home/kes/Documents/reverberator/test/.X1-lock not in /var/home/kes/Documents/reverberator/test_vault/V0--2021-01-01_00-00-00_-0800--8.00_KiB-3.00_ino\u001b[0m\n",
      "\u001b[0mNot moving /var/home/kes/Documents/reverberator/test/.X1024-lock to test_vault/V3--2021-01-01_00-00-00_-0800--132.00_KiB-100.00_ino/.X1024-lock\u001b[0m\n",
      "\u001b[0m/var/home/kes/Documents/reverberator/test/.X1024-lock not in /var/home/kes/Documents/reverberator/test_vault/V0--2021-01-01_00-00-00_-0800--8.00_KiB-3.00_ino\u001b[0m\n",
      "\u001b[0mNot moving /var/home/kes/Documents/reverberator/test/.X0-lock to test_vault/V3--2021-01-01_00-00-00_-0800--132.00_KiB-100.00_ino/.X0-lock\u001b[0m\n",
      "\u001b[0m/var/home/kes/Documents/reverberator/test/.X0-lock not in /var/home/kes/Documents/reverberator/test_vault/V0--2021-01-01_00-00-00_-0800--8.00_KiB-3.00_ino\u001b[0m\n",
      "\u001b[0mNot moving /var/home/kes/Documents/reverberator/test/outside.txt to test_vault/V3--2021-01-01_00-00-00_-0800--132.00_KiB-100.00_ino/outside.txt\u001b[0m\n",
      "\u001b[0m/var/home/kes/Documents/reverberator/test/outside.txt not in /var/home/kes/Documents/reverberator/test_vault/V0--2021-01-01_00-00-00_-0800--8.00_KiB-3.00_ino\u001b[0m\n",
      "\u001b[0mNot moving /var/home/kes/Documents/reverberator/test/uv-2b31b12fc3a070b5.lock to test_vault/V3--2021-01-01_00-00-00_-0800--132.00_KiB-100.00_ino/uv-2b31b12fc3a070b5.lock\u001b[0m\n",
      "\u001b[0m/var/home/kes/Documents/reverberator/test/uv-2b31b12fc3a070b5.lock not in /var/home/kes/Documents/reverberator/test_vault/V0--2021-01-01_00-00-00_-0800--8.00_KiB-3.00_ino\u001b[0m\n",
      "\u001b[0mDealing with 4: test_vault/V4--2021-12-31_16-00-00_-0800--164.00_KiB-109.00_ino (42 files)\u001b[0m\n",
      "\u001b[0mNot moving /var/home/kes/Documents/reverberator/test/.ICE-unix/1549 to test_vault/V4--2021-12-31_16-00-00_-0800--164.00_KiB-109.00_ino/.ICE-unix/1549\u001b[0m\n",
      "\u001b[0m/var/home/kes/Documents/reverberator/test/.ICE-unix/1549 not in /var/home/kes/Documents/reverberator/test_vault/V0--2021-01-01_00-00-00_-0800--8.00_KiB-3.00_ino\u001b[0m\n",
      "\u001b[0mNot moving /var/home/kes/Documents/reverberator/test/.ICE-unix/2599 to test_vault/V4--2021-12-31_16-00-00_-0800--164.00_KiB-109.00_ino/.ICE-unix/2599\u001b[0m\n",
      "\u001b[0m/var/home/kes/Documents/reverberator/test/.ICE-unix/2599 not in /var/home/kes/Documents/reverberator/test_vault/V0--2021-01-01_00-00-00_-0800--8.00_KiB-3.00_ino\u001b[0m\n",
      "\u001b[0mNot moving /var/home/kes/Documents/reverberator/test/.X11-unix/X1 to test_vault/V4--2021-12-31_16-00-00_-0800--164.00_KiB-109.00_ino/.X11-unix/X1\u001b[0m\n",
      "\u001b[0m/var/home/kes/Documents/reverberator/test/.X11-unix/X1 not in /var/home/kes/Documents/reverberator/test_vault/V0--2021-01-01_00-00-00_-0800--8.00_KiB-3.00_ino\u001b[0m\n",
      "\u001b[0mNot moving /var/home/kes/Documents/reverberator/test/.X11-unix/X1024 to test_vault/V4--2021-12-31_16-00-00_-0800--164.00_KiB-109.00_ino/.X11-unix/X1024\u001b[0m\n",
      "\u001b[0m/var/home/kes/Documents/reverberator/test/.X11-unix/X1024 not in /var/home/kes/Documents/reverberator/test_vault/V0--2021-01-01_00-00-00_-0800--8.00_KiB-3.00_ino\u001b[0m\n",
      "\u001b[0mNot moving /var/home/kes/Documents/reverberator/test/.X11-unix/X0 to test_vault/V4--2021-12-31_16-00-00_-0800--164.00_KiB-109.00_ino/.X11-unix/X0\u001b[0m\n",
      "\u001b[0m/var/home/kes/Documents/reverberator/test/.X11-unix/X0 not in /var/home/kes/Documents/reverberator/test_vault/V0--2021-01-01_00-00-00_-0800--8.00_KiB-3.00_ino\u001b[0m\n",
      "\u001b[0mNot moving /var/home/kes/Documents/reverberator/test/.X11-unix/X1025 to test_vault/V4--2021-12-31_16-00-00_-0800--164.00_KiB-109.00_ino/.X11-unix/X1025\u001b[0m\n",
      "\u001b[0m/var/home/kes/Documents/reverberator/test/.X11-unix/X1025 not in /var/home/kes/Documents/reverberator/test_vault/V0--2021-01-01_00-00-00_-0800--8.00_KiB-3.00_ino\u001b[0m\n",
      "\u001b[0mNot moving /var/home/kes/Documents/reverberator/test/tt/test to test_vault/V4--2021-12-31_16-00-00_-0800--164.00_KiB-109.00_ino/tt/test\u001b[0m\n",
      "\u001b[0m/var/home/kes/Documents/reverberator/test/tt/test not in /var/home/kes/Documents/reverberator/test_vault/V0--2021-01-01_00-00-00_-0800--8.00_KiB-3.00_ino\u001b[0m\n",
      "\u001b[0mNot moving /var/home/kes/Documents/reverberator/test/tmp/.X11-unix/X1024 to test_vault/V4--2021-12-31_16-00-00_-0800--164.00_KiB-109.00_ino/tmp/.X11-unix/X1024\u001b[0m\n",
      "\u001b[0m/var/home/kes/Documents/reverberator/test/tmp/.X11-unix/X1024 not in /var/home/kes/Documents/reverberator/test_vault/V0--2021-01-01_00-00-00_-0800--8.00_KiB-3.00_ino\u001b[0m\n",
      "\u001b[0mNot moving /var/home/kes/Documents/reverberator/test/tmp/.X11-unix/X1025 to test_vault/V4--2021-12-31_16-00-00_-0800--164.00_KiB-109.00_ino/tmp/.X11-unix/X1025\u001b[0m\n",
      "\u001b[0m/var/home/kes/Documents/reverberator/test/tmp/.X11-unix/X1025 not in /var/home/kes/Documents/reverberator/test_vault/V0--2021-01-01_00-00-00_-0800--8.00_KiB-3.00_ino\u001b[0m\n",
      "\u001b[0mNot moving /var/home/kes/Documents/reverberator/test/tmp/.X11-unix/X0 to test_vault/V4--2021-12-31_16-00-00_-0800--164.00_KiB-109.00_ino/tmp/.X11-unix/X0\u001b[0m\n",
      "\u001b[0m/var/home/kes/Documents/reverberator/test/tmp/.X11-unix/X0 not in /var/home/kes/Documents/reverberator/test_vault/V0--2021-01-01_00-00-00_-0800--8.00_KiB-3.00_ino\u001b[0m\n",
      "\u001b[0mNot moving /var/home/kes/Documents/reverberator/test/tmp/.X11-unix/X1 to test_vault/V4--2021-12-31_16-00-00_-0800--164.00_KiB-109.00_ino/tmp/.X11-unix/X1\u001b[0m\n",
      "\u001b[0m/var/home/kes/Documents/reverberator/test/tmp/.X11-unix/X1 not in /var/home/kes/Documents/reverberator/test_vault/V0--2021-01-01_00-00-00_-0800--8.00_KiB-3.00_ino\u001b[0m\n",
      "\u001b[0mNot moving /var/home/kes/Documents/reverberator/test/tmp/.ICE-unix/2599 to test_vault/V4--2021-12-31_16-00-00_-0800--164.00_KiB-109.00_ino/tmp/.ICE-unix/2599\u001b[0m\n",
      "\u001b[0m/var/home/kes/Documents/reverberator/test/tmp/.ICE-unix/2599 not in /var/home/kes/Documents/reverberator/test_vault/V0--2021-01-01_00-00-00_-0800--8.00_KiB-3.00_ino\u001b[0m\n",
      "\u001b[0mNot moving /var/home/kes/Documents/reverberator/test/tmp/.ICE-unix/1549 to test_vault/V4--2021-12-31_16-00-00_-0800--164.00_KiB-109.00_ino/tmp/.ICE-unix/1549\u001b[0m\n",
      "\u001b[0m/var/home/kes/Documents/reverberator/test/tmp/.ICE-unix/1549 not in /var/home/kes/Documents/reverberator/test_vault/V0--2021-01-01_00-00-00_-0800--8.00_KiB-3.00_ino\u001b[0m\n",
      "\u001b[0mNot moving /var/home/kes/Documents/reverberator/test/tmp/.ICE-unix/2571 to test_vault/V4--2021-12-31_16-00-00_-0800--164.00_KiB-109.00_ino/tmp/.ICE-unix/2571\u001b[0m\n",
      "\u001b[0m/var/home/kes/Documents/reverberator/test/tmp/.ICE-unix/2571 not in /var/home/kes/Documents/reverberator/test_vault/V0--2021-01-01_00-00-00_-0800--8.00_KiB-3.00_ino\u001b[0m\n",
      "\u001b[0mNot moving /var/home/kes/Documents/reverberator/test/tmp/.ICE-unix/1539 to test_vault/V4--2021-12-31_16-00-00_-0800--164.00_KiB-109.00_ino/tmp/.ICE-unix/1539\u001b[0m\n",
      "\u001b[0m/var/home/kes/Documents/reverberator/test/tmp/.ICE-unix/1539 not in /var/home/kes/Documents/reverberator/test_vault/V0--2021-01-01_00-00-00_-0800--8.00_KiB-3.00_ino\u001b[0m\n",
      "\u001b[0mNot moving /var/home/kes/Documents/reverberator/test/tmp/pyright-515312-HTP3Gm9Tt9sx/posixpath-515312-SIdxzh5eAA2W-.py to test_vault/V4--2021-12-31_16-00-00_-0800--164.00_KiB-109.00_ino/tmp/pyright-515312-HTP3Gm9Tt9sx/posixpath-515312-SIdxzh5eAA2W-.py\u001b[0m\n",
      "\u001b[0m/var/home/kes/Documents/reverberator/test/tmp/pyright-515312-HTP3Gm9Tt9sx/posixpath-515312-SIdxzh5eAA2W-.py not in /var/home/kes/Documents/reverberator/test_vault/V0--2021-01-01_00-00-00_-0800--8.00_KiB-3.00_ino\u001b[0m\n",
      "\u001b[0mNot moving /var/home/kes/Documents/reverberator/test/tmp/pyright-515312-HTP3Gm9Tt9sx/builtins-515312-bXVHbkFb4HVW-.py to test_vault/V4--2021-12-31_16-00-00_-0800--164.00_KiB-109.00_ino/tmp/pyright-515312-HTP3Gm9Tt9sx/builtins-515312-bXVHbkFb4HVW-.py\u001b[0m\n",
      "\u001b[0m/var/home/kes/Documents/reverberator/test/tmp/pyright-515312-HTP3Gm9Tt9sx/builtins-515312-bXVHbkFb4HVW-.py not in /var/home/kes/Documents/reverberator/test_vault/V0--2021-01-01_00-00-00_-0800--8.00_KiB-3.00_ino\u001b[0m\n",
      "\u001b[0mNot moving /var/home/kes/Documents/reverberator/test/tmp/inotify_test/test/testrecursivefolder/nestedFolder/nestedFile.txt to test_vault/V4--2021-12-31_16-00-00_-0800--164.00_KiB-109.00_ino/tmp/inotify_test/test/testrecursivefolder/nestedFolder/nestedFile.txt\u001b[0m\n",
      "\u001b[0m/var/home/kes/Documents/reverberator/test/tmp/inotify_test/test/testrecursivefolder/nestedFolder/nestedFile.txt not in /var/home/kes/Documents/reverberator/test_vault/V0--2021-01-01_00-00-00_-0800--8.00_KiB-3.00_ino\u001b[0m\n",
      "\u001b[0mNot moving /var/home/kes/Documents/reverberator/test/tmp/inotify_test/dirMoveTest/test_temp.txt to test_vault/V4--2021-12-31_16-00-00_-0800--164.00_KiB-109.00_ino/tmp/inotify_test/dirMoveTest/test_temp.txt\u001b[0m\n",
      "\u001b[0m/var/home/kes/Documents/reverberator/test/tmp/inotify_test/dirMoveTest/test_temp.txt not in /var/home/kes/Documents/reverberator/test_vault/V0--2021-01-01_00-00-00_-0800--8.00_KiB-3.00_ino\u001b[0m\n",
      "\u001b[0mNot moving /var/home/kes/Documents/reverberator/test/tmp/inotify_test/dirMoveTest/move_into_sub_folder.txt to test_vault/V4--2021-12-31_16-00-00_-0800--164.00_KiB-109.00_ino/tmp/inotify_test/dirMoveTest/move_into_sub_folder.txt\u001b[0m\n",
      "\u001b[0m/var/home/kes/Documents/reverberator/test/tmp/inotify_test/dirMoveTest/move_into_sub_folder.txt not in /var/home/kes/Documents/reverberator/test_vault/V0--2021-01-01_00-00-00_-0800--8.00_KiB-3.00_ino\u001b[0m\n",
      "\u001b[0mNot moving /var/home/kes/Documents/reverberator/test/tmp/inotify_test/dirMoveTest/subfolder.txt to test_vault/V4--2021-12-31_16-00-00_-0800--164.00_KiB-109.00_ino/tmp/inotify_test/dirMoveTest/subfolder.txt\u001b[0m\n",
      "\u001b[0m/var/home/kes/Documents/reverberator/test/tmp/inotify_test/dirMoveTest/subfolder.txt not in /var/home/kes/Documents/reverberator/test_vault/V0--2021-01-01_00-00-00_-0800--8.00_KiB-3.00_ino\u001b[0m\n",
      "\u001b[0mNot moving /var/home/kes/Documents/reverberator/test/tmp/inotify_test/move_test_trick.txt to test_vault/V4--2021-12-31_16-00-00_-0800--164.00_KiB-109.00_ino/tmp/inotify_test/move_test_trick.txt\u001b[0m\n",
      "\u001b[0m/var/home/kes/Documents/reverberator/test/tmp/inotify_test/move_test_trick.txt not in /var/home/kes/Documents/reverberator/test_vault/V0--2021-01-01_00-00-00_-0800--8.00_KiB-3.00_ino\u001b[0m\n",
      "\u001b[0mNot moving /var/home/kes/Documents/reverberator/test/tmp/inotify_test/same_file_move_out_in.txt to test_vault/V4--2021-12-31_16-00-00_-0800--164.00_KiB-109.00_ino/tmp/inotify_test/same_file_move_out_in.txt\u001b[0m\n",
      "\u001b[0m/var/home/kes/Documents/reverberator/test/tmp/inotify_test/same_file_move_out_in.txt not in /var/home/kes/Documents/reverberator/test_vault/V0--2021-01-01_00-00-00_-0800--8.00_KiB-3.00_ino\u001b[0m\n",
      "\u001b[0mNot moving /var/home/kes/Documents/reverberator/test/tmp/pyright-15295-Z11NhJhUM5Gg/time-15295-Ic0ff6LIBfw5-.py to test_vault/V4--2021-12-31_16-00-00_-0800--164.00_KiB-109.00_ino/tmp/pyright-15295-Z11NhJhUM5Gg/time-15295-Ic0ff6LIBfw5-.py\u001b[0m\n",
      "\u001b[0m/var/home/kes/Documents/reverberator/test/tmp/pyright-15295-Z11NhJhUM5Gg/time-15295-Ic0ff6LIBfw5-.py not in /var/home/kes/Documents/reverberator/test_vault/V0--2021-01-01_00-00-00_-0800--8.00_KiB-3.00_ino\u001b[0m\n",
      "\u001b[0mNot moving /var/home/kes/Documents/reverberator/test/tmp/pyright-15295-Z11NhJhUM5Gg/builtins-15295-CrYd7mpwfHk2-.py to test_vault/V4--2021-12-31_16-00-00_-0800--164.00_KiB-109.00_ino/tmp/pyright-15295-Z11NhJhUM5Gg/builtins-15295-CrYd7mpwfHk2-.py\u001b[0m\n",
      "\u001b[0m/var/home/kes/Documents/reverberator/test/tmp/pyright-15295-Z11NhJhUM5Gg/builtins-15295-CrYd7mpwfHk2-.py not in /var/home/kes/Documents/reverberator/test_vault/V0--2021-01-01_00-00-00_-0800--8.00_KiB-3.00_ino\u001b[0m\n",
      "\u001b[0mNot moving /var/home/kes/Documents/reverberator/test/tmp/pyright-15295-Z11NhJhUM5Gg/builtins-15295-CCDBkTdhcaph-.py to test_vault/V4--2021-12-31_16-00-00_-0800--164.00_KiB-109.00_ino/tmp/pyright-15295-Z11NhJhUM5Gg/builtins-15295-CCDBkTdhcaph-.py\u001b[0m\n",
      "\u001b[0m/var/home/kes/Documents/reverberator/test/tmp/pyright-15295-Z11NhJhUM5Gg/builtins-15295-CCDBkTdhcaph-.py not in /var/home/kes/Documents/reverberator/test_vault/V0--2021-01-01_00-00-00_-0800--8.00_KiB-3.00_ino\u001b[0m\n",
      "\u001b[0mNot moving /var/home/kes/Documents/reverberator/test/tmp/pyright-222634-4hJ5iEKsly0p/builtins-222634-h3xFcai7Z51G-.py to test_vault/V4--2021-12-31_16-00-00_-0800--164.00_KiB-109.00_ino/tmp/pyright-222634-4hJ5iEKsly0p/builtins-222634-h3xFcai7Z51G-.py\u001b[0m\n",
      "\u001b[0m/var/home/kes/Documents/reverberator/test/tmp/pyright-222634-4hJ5iEKsly0p/builtins-222634-h3xFcai7Z51G-.py not in /var/home/kes/Documents/reverberator/test_vault/V0--2021-01-01_00-00-00_-0800--8.00_KiB-3.00_ino\u001b[0m\n",
      "\u001b[0mNot moving /var/home/kes/Documents/reverberator/test/tmp/.X1024-lock to test_vault/V4--2021-12-31_16-00-00_-0800--164.00_KiB-109.00_ino/tmp/.X1024-lock\u001b[0m\n",
      "\u001b[0m/var/home/kes/Documents/reverberator/test/tmp/.X1024-lock not in /var/home/kes/Documents/reverberator/test_vault/V0--2021-01-01_00-00-00_-0800--8.00_KiB-3.00_ino\u001b[0m\n",
      "\u001b[0mNot moving /var/home/kes/Documents/reverberator/test/tmp/.X1025-lock to test_vault/V4--2021-12-31_16-00-00_-0800--164.00_KiB-109.00_ino/tmp/.X1025-lock\u001b[0m\n",
      "\u001b[0m/var/home/kes/Documents/reverberator/test/tmp/.X1025-lock not in /var/home/kes/Documents/reverberator/test_vault/V0--2021-01-01_00-00-00_-0800--8.00_KiB-3.00_ino\u001b[0m\n",
      "\u001b[0mNot moving /var/home/kes/Documents/reverberator/test/tmp/.X1-lock to test_vault/V4--2021-12-31_16-00-00_-0800--164.00_KiB-109.00_ino/tmp/.X1-lock\u001b[0m\n",
      "\u001b[0m/var/home/kes/Documents/reverberator/test/tmp/.X1-lock not in /var/home/kes/Documents/reverberator/test_vault/V0--2021-01-01_00-00-00_-0800--8.00_KiB-3.00_ino\u001b[0m\n",
      "\u001b[0mNot moving /var/home/kes/Documents/reverberator/test/tmp/uv-2b31b12fc3a070b5.lock to test_vault/V4--2021-12-31_16-00-00_-0800--164.00_KiB-109.00_ino/tmp/uv-2b31b12fc3a070b5.lock\u001b[0m\n",
      "\u001b[0m/var/home/kes/Documents/reverberator/test/tmp/uv-2b31b12fc3a070b5.lock not in /var/home/kes/Documents/reverberator/test_vault/V0--2021-01-01_00-00-00_-0800--8.00_KiB-3.00_ino\u001b[0m\n",
      "\u001b[0mNot moving /var/home/kes/Documents/reverberator/test/tmp/.X0-lock to test_vault/V4--2021-12-31_16-00-00_-0800--164.00_KiB-109.00_ino/tmp/.X0-lock\u001b[0m\n",
      "\u001b[0m/var/home/kes/Documents/reverberator/test/tmp/.X0-lock not in /var/home/kes/Documents/reverberator/test_vault/V0--2021-01-01_00-00-00_-0800--8.00_KiB-3.00_ino\u001b[0m\n",
      "\u001b[0mNot moving /var/home/kes/Documents/reverberator/test/tmp/outside.txt to test_vault/V4--2021-12-31_16-00-00_-0800--164.00_KiB-109.00_ino/tmp/outside.txt\u001b[0m\n",
      "\u001b[0m/var/home/kes/Documents/reverberator/test/tmp/outside.txt not in /var/home/kes/Documents/reverberator/test_vault/V0--2021-01-01_00-00-00_-0800--8.00_KiB-3.00_ino\u001b[0m\n",
      "\u001b[0mNot moving /var/home/kes/Documents/reverberator/test/tmp/KT3532.shell-extension.zip to test_vault/V4--2021-12-31_16-00-00_-0800--164.00_KiB-109.00_ino/tmp/KT3532.shell-extension.zip\u001b[0m\n",
      "\u001b[0m/var/home/kes/Documents/reverberator/test/tmp/KT3532.shell-extension.zip not in /var/home/kes/Documents/reverberator/test_vault/V0--2021-01-01_00-00-00_-0800--8.00_KiB-3.00_ino\u001b[0m\n",
      "\u001b[0mNot moving /var/home/kes/Documents/reverberator/test/tmp/__multiSSH3_UNAVAILABLE_HOSTS.csv to test_vault/V4--2021-12-31_16-00-00_-0800--164.00_KiB-109.00_ino/tmp/__multiSSH3_UNAVAILABLE_HOSTS.csv\u001b[0m\n",
      "\u001b[0m/var/home/kes/Documents/reverberator/test/tmp/__multiSSH3_UNAVAILABLE_HOSTS.csv not in /var/home/kes/Documents/reverberator/test_vault/V0--2021-01-01_00-00-00_-0800--8.00_KiB-3.00_ino\u001b[0m\n",
      "\u001b[0mNot moving /var/home/kes/Documents/reverberator/test/.X1024-lock to test_vault/V4--2021-12-31_16-00-00_-0800--164.00_KiB-109.00_ino/.X1024-lock\u001b[0m\n",
      "\u001b[0m/var/home/kes/Documents/reverberator/test/.X1024-lock not in /var/home/kes/Documents/reverberator/test_vault/V0--2021-01-01_00-00-00_-0800--8.00_KiB-3.00_ino\u001b[0m\n",
      "\u001b[0mNot moving /var/home/kes/Documents/reverberator/test/.X1025-lock to test_vault/V4--2021-12-31_16-00-00_-0800--164.00_KiB-109.00_ino/.X1025-lock\u001b[0m\n",
      "\u001b[0m/var/home/kes/Documents/reverberator/test/.X1025-lock not in /var/home/kes/Documents/reverberator/test_vault/V0--2021-01-01_00-00-00_-0800--8.00_KiB-3.00_ino\u001b[0m\n",
      "\u001b[0mNot moving /var/home/kes/Documents/reverberator/test/.X0-lock to test_vault/V4--2021-12-31_16-00-00_-0800--164.00_KiB-109.00_ino/.X0-lock\u001b[0m\n",
      "\u001b[0m/var/home/kes/Documents/reverberator/test/.X0-lock not in /var/home/kes/Documents/reverberator/test_vault/V0--2021-01-01_00-00-00_-0800--8.00_KiB-3.00_ino\u001b[0m\n",
      "\u001b[0mNot moving /var/home/kes/Documents/reverberator/test/.X1-lock to test_vault/V4--2021-12-31_16-00-00_-0800--164.00_KiB-109.00_ino/.X1-lock\u001b[0m\n",
      "\u001b[0m/var/home/kes/Documents/reverberator/test/.X1-lock not in /var/home/kes/Documents/reverberator/test_vault/V0--2021-01-01_00-00-00_-0800--8.00_KiB-3.00_ino\u001b[0m\n",
      "\u001b[0mNot moving /var/home/kes/Documents/reverberator/test/modify to test_vault/V4--2021-12-31_16-00-00_-0800--164.00_KiB-109.00_ino/modify\u001b[0m\n",
      "\u001b[0m/var/home/kes/Documents/reverberator/test/modify not in /var/home/kes/Documents/reverberator/test_vault/V0--2021-01-01_00-00-00_-0800--8.00_KiB-3.00_ino\u001b[0m\n",
      "\u001b[0mNot moving /var/home/kes/Documents/reverberator/test/hello to test_vault/V4--2021-12-31_16-00-00_-0800--164.00_KiB-109.00_ino/hello\u001b[0m\n",
      "\u001b[0m/var/home/kes/Documents/reverberator/test/hello not in /var/home/kes/Documents/reverberator/test_vault/V0--2021-01-01_00-00-00_-0800--8.00_KiB-3.00_ino\u001b[0m\n",
      "\u001b[0mRemoving /var/home/kes/Documents/reverberator/test_vault/V0--2021-01-01_00-00-00_-0800--8.00_KiB-3.00_ino\u001b[0m\n",
      "get_path_size took 0.0035167409951100126 seconds\n",
      "get_path_inodes of ['/var/home/kes/Documents/reverberator/test_vault/V0--2021-01-01_00-00-00_-0800--8.00_KiB-3.00_ino'] took 0.00212555899634026 seconds\n"
     ]
    },
    {
     "data": {
      "text/plain": [
       "(8192, 3)"
      ]
     },
     "execution_count": 142,
     "metadata": {},
     "output_type": "execute_result"
    }
   ],
   "source": [
    "vault_info_dict, vault_size , vault_inodes= get_vault_info('test_vault')\n",
    "decrement_stepper(vault_info_dict)"
   ]
  },
  {
   "cell_type": "code",
   "execution_count": 126,
   "metadata": {},
   "outputs": [
    {
     "data": {
      "text/plain": [
       "OrderedDict([(1,\n",
       "              VaultEntry(version_number=1, path='test_vault/V1--2023-01-01_00-00-00_-0800--6.00_B-1000.00M_ino', timestamp=1672560000.0, size=6, inode=1000000000)),\n",
       "             (2,\n",
       "              VaultEntry(version_number=2, path='test_vault/V2--2020-01-01_00-00-00_-0800--1024.00_KiB-1.00_ino', timestamp=1577865600.0, size=1048576, inode=1)),\n",
       "             (3,\n",
       "              VaultEntry(version_number=3, path='test_vault/V3--2021-01-01_00-00-00_-0800--1.30_GiB-4.20K_ino', timestamp=1609488000.0, size=1395864371, inode=4200)),\n",
       "             (4,\n",
       "              VaultEntry(version_number=4, path='test_vault/V4--2022-01-01_00-00-00_+0000--1.10_MiB-4.00_ino', timestamp=1640995200.0, size=1153433, inode=4))])"
      ]
     },
     "execution_count": 126,
     "metadata": {},
     "output_type": "execute_result"
    }
   ],
   "source": [
    "vault_info_dict"
   ]
  },
  {
   "cell_type": "code",
   "execution_count": null,
   "metadata": {},
   "outputs": [],
   "source": []
  }
 ],
 "metadata": {
  "kernelspec": {
   "display_name": ".venv",
   "language": "python",
   "name": "python3"
  },
  "language_info": {
   "codemirror_mode": {
    "name": "ipython",
    "version": 3
   },
   "file_extension": ".py",
   "mimetype": "text/x-python",
   "name": "python",
   "nbconvert_exporter": "python",
   "pygments_lexer": "ipython3",
   "version": "3.13.2"
  }
 },
 "nbformat": 4,
 "nbformat_minor": 2
}
