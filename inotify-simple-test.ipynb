{
 "cells": [
  {
   "cell_type": "code",
   "execution_count": null,
   "metadata": {},
   "outputs": [],
   "source": [
    "import os\n",
    "import inotify_simple\n",
    "import resource"
   ]
  },
  {
   "cell_type": "code",
   "execution_count": 5,
   "metadata": {},
   "outputs": [
    {
     "name": "stdout",
     "output_type": "stream",
     "text": [
      "Place your finger on the fingerprint reader\n"
     ]
    }
   ],
   "source": [
    "if not os.path.exists('/tmp/inotify_test'):\n",
    "\tos.mkdir('/tmp/inotify_test')\n",
    "\n",
    "flags = inotify_simple.flags\n",
    "watch_flags = flags.MODIFY | flags.ATTRIB | flags.MOVED_FROM | flags.MOVED_TO | flags.CREATE | flags.DELETE | flags.DELETE_SELF | flags.MOVE_SELF | flags.UNMOUNT | flags.Q_OVERFLOW\n",
    "\n",
    "\n",
    "with inotify_simple.INotify() as inotify:\n",
    "\twd = inotify.add_watch('/tmp/inotify_test', watch_flags)\n",
    "\t# Now create, delete and modify some files in the directory being monitored:\n",
    "\tos.chdir('/tmp/inotify_test')\n",
    "\n",
    "\tos.system('mkdir foo')\n",
    "\twd= inotify.add_watch('/tmp/inotify_test/foo', watch_flags)\n",
    "\tos.system('echo hello > test.txt')\n",
    "\tos.system('echo world >> test.txt')\n",
    "\tos.system('mv test.txt test2.txt')\n",
    "\tos.system('mv test2.txt ../outside.txt')\n",
    "\tos.system('echo hello > ../outside2.txt')\n",
    "\tos.system('mv ../outside2.txt test2.txt')\n",
    "\tos.system('mv test2.txt ../outside3.txt')\n",
    "\tos.system('mv ../outside3.txt test3.txt')\n",
    "\tos.system('rm test3.txt')\n",
    "\tos.system('echo hi >> foo/test_rec.txt')\n",
    "\tos.system('mv foo bar')\n",
    "\tos.system('touch bar/test.txt')\n",
    "\tos.system('echo hello > bar/test.txt')\n",
    "\tos.system('mv bar/test.txt bar/test2.txt')\n",
    "\tos.system('sudo mount -t tmpfs tmpfs bar')\n",
    "\tos.system('sudo umount bar')\n",
    "\tos.system('touch bar/test_temp.txt')\n",
    "\tos.system('touch bar')\n",
    "\tos.system('mkdir -p test/testrecursive')\n",
    "\tinotify.rm_watch(wd)\n",
    "\tos.chdir('/tmp')\n",
    "\t# DELETE_SELF on the original directory. # Also generates an IGNORED event\n",
    "\t# indicating the watch was removed.\n",
    "\tos.system('mv inotify_test inotify_test_2')\n",
    "\tos.system('rm -rf inotify_test_2')\n",
    "\tos.system('mkdir inotify_test')\n",
    "\tevents = inotify.read()"
   ]
  },
  {
   "cell_type": "code",
   "execution_count": 6,
   "metadata": {},
   "outputs": [
    {
     "data": {
      "text/plain": [
       "[[1, [<flags.CREATE: 256>, <flags.ISDIR: 1073741824>], 0, 'foo'],\n",
       " [1, [<flags.CREATE: 256>], 0, 'test.txt'],\n",
       " [1, [<flags.MODIFY: 2>], 0, 'test.txt'],\n",
       " [1, [<flags.MOVED_FROM: 64>], 5717, 'test.txt'],\n",
       " [1, [<flags.MOVED_TO: 128>], 5717, 'test2.txt'],\n",
       " [1, [<flags.MOVED_FROM: 64>], 5718, 'test2.txt'],\n",
       " [1, [<flags.MOVED_TO: 128>], 5719, 'test2.txt'],\n",
       " [1, [<flags.MOVED_FROM: 64>], 5720, 'test2.txt'],\n",
       " [1, [<flags.MOVED_TO: 128>], 5721, 'test3.txt'],\n",
       " [1, [<flags.DELETE: 512>], 0, 'test3.txt'],\n",
       " [2, [<flags.CREATE: 256>], 0, 'test_rec.txt'],\n",
       " [2, [<flags.MODIFY: 2>], 0, 'test_rec.txt'],\n",
       " [1, [<flags.MOVED_FROM: 64>, <flags.ISDIR: 1073741824>], 5722, 'foo'],\n",
       " [1, [<flags.MOVED_TO: 128>, <flags.ISDIR: 1073741824>], 5722, 'bar'],\n",
       " [2, [<flags.MOVE_SELF: 2048>], 0, ''],\n",
       " [2, [<flags.CREATE: 256>], 0, 'test.txt'],\n",
       " [2, [<flags.ATTRIB: 4>], 0, 'test.txt'],\n",
       " [2, [<flags.MODIFY: 2>], 0, 'test.txt'],\n",
       " [2, [<flags.MOVED_FROM: 64>], 5723, 'test.txt'],\n",
       " [2, [<flags.MOVED_TO: 128>], 5723, 'test2.txt'],\n",
       " [2, [<flags.CREATE: 256>], 0, 'test_temp.txt'],\n",
       " [2, [<flags.ATTRIB: 4>], 0, 'test_temp.txt'],\n",
       " [1, [<flags.ATTRIB: 4>, <flags.ISDIR: 1073741824>], 0, 'bar'],\n",
       " [2, [<flags.ATTRIB: 4>, <flags.ISDIR: 1073741824>], 0, ''],\n",
       " [1, [<flags.CREATE: 256>, <flags.ISDIR: 1073741824>], 0, 'test'],\n",
       " [2, [<flags.IGNORED: 32768>], 0, ''],\n",
       " [1, [<flags.MOVE_SELF: 2048>], 0, ''],\n",
       " [1, [<flags.DELETE: 512>, <flags.ISDIR: 1073741824>], 0, 'test'],\n",
       " [1, [<flags.DELETE: 512>, <flags.ISDIR: 1073741824>], 0, 'bar'],\n",
       " [1, [<flags.DELETE_SELF: 1024>], 0, ''],\n",
       " [1, [<flags.IGNORED: 32768>], 0, '']]"
      ]
     },
     "execution_count": 6,
     "metadata": {},
     "output_type": "execute_result"
    }
   ],
   "source": [
    "decodedEvents = [[event.wd,inotify_simple.flags.from_mask(event.mask),event.cookie,event.name] for event in events]\n",
    "decodedEvents"
   ]
  },
  {
   "cell_type": "code",
   "execution_count": 7,
   "metadata": {},
   "outputs": [
    {
     "data": {
      "text/plain": [
       "Event(wd=1, mask=1073742080, cookie=0, name='foo')"
      ]
     },
     "execution_count": 7,
     "metadata": {},
     "output_type": "execute_result"
    }
   ],
   "source": [
    "events[0]"
   ]
  },
  {
   "cell_type": "code",
   "execution_count": 8,
   "metadata": {},
   "outputs": [
    {
     "data": {
      "text/plain": [
       "<flags.IGNORED: 32768>"
      ]
     },
     "execution_count": 8,
     "metadata": {},
     "output_type": "execute_result"
    }
   ],
   "source": [
    "inotify_simple.flags.from_mask(events[-1].mask)[0]"
   ]
  },
  {
   "cell_type": "code",
   "execution_count": 9,
   "metadata": {},
   "outputs": [],
   "source": [
    "selfDestructMask = flags.UNMOUNT | flags.IGNORED | flags.DELETE_SELF | flags.MOVE_SELF"
   ]
  },
  {
   "cell_type": "code",
   "execution_count": 10,
   "metadata": {},
   "outputs": [
    {
     "data": {
      "text/plain": [
       "32768"
      ]
     },
     "execution_count": 10,
     "metadata": {},
     "output_type": "execute_result"
    }
   ],
   "source": [
    "events[-1].mask & selfDestructMask"
   ]
  },
  {
   "cell_type": "code",
   "execution_count": 11,
   "metadata": {},
   "outputs": [],
   "source": [
    "from collections import namedtuple\n",
    "# if type is dir, event can be create \n",
    "#  ( need to recursively copy everything as inotifywait does not caputre mkdir -p properly for all sub folders),\n",
    "#  ,delete, attrib, move\n",
    "# if type is file, event can be delete, change, attrib, move\n",
    "# move detection will be handled by monitor if moved_from moved_to events were captured. \n",
    "# it will use an tsv storing all the path inode number and hash to detect move.\n",
    "ChangeEvent = namedtuple('ChangeEvent', ['monotonic_time', 'is_dir', 'event', 'path','moved_from'])\n"
   ]
  },
  {
   "cell_type": "code",
   "execution_count": 12,
   "metadata": {},
   "outputs": [],
   "source": [
    "from collections import OrderedDict\n",
    "cookieDic = OrderedDict()\n",
    "COOKIE_DICT_MAX_SIZE = 16384"
   ]
  },
  {
   "cell_type": "code",
   "execution_count": 13,
   "metadata": {},
   "outputs": [],
   "source": [
    "from collections import deque\n",
    "to_process = deque()"
   ]
  },
  {
   "cell_type": "code",
   "execution_count": 14,
   "metadata": {},
   "outputs": [],
   "source": [
    "import time\n",
    "import multiCMD"
   ]
  },
  {
   "cell_type": "code",
   "execution_count": 95,
   "metadata": {},
   "outputs": [],
   "source": [
    "import threading\n",
    "GREEN_LIGHT = threading.Event()\n",
    "GREEN_LIGHT.set()"
   ]
  },
  {
   "cell_type": "code",
   "execution_count": 16,
   "metadata": {},
   "outputs": [],
   "source": [
    "import Tee_Logger\n",
    "tl = Tee_Logger.teeLogger(systemLogFileDir='/dev/null', programName='reverberator', compressLogAfterMonths=0, deleteLogAfterYears=0, suppressPrintout=False,noLog=True)"
   ]
  },
  {
   "cell_type": "code",
   "execution_count": 17,
   "metadata": {},
   "outputs": [],
   "source": [
    "def get_all_folders(path):\n",
    "    folders = []\n",
    "    try:\n",
    "        with os.scandir(path) as entries:\n",
    "            for entry in entries:\n",
    "                if entry.is_dir(follow_symlinks=False):\n",
    "                    folders.append(entry.path)\n",
    "                    folders.extend(get_all_folders(entry.path))  # Recursive call\n",
    "    except PermissionError:\n",
    "        pass  # Skip folders without permission\n",
    "    return folders"
   ]
  },
  {
   "cell_type": "code",
   "execution_count": 18,
   "metadata": {},
   "outputs": [
    {
     "name": "stdout",
     "output_type": "stream",
     "text": [
      "28\n"
     ]
    }
   ],
   "source": [
    "for i in range(10):\n",
    "\tfolders = get_all_folders(os.path.expanduser('.'))\n",
    "print(len(folders))\n",
    "#folders"
   ]
  },
  {
   "cell_type": "code",
   "execution_count": 19,
   "metadata": {},
   "outputs": [],
   "source": [
    "rtn = multiCMD.run_command(['sysctl','fs.inotify.max_queued_events'],timeout=5,quiet=True)"
   ]
  },
  {
   "cell_type": "code",
   "execution_count": null,
   "metadata": {},
   "outputs": [
    {
     "data": {
      "text/plain": [
       "524288"
      ]
     },
     "execution_count": 20,
     "metadata": {},
     "output_type": "execute_result"
    }
   ],
   "source": [
    "resource.getrlimit(resource.RLIMIT_NOFILE)[0]"
   ]
  },
  {
   "cell_type": "code",
   "execution_count": 21,
   "metadata": {},
   "outputs": [
    {
     "data": {
      "text/plain": [
       "('1', 'test')"
      ]
     },
     "execution_count": 21,
     "metadata": {},
     "output_type": "execute_result"
    }
   ],
   "source": [
    "test = {'1':'test'}\n",
    "test.popitem()"
   ]
  },
  {
   "cell_type": "code",
   "execution_count": 97,
   "metadata": {},
   "outputs": [],
   "source": [
    "# security limits\n",
    "class inotify_resource_manager:\n",
    "\tdef __init__(self):\n",
    "\t\tself.current_user_instances = 0\n",
    "\t\tself.current_user_watches = 0\n",
    "\t\tself.can_set_max_queued_events = True\n",
    "\t\tself.can_set_max_user_instances = True\n",
    "\t\tself.can_set_max_user_watches = True\n",
    "\t\tself.can_set_max_no_files = True\n",
    "\t\tself.can_set_max_no_files_user = True\n",
    "\t\tself.debug = False\n",
    "\t\tself.max_queued_events = self.getSysctlValues('fs.inotify.max_queued_events')\n",
    "\t\tself.max_user_instances = self.getSysctlValues('fs.inotify.max_user_instances')\n",
    "\t\tself.max_user_watches = self.getSysctlValues('fs.inotify.max_user_watches')\n",
    "\t\tself.max_no_files = self.getSysctlValues('fs.file-max')\n",
    "\t\ttry:\n",
    "\t\t\tsoft , hard = resource.getrlimit(resource.RLIMIT_NOFILE)\n",
    "\t\t\tif soft < hard:\n",
    "\t\t\t\tresource.setrlimit(resource.RLIMIT_NOFILE, (hard, hard))\n",
    "\t\t\tself.max_no_files_user = hard\n",
    "\t\texcept:\n",
    "\t\t\tself.max_no_files_user = 0\n",
    "\n",
    "\tdef __iter__(self):\n",
    "\t\tfor key in self.__dict__.keys():\n",
    "\t\t\tyield key, getattr(self,key)\n",
    "\n",
    "\tdef __str__(self):\n",
    "\t\t# do not include the can_set in the string representation\n",
    "\t\treturn str(dict((k, v) for k, v in self.__dict__.items() if not k.startswith('can_set_')))\n",
    "\t\n",
    "\tdef __repr__(self):\n",
    "\t\treturn str(dict(self))\n",
    "\n",
    "\tdef getSysctlValues(self,field):\n",
    "\t\ttry:\n",
    "\t\t\trtn = multiCMD.run_command(['sysctl',field],timeout=1,quiet=not self.debug)\n",
    "\t\t\tif rtn and rtn[0]:\n",
    "\t\t\t\treturn int(rtn[0].split('=')[-1].strip())\n",
    "\t\texcept:\n",
    "\t\t\timport traceback\n",
    "\t\t\ttl.error(traceback.format_exc())\n",
    "\t\t\ttl.error(f'Failed to get {field} value')\n",
    "\t\treturn 0\n",
    "\t\n",
    "\tdef setSysctlValues(self,field,value,value_name):\n",
    "\t\ttry:\n",
    "\t\t\tif not getattr(self,f'can_set_{value_name}'):\n",
    "\t\t\t\treturn False\n",
    "\t\t\tif value is ...:\n",
    "\t\t\t\tvalue = getattr(self,value_name)\n",
    "\t\t\t# check if the current value is less\n",
    "\t\t\trtn = self.getSysctlValues(field)\n",
    "\t\t\tif rtn and rtn > value:\n",
    "\t\t\t\ttl.info(f'Current {field} is already higher than {value}')\n",
    "\t\t\t\tsetattr(self,value_name,rtn)\n",
    "\t\t\t\treturn False\n",
    "\t\t\trc = multiCMD.run_command(['sudo','sysctl',f'{field}={value}'],timeout=1,quiet=not self.debug,return_code_only=True)\n",
    "\t\t\tif self.debug:\n",
    "\t\t\t\ttl.teeprint(f'sudo sysctl {field}={value} return code = {rc}')\n",
    "\t\t\tif rc:\n",
    "\t\t\t\tif self.debug:\n",
    "\t\t\t\t\ttl.teeprint(f'Failed to set {field} to {value}')\n",
    "\t\t\t\telse:\n",
    "\t\t\t\t\ttl.info(f'Failed to set {field} to {value}')\n",
    "\t\t\t\tsetattr(self,f'can_set_{value_name}',False)\n",
    "\t\t\t\tif rtn:\n",
    "\t\t\t\t\tsetattr(self,value_name,rtn)\n",
    "\t\t\t\treturn False\n",
    "\t\t\telse:\n",
    "\t\t\t\ttl.teeok(f'Increased inotify {field} to {value}')\n",
    "\t\t\t\tsetattr(self,value_name,value)\n",
    "\t\t\t\treturn True\n",
    "\t\texcept:\n",
    "\t\t\ttry:\n",
    "\t\t\t\timport traceback\n",
    "\t\t\t\ttl.error(traceback.format_exc())\n",
    "\t\t\t\ttl.teeerror(f'Failed to set {field} = {value} for {value_name}')\n",
    "\t\t\t\tsetattr(self,f'can_set_{value_name}',False)\n",
    "\t\t\t\trtn = self.getSysctlValues(field)\n",
    "\t\t\t\tif rtn:\n",
    "\t\t\t\t\tsetattr(self,value_name,rtn)\n",
    "\t\t\t\telse:\n",
    "\t\t\t\t\tsetattr(self,value_name,-1)\n",
    "\t\t\texcept:\n",
    "\t\t\t\ttl.teeerror(f'Failed to set {field} value')\n",
    "\t\treturn False\n",
    "\n",
    "\tdef increaseInotifyMaxQueueEvents(self,max_events:int = ...):\n",
    "\t\tif not self.can_set_max_queued_events:\n",
    "\t\t\treturn False\n",
    "\t\treturn self.setSysctlValues('fs.inotify.max_queued_events',max_events,'max_queued_events')\n",
    "\n",
    "\tdef increaseInotifyMaxUserInstances(self,max_instances:int = ...):\n",
    "\t\tif not self.can_set_max_user_instances:\n",
    "\t\t\treturn False\n",
    "\t\treturn self.setSysctlValues('fs.inotify.max_user_instances',max_instances,'max_user_instances')\n",
    "\n",
    "\tdef increaseInotifyMaxUserWatches(self,max_watches:int = ...):\n",
    "\t\tif not self.can_set_max_user_watches:\n",
    "\t\t\treturn False\n",
    "\t\trtn = self.setSysctlValues('fs.inotify.max_user_watches',max_watches,'max_user_watches')\n",
    "\t\trtn2 = self.increaseNoFiles(max_watches)\n",
    "\t\treturn rtn and rtn2\n",
    "\n",
    "\tdef increaseNoFiles(self,nofile:int = ...):\n",
    "\t\tif not self.can_set_max_no_files_user:\n",
    "\t\t\treturn False\n",
    "\t\tif nofile is ...:\n",
    "\t\t\tnofile = self.max_no_files\n",
    "\t\t# attempt to increase the open file limit\n",
    "\t\ttry:\n",
    "\t\t\t# check if the current value is less\n",
    "\t\t\tif resource.getrlimit(resource.RLIMIT_NOFILE)[0] > nofile:\n",
    "\t\t\t\tif self.debug:\n",
    "\t\t\t\t\ttl.teeprint(f'Current open file limit is already higher than {nofile}')\n",
    "\t\t\t\telse:\n",
    "\t\t\t\t\ttl.info(f'Current open file limit is already higher than {nofile}')\n",
    "\t\t\t\tself.max_no_files = resource.getrlimit(resource.RLIMIT_NOFILE)[0]\n",
    "\t\t\t\treturn False\n",
    "\t\t\trtn = self.__increaseSystemNoFiles(nofile)\n",
    "\t\t\tresource.setrlimit(resource.RLIMIT_NOFILE, (nofile, nofile))\n",
    "\t\t\ttl.teeok(f'Increased open file limit to {nofile}')\n",
    "\t\t\tself.max_no_files = nofile\n",
    "\t\t\treturn rtn\n",
    "\t\texcept:\n",
    "\t\t\timport traceback\n",
    "\t\t\ttl.error(traceback.format_exc())\n",
    "\t\t\ttl.teeerror(f'Failed to increase open file limit to {nofile}')\n",
    "\t\t\tself.can_set_max_no_files_user = False\n",
    "\t\t\treturn False\n",
    "\n",
    "\tdef __increaseSystemNoFiles(self,nofile:int):\n",
    "\t\tif not self.can_set_max_no_files:\n",
    "\t\t\treturn False\n",
    "\t\treturn self.setSysctlValues('fs.file-max',nofile,'max_no_files')\n",
    "\n",
    "\tdef increaseUserInstances(self,count:int = 1):\n",
    "\t\tself.current_user_instances += count\n",
    "\t\tif self.max_user_instances <= self.current_user_instances:\n",
    "\t\t\tself.increaseInotifyMaxUserInstances(self.max_user_instances * 2)\n",
    "\t\treturn self.current_user_instances\n",
    "\t\n",
    "\tdef decreaseUserInstances(self,count:int = 1):\n",
    "\t\tself.current_user_instances -= count\n",
    "\t\treturn self.current_user_instances\n",
    "\t\n",
    "\tdef increaseUserWatches(self,count:int = 1):\n",
    "\t\tself.current_user_watches += count\n",
    "\t\tif self.max_user_watches <= self.current_user_watches:\n",
    "\t\t\tself.increaseInotifyMaxUserWatches(self.max_user_watches * 2)\n",
    "\t\treturn self.current_user_watches\n",
    "\t\n",
    "\tdef decreaseUserWatches(self,count:int = 1):\n",
    "\t\tself.current_user_watches -= count\n",
    "\t\treturn self.current_user_watches\n"
   ]
  },
  {
   "cell_type": "code",
   "execution_count": 67,
   "metadata": {},
   "outputs": [],
   "source": [
    "irm = inotify_resource_manager()\n",
    "irm.debug = True"
   ]
  },
  {
   "cell_type": "code",
   "execution_count": 70,
   "metadata": {},
   "outputs": [
    {
     "data": {
      "text/plain": [
       "{'current_user_instances': 0,\n",
       " 'current_user_watches': 0,\n",
       " 'can_set_max_queued_events': True,\n",
       " 'can_set_max_user_instances': True,\n",
       " 'can_set_max_user_watches': True,\n",
       " 'can_set_max_no_files': True,\n",
       " 'can_set_max_no_files_user': False,\n",
       " 'debug': True,\n",
       " 'max_queued_events': 16384,\n",
       " 'max_user_instances': 128,\n",
       " 'max_user_watches': 1048576,\n",
       " 'max_no_files': 9223372036854775807,\n",
       " 'max_no_files_user': 524288}"
      ]
     },
     "execution_count": 70,
     "metadata": {},
     "output_type": "execute_result"
    }
   ],
   "source": [
    "dict(irm)"
   ]
  },
  {
   "cell_type": "code",
   "execution_count": 71,
   "metadata": {},
   "outputs": [
    {
     "data": {
      "text/plain": [
       "False"
      ]
     },
     "execution_count": 71,
     "metadata": {},
     "output_type": "execute_result"
    }
   ],
   "source": [
    "irm.increaseNoFiles(524288 * 2)"
   ]
  },
  {
   "cell_type": "code",
   "execution_count": 79,
   "metadata": {},
   "outputs": [],
   "source": [
    "def initializeFolderWatchers(inotify_obj:inotify_simple.INotify,monitor_path:str,wdDic:dict,irm:inotify_resource_manager,watch_flags:int):\n",
    "\tirm.increaseUserWatches()\n",
    "\tparentWatchDescriptor = inotify_obj.add_watch(monitor_path, watch_flags)\n",
    "\twdDic[parentWatchDescriptor] = monitor_path\n",
    "\tallFolders = get_all_folders(monitor_path)\n",
    "\tirm.increaseUserWatches(len(allFolders))\n",
    "\tfor folder in allFolders:\n",
    "\t\twdDic[inotify_obj.add_watch(folder, watch_flags)] = folder\n",
    "\treturn parentWatchDescriptor"
   ]
  },
  {
   "cell_type": "code",
   "execution_count": 73,
   "metadata": {},
   "outputs": [],
   "source": [
    "# X\t\tACCESS = 0x00000001  #: File was accessed\n",
    "# Y\tMODIFY = 0x00000002  #: File was modified\n",
    "# Y\tATTRIB = 0x00000004  #: Metadata changed\n",
    "# X\t\tCLOSE_WRITE = 0x00000008  #: Writable file was closed\n",
    "# X\t\tCLOSE_NOWRITE = 0x00000010  #: Unwritable file closed\n",
    "# X\t\tOPEN = 0x00000020  #: File was opened\n",
    "# Y\tMOVED_FROM = 0x00000040  #: File was moved from X\n",
    "# Y\tMOVED_TO = 0x00000080  #: File was moved to Y\n",
    "# Y\tCREATE = 0x00000100  #: Subfile was created\n",
    "# Y\tDELETE = 0x00000200  #: Subfile was deleted\n",
    "# Y\tDELETE_SELF = 0x00000400  #: Self was deleted\n",
    "# Y\tMOVE_SELF = 0x00000800  #: Self was moved\n",
    "\n",
    "# Y\tUNMOUNT = 0x00002000  #: Backing fs was unmounted\n",
    "# Y\tQ_OVERFLOW = 0x00004000  #: Event queue overflowed\n",
    "# X\t\tIGNORED = 0x00008000  #: File was ignored\n",
    "\n",
    "# X\t\tONLYDIR = 0x01000000  #: only watch the path if it is a directory\n",
    "# X\t\tDONT_FOLLOW = 0x02000000  #: don't follow a sym link\n",
    "# X\t\tEXCL_UNLINK = 0x04000000  #: exclude events on unlinked objects\n",
    "# X\t\tMASK_ADD = 0x20000000  #: add to the mask of an already existing watch\n",
    "# Y\tISDIR = 0x40000000  #: event occurred against dir\n",
    "# X\t\tONESHOT = 0x80000000  #: only send event once"
   ]
  },
  {
   "cell_type": "code",
   "execution_count": 74,
   "metadata": {},
   "outputs": [],
   "source": [
    "to_process = deque()\n",
    "to_process_flag = threading.Event()\n",
    "monitor_path = '/tmp/inotify_test'"
   ]
  },
  {
   "cell_type": "code",
   "execution_count": 137,
   "metadata": {},
   "outputs": [],
   "source": [
    "def watchFolder(monitor_path:str,to_process:deque,to_process_flag:threading.Event,irm:inotify_resource_manager):\n",
    "\tglobal COOKIE_DICT_MAX_SIZE\n",
    "\tglobal tl\n",
    "\tflags = inotify_simple.flags\n",
    "\twatch_flags = flags.MODIFY | flags.ATTRIB | flags.MOVED_FROM | flags.MOVED_TO | flags.CREATE | flags.DELETE | flags.DELETE_SELF | flags.MOVE_SELF | flags.UNMOUNT | flags.Q_OVERFLOW\n",
    "\tselfDestructMask = flags.UNMOUNT | flags.DELETE_SELF | flags.MOVE_SELF\n",
    "\tcookieDic = OrderedDict()\n",
    "\twdDic = {}\n",
    "\tirm.increaseUserInstances()\n",
    "\twith inotify_simple.INotify() as inotify_obj:\n",
    "\t\tmainWatchDescriptor = initializeFolderWatchers(inotify_obj,monitor_path,wdDic,irm,watch_flags)\n",
    "\t\twhile GREEN_LIGHT.is_set():\n",
    "\t\t\tevents =  inotify_obj.read(read_delay=1)\n",
    "\t\t\tmonTime = time.monotonic_ns()\n",
    "\t\t\tfor event in events:\n",
    "\t\t\t\tif event.mask & flags.Q_OVERFLOW:\n",
    "\t\t\t\t\ttl.teeerror('Queue overflow, event maybe lost')\n",
    "\t\t\t\t\ttl.teeprint('Attempting to increase inotify max_queued_events')\n",
    "\t\t\t\t\tirm.increaseInotifyMaxQueueEvents(irm.max_queued_events * 2)\n",
    "\t\t\t\t\tcontinue\n",
    "\t\t\t\tif event.mask & selfDestructMask:\n",
    "\t\t\t\t\tif event.wd == mainWatchDescriptor:\n",
    "\t\t\t\t\t\t# if UNMOUNT or IGNORED or DELETE_SELF, MOVE_SELF, return false\n",
    "\t\t\t\t\t\tirm.decreaseUserWatches(len(wdDic))\n",
    "\t\t\t\t\t\tirm.decreaseUserInstances()\n",
    "\t\t\t\t\t\treturn False\n",
    "\t\t\t\t\telif event.mask & flags.DELETE_SELF:\n",
    "\t\t\t\t\t\twdDic.pop(event.wd)\n",
    "\t\t\t\t\t\tirm.decreaseUserWatches()\n",
    "\t\t\t\t\t\tcontinue\n",
    "\t\t\t\t\telif event.mask & flags.UNMOUNT:\n",
    "\t\t\t\t\t\twdDic.pop(event.wd)\n",
    "\t\t\t\t\t\twdDic[inotify_obj.add_watch(wdDic[event.wd], watch_flags)] = wdDic[event.wd]\n",
    "\t\t\t\t\t\tcontinue\n",
    "\t\t\t\tif not event.wd in wdDic:\n",
    "\t\t\t\t\ttl.teeerror('Watch descriptor not found in wdDic, ignoring event')\n",
    "\t\t\t\t\tcontinue\n",
    "\t\t\t\tif not event.name:\n",
    "\t\t\t\t\tcontinue\n",
    "\t\t\t\teventPath = os.path.join(wdDic[event.wd],event.name)\n",
    "\t\t\t\tisDir = True if event.mask & flags.ISDIR else False\n",
    "\t\t\t\tif event.mask & flags.CREATE:\n",
    "\t\t\t\t\tif isDir:\n",
    "\t\t\t\t\t\tinitializeFolderWatchers(inotify_obj,eventPath,wdDic,irm,watch_flags)\n",
    "\t\t\t\t\tto_process.append(ChangeEvent(monTime,isDir,'create',eventPath,None))\n",
    "\t\t\t\telif event.mask & flags.DELETE:\n",
    "\t\t\t\t\tif isDir:\n",
    "\t\t\t\t\t\tinotify_obj.rm_watch(event.wd)\n",
    "\t\t\t\t\t\tdel wdDic[event.wd]\n",
    "\t\t\t\t\t\tirm.decreaseUserWatches()\n",
    "\t\t\t\t\tto_process.append(ChangeEvent(monTime,isDir,'delete',eventPath,None))\n",
    "\t\t\t\telif event.mask & flags.ATTRIB:\n",
    "\t\t\t\t\tto_process.append(ChangeEvent(monTime,isDir,'attrib',eventPath,None))\n",
    "\t\t\t\telif event.mask & flags.MOVED_FROM:\n",
    "\t\t\t\t\tcookieDic[event.cookie] = (event.wd,eventPath,isDir)\n",
    "\t\t\t\t\twhile len(cookieDic) > COOKIE_DICT_MAX_SIZE:\n",
    "\t\t\t\t\t\tcookie,value = cookieDic.popitem(last=False)\n",
    "\t\t\t\t\t\t# treat the move as a delete\n",
    "\t\t\t\t\t\tif value[2]:\n",
    "\t\t\t\t\t\t\tinotify_obj.rm_watch(value[0])\n",
    "\t\t\t\t\t\t\tdel wdDic[value[0]]\n",
    "\t\t\t\t\t\t\tirm.decreaseUserWatches()\n",
    "\t\t\t\t\t\tto_process.append(ChangeEvent(monTime,isDir,'delete',value[1],None))\n",
    "\t\t\t\t\tto_process.append(ChangeEvent(monTime,isDir,'move',eventPath,None))\n",
    "\t\t\t\telif event.mask & flags.MOVED_TO:\n",
    "\t\t\t\t\tif event.cookie in cookieDic:\n",
    "\t\t\t\t\t\tto_process.append(ChangeEvent(monTime,isDir,'move',eventPath,cookieDic[event.cookie][1]))\n",
    "\t\t\t\t\t\tcookieDic.pop(event.cookie)\n",
    "\t\t\t\t\telse:\n",
    "\t\t\t\t\t\tif isDir:\n",
    "\t\t\t\t\t\t\tinitializeFolderWatchers(inotify_obj,eventPath,wdDic,irm,watch_flags)\n",
    "\t\t\t\t\t\tto_process.append(ChangeEvent(monTime,isDir,'create',eventPath,None))\n",
    "\t\t\t\telif event.mask & flags.MODIFY:\n",
    "\t\t\t\t\tto_process.append(ChangeEvent(monTime,isDir,'modify',eventPath,None))\n",
    "\t\t\t\t# else:\n",
    "\t\t\t\t# \ttl.info(f'Unprocessed event {event}')\n",
    "\t\t\tto_process_flag.set()\n"
   ]
  },
  {
   "cell_type": "code",
   "execution_count": null,
   "metadata": {},
   "outputs": [],
   "source": [
    "#watchFolder(monitor_path,to_process,to_process_flag,irm)"
   ]
  },
  {
   "cell_type": "code",
   "execution_count": 143,
   "metadata": {},
   "outputs": [],
   "source": [
    "watchFolderThread = threading.Thread(target=watchFolder,args=(monitor_path,to_process,to_process_flag,irm),daemon=True)\n",
    "watchFolderThread.start()"
   ]
  },
  {
   "cell_type": "code",
   "execution_count": null,
   "metadata": {},
   "outputs": [],
   "source": [
    "def testWatcherOperation(testCMD:list,to_process:deque,to_process_flag:threading.Event):\n",
    "\tmultiCMD.run_command(testCMD)\n",
    "\tto_process_flag.wait(1)\n",
    "\tprint(to_process)\n",
    "\tto_process.clear()\n",
    "\tto_process_flag.clear()\n"
   ]
  },
  {
   "cell_type": "code",
   "execution_count": 144,
   "metadata": {},
   "outputs": [
    {
     "name": "stdout",
     "output_type": "stream",
     "text": [
      "Running command: mkdir /tmp/inotify_test/foo\n",
      "----------------------------------------------------------------------------------------------------\n",
      "\n",
      "----------------------------------------------------------------------------------------------------\n",
      "Process exited with return code 0\n",
      "deque([ChangeEvent(monotonic_time=36841419558418, is_dir=True, event='create', path='/tmp/inotify_test/foo', moved_from=None)])\n",
      "Running command: bash -c echo hello > /tmp/inotify_test/test.txt\n",
      "----------------------------------------------------------------------------------------------------\n",
      "\n",
      "----------------------------------------------------------------------------------------------------\n",
      "Process exited with return code 0\n",
      "deque([ChangeEvent(monotonic_time=36841423653022, is_dir=False, event='create', path='/tmp/inotify_test/test.txt', moved_from=None), ChangeEvent(monotonic_time=36841423653022, is_dir=False, event='modify', path='/tmp/inotify_test/test.txt', moved_from=None)])\n",
      "Running command: bash -c echo world >> /tmp/inotify_test/test.txt\n",
      "----------------------------------------------------------------------------------------------------\n",
      "\n",
      "----------------------------------------------------------------------------------------------------\n",
      "Process exited with return code 0\n",
      "deque([ChangeEvent(monotonic_time=36841427358606, is_dir=False, event='modify', path='/tmp/inotify_test/test.txt', moved_from=None)])\n",
      "Running command: bash -c mv /tmp/inotify_test/test.txt /tmp/inotify_test/test2.txt\n",
      "----------------------------------------------------------------------------------------------------\n",
      "\n",
      "----------------------------------------------------------------------------------------------------\n",
      "Process exited with return code 0\n",
      "deque([ChangeEvent(monotonic_time=36841435659724, is_dir=False, event='move', path='/tmp/inotify_test/test.txt', moved_from=None), ChangeEvent(monotonic_time=36841435659724, is_dir=False, event='move', path='/tmp/inotify_test/test2.txt', moved_from='/tmp/inotify_test/test.txt')])\n",
      "Running command: bash -c mv /tmp/inotify_test/test2.txt /tmp/outside.txt\n",
      "----------------------------------------------------------------------------------------------------\n",
      "\n",
      "----------------------------------------------------------------------------------------------------\n",
      "Process exited with return code 0\n",
      "deque([ChangeEvent(monotonic_time=36841441029301, is_dir=False, event='move', path='/tmp/inotify_test/test2.txt', moved_from=None)])\n",
      "Running command: bash -c echo hello > /tmp/outside2.txt\n",
      "----------------------------------------------------------------------------------------------------\n",
      "\n",
      "----------------------------------------------------------------------------------------------------\n",
      "Process exited with return code 0\n",
      "deque([])\n",
      "Running command: bash -c mv /tmp/outside2.txt /tmp/inotify_test/test2.txt\n",
      "----------------------------------------------------------------------------------------------------\n",
      "\n",
      "----------------------------------------------------------------------------------------------------\n",
      "Process exited with return code 0\n",
      "deque([ChangeEvent(monotonic_time=36842450584527, is_dir=False, event='create', path='/tmp/inotify_test/test2.txt', moved_from=None)])\n",
      "Running command: bash -c mv /tmp/inotify_test/test2.txt /tmp/outside3.txt\n",
      "----------------------------------------------------------------------------------------------------\n",
      "\n",
      "----------------------------------------------------------------------------------------------------\n",
      "Process exited with return code 0\n",
      "deque([ChangeEvent(monotonic_time=36842454482943, is_dir=False, event='move', path='/tmp/inotify_test/test2.txt', moved_from=None)])\n",
      "Running command: bash -c mv /tmp/outside3.txt /tmp/inotify_test/test3.txt\n",
      "----------------------------------------------------------------------------------------------------\n",
      "\n",
      "----------------------------------------------------------------------------------------------------\n",
      "Process exited with return code 0\n",
      "deque([ChangeEvent(monotonic_time=36842459534953, is_dir=False, event='create', path='/tmp/inotify_test/test3.txt', moved_from=None)])\n",
      "Running command: bash -c rm /tmp/inotify_test/test3.txt\n",
      "----------------------------------------------------------------------------------------------------\n",
      "\n",
      "----------------------------------------------------------------------------------------------------\n",
      "Process exited with return code 0\n",
      "deque([ChangeEvent(monotonic_time=36842466171928, is_dir=False, event='delete', path='/tmp/inotify_test/test3.txt', moved_from=None)])\n",
      "Running command: bash -c echo hi >> /tmp/inotify_test/foo/test_rec.txt\n",
      "----------------------------------------------------------------------------------------------------\n",
      "\n",
      "----------------------------------------------------------------------------------------------------\n",
      "Process exited with return code 0\n",
      "deque([ChangeEvent(monotonic_time=36842470178096, is_dir=False, event='create', path='/tmp/inotify_test/foo/test_rec.txt', moved_from=None), ChangeEvent(monotonic_time=36842470178096, is_dir=False, event='modify', path='/tmp/inotify_test/foo/test_rec.txt', moved_from=None)])\n",
      "Running command: bash -c mv /tmp/inotify_test/foo /tmp/inotify_test/bar\n",
      "----------------------------------------------------------------------------------------------------\n",
      "\n",
      "----------------------------------------------------------------------------------------------------\n",
      "Process exited with return code 0\n",
      "deque([ChangeEvent(monotonic_time=36842475493090, is_dir=True, event='move', path='/tmp/inotify_test/foo', moved_from=None), ChangeEvent(monotonic_time=36842475493090, is_dir=True, event='move', path='/tmp/inotify_test/bar', moved_from='/tmp/inotify_test/foo')])\n",
      "Running command: bash -c touch /tmp/inotify_test/bar/test.txt\n",
      "----------------------------------------------------------------------------------------------------\n",
      "\n",
      "----------------------------------------------------------------------------------------------------\n",
      "Process exited with return code 0\n",
      "deque([ChangeEvent(monotonic_time=36842479985431, is_dir=False, event='create', path='/tmp/inotify_test/foo/test.txt', moved_from=None), ChangeEvent(monotonic_time=36842479985431, is_dir=False, event='attrib', path='/tmp/inotify_test/foo/test.txt', moved_from=None)])\n",
      "Running command: bash -c echo hello > /tmp/inotify_test/bar/test.txt\n",
      "----------------------------------------------------------------------------------------------------\n",
      "\n",
      "----------------------------------------------------------------------------------------------------\n",
      "Process exited with return code 0\n",
      "deque([ChangeEvent(monotonic_time=36842483826890, is_dir=False, event='modify', path='/tmp/inotify_test/foo/test.txt', moved_from=None)])\n",
      "Running command: bash -c mv /tmp/inotify_test/bar/test.txt /tmp/inotify_test/bar/test2.txt\n",
      "----------------------------------------------------------------------------------------------------\n",
      "\n",
      "----------------------------------------------------------------------------------------------------\n",
      "Process exited with return code 0\n",
      "deque([ChangeEvent(monotonic_time=36842488788911, is_dir=False, event='move', path='/tmp/inotify_test/foo/test.txt', moved_from=None), ChangeEvent(monotonic_time=36842488788911, is_dir=False, event='move', path='/tmp/inotify_test/foo/test2.txt', moved_from='/tmp/inotify_test/foo/test.txt')])\n",
      "Running command: bash -c mv /tmp/inotify_test/bar/test2.txt /tmp/inotify_test/test2_move_out.txt\n",
      "----------------------------------------------------------------------------------------------------\n",
      "\n",
      "----------------------------------------------------------------------------------------------------\n",
      "Process exited with return code 0\n",
      "deque([ChangeEvent(monotonic_time=36842494196670, is_dir=False, event='move', path='/tmp/inotify_test/foo/test2.txt', moved_from=None), ChangeEvent(monotonic_time=36842494196670, is_dir=False, event='move', path='/tmp/inotify_test/test2_move_out.txt', moved_from='/tmp/inotify_test/foo/test2.txt')])\n",
      "Running command: bash -c sudo mount -t tmpfs tmpfs /tmp/inotify_test/bar\n",
      "----------------------------------------------------------------------------------------------------\n",
      "\n",
      "----------------------------------------------------------------------------------------------------\n",
      "Process exited with return code 0\n",
      "deque([])\n",
      "Running command: bash -c touch /tmp/inotify_test/bar/test_temp.txt\n",
      "----------------------------------------------------------------------------------------------------\n",
      "\n",
      "----------------------------------------------------------------------------------------------------\n",
      "Process exited with return code 0\n",
      "deque([])\n",
      "Running command: bash -c sudo umount /tmp/inotify_test/bar\n",
      "----------------------------------------------------------------------------------------------------\n",
      "\n",
      "----------------------------------------------------------------------------------------------------\n",
      "Process exited with return code 0\n",
      "deque([])\n",
      "Running command: bash -c touch /tmp/inotify_test/bar/test_temp.txt\n",
      "----------------------------------------------------------------------------------------------------\n",
      "\n",
      "----------------------------------------------------------------------------------------------------\n",
      "Process exited with return code 0\n",
      "deque([ChangeEvent(monotonic_time=36845963670359, is_dir=False, event='create', path='/tmp/inotify_test/foo/test_temp.txt', moved_from=None), ChangeEvent(monotonic_time=36845963670359, is_dir=False, event='attrib', path='/tmp/inotify_test/foo/test_temp.txt', moved_from=None)])\n",
      "Running command: bash -c touch /tmp/inotify_test/bar\n",
      "----------------------------------------------------------------------------------------------------\n",
      "\n",
      "----------------------------------------------------------------------------------------------------\n",
      "Process exited with return code 0\n",
      "deque([ChangeEvent(monotonic_time=36845967753472, is_dir=True, event='attrib', path='/tmp/inotify_test/bar', moved_from=None)])\n",
      "Running command: bash -c mkdir -p /tmp/inotify_test/test/testrecursive/\n",
      "----------------------------------------------------------------------------------------------------\n",
      "\n",
      "----------------------------------------------------------------------------------------------------\n",
      "Process exited with return code 0\n",
      "deque([ChangeEvent(monotonic_time=36845972659809, is_dir=True, event='create', path='/tmp/inotify_test/test', moved_from=None)])\n",
      "Running command: bash -c touch /tmp/inotify_test/test/testrecursive/test.t\n",
      "----------------------------------------------------------------------------------------------------\n",
      "\n",
      "----------------------------------------------------------------------------------------------------\n",
      "Process exited with return code 0\n",
      "deque([ChangeEvent(monotonic_time=36845977937363, is_dir=False, event='create', path='/tmp/inotify_test/test/testrecursive/test.t', moved_from=None), ChangeEvent(monotonic_time=36845977937363, is_dir=False, event='attrib', path='/tmp/inotify_test/test/testrecursive/test.t', moved_from=None)])\n",
      "Running command: bash -c mv /tmp/inotify_test /tmp/inotify_test_2\n",
      "----------------------------------------------------------------------------------------------------\n",
      "\n",
      "----------------------------------------------------------------------------------------------------\n",
      "Process exited with return code 0\n",
      "deque([])\n",
      "Running command: bash -c rm -rf /tmp/inotify_test_2\n",
      "----------------------------------------------------------------------------------------------------\n",
      "\n",
      "----------------------------------------------------------------------------------------------------\n",
      "Process exited with return code 0\n",
      "deque([])\n",
      "Running command: bash -c mkdir /tmp/inotify_test\n",
      "----------------------------------------------------------------------------------------------------\n",
      "\n",
      "----------------------------------------------------------------------------------------------------\n",
      "Process exited with return code 0\n",
      "deque([])\n"
     ]
    }
   ],
   "source": [
    "testWatcherOperation(['mkdir','/tmp/inotify_test/foo'],to_process,to_process_flag)\n",
    "testWatcherOperation(['bash','-c','echo hello > /tmp/inotify_test/test.txt'],to_process,to_process_flag)\n",
    "testWatcherOperation(['bash','-c','echo world >> /tmp/inotify_test/test.txt'],to_process,to_process_flag)\n",
    "testWatcherOperation(['bash','-c','mv /tmp/inotify_test/test.txt /tmp/inotify_test/test2.txt'],to_process,to_process_flag)\n",
    "testWatcherOperation(['bash','-c','mv /tmp/inotify_test/test2.txt /tmp/outside.txt'],to_process,to_process_flag)\n",
    "testWatcherOperation(['bash','-c','echo hello > /tmp/outside2.txt'],to_process,to_process_flag)\n",
    "testWatcherOperation(['bash','-c','mv /tmp/outside2.txt /tmp/inotify_test/test2.txt'],to_process,to_process_flag)\n",
    "testWatcherOperation(['bash','-c','mv /tmp/inotify_test/test2.txt /tmp/outside3.txt'],to_process,to_process_flag)\n",
    "testWatcherOperation(['bash','-c','mv /tmp/outside3.txt /tmp/inotify_test/test3.txt'],to_process,to_process_flag)\n",
    "testWatcherOperation(['bash','-c','rm /tmp/inotify_test/test3.txt'],to_process,to_process_flag)\n",
    "testWatcherOperation(['bash','-c','echo hi >> /tmp/inotify_test/foo/test_rec.txt'],to_process,to_process_flag)\n",
    "testWatcherOperation(['bash','-c','mv /tmp/inotify_test/foo /tmp/inotify_test/bar'],to_process,to_process_flag)\n",
    "testWatcherOperation(['bash','-c','touch /tmp/inotify_test/bar/test.txt'],to_process,to_process_flag)\n",
    "testWatcherOperation(['bash','-c','echo hello > /tmp/inotify_test/bar/test.txt'],to_process,to_process_flag)\n",
    "testWatcherOperation(['bash','-c','mv /tmp/inotify_test/bar/test.txt /tmp/inotify_test/bar/test2.txt'],to_process,to_process_flag)\n",
    "testWatcherOperation(['bash','-c','mv /tmp/inotify_test/bar/test2.txt /tmp/inotify_test/test2_move_out.txt'],to_process,to_process_flag)\n",
    "testWatcherOperation(['bash','-c','sudo mount -t tmpfs tmpfs /tmp/inotify_test/bar'],to_process,to_process_flag)\n",
    "testWatcherOperation(['bash','-c','touch /tmp/inotify_test/bar/test_temp.txt'],to_process,to_process_flag)\n",
    "testWatcherOperation(['bash','-c','sudo umount /tmp/inotify_test/bar'],to_process,to_process_flag)\n",
    "testWatcherOperation(['bash','-c','touch /tmp/inotify_test/bar/test_temp.txt'],to_process,to_process_flag)\n",
    "testWatcherOperation(['bash','-c','touch /tmp/inotify_test/bar'],to_process,to_process_flag)\n",
    "testWatcherOperation(['bash','-c','mkdir -p /tmp/inotify_test/test/testrecursive/'],to_process,to_process_flag)\n",
    "testWatcherOperation(['bash','-c','touch /tmp/inotify_test/test/testrecursive/test.t'],to_process,to_process_flag)\n",
    "testWatcherOperation(['bash','-c','mv /tmp/inotify_test /tmp/inotify_test_2'],to_process,to_process_flag)\n",
    "testWatcherOperation(['bash','-c','rm -rf /tmp/inotify_test_2'],to_process,to_process_flag)\n",
    "testWatcherOperation(['bash','-c','mkdir /tmp/inotify_test'],to_process,to_process_flag)"
   ]
  },
  {
   "cell_type": "code",
   "execution_count": 147,
   "metadata": {},
   "outputs": [
    {
     "data": {
      "text/plain": [
       "False"
      ]
     },
     "execution_count": 147,
     "metadata": {},
     "output_type": "execute_result"
    }
   ],
   "source": [
    "watchFolderThread.is_alive()"
   ]
  },
  {
   "cell_type": "code",
   "execution_count": 145,
   "metadata": {},
   "outputs": [
    {
     "data": {
      "text/plain": [
       "deque([])"
      ]
     },
     "execution_count": 145,
     "metadata": {},
     "output_type": "execute_result"
    }
   ],
   "source": [
    "to_process"
   ]
  },
  {
   "cell_type": "code",
   "execution_count": 146,
   "metadata": {},
   "outputs": [
    {
     "data": {
      "text/plain": [
       "<threading.Event at 0x7f5e11a47f50: unset>"
      ]
     },
     "execution_count": 146,
     "metadata": {},
     "output_type": "execute_result"
    }
   ],
   "source": [
    "to_process_flag"
   ]
  }
 ],
 "metadata": {
  "kernelspec": {
   "display_name": ".venv",
   "language": "python",
   "name": "python3"
  },
  "language_info": {
   "codemirror_mode": {
    "name": "ipython",
    "version": 3
   },
   "file_extension": ".py",
   "mimetype": "text/x-python",
   "name": "python",
   "nbconvert_exporter": "python",
   "pygments_lexer": "ipython3",
   "version": "3.13.2"
  }
 },
 "nbformat": 4,
 "nbformat_minor": 2
}
